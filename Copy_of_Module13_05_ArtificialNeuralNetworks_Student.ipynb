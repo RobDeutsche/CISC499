{
  "nbformat": 4,
  "nbformat_minor": 0,
  "metadata": {
    "kernelspec": {
      "display_name": "Python 3",
      "language": "python",
      "name": "python3"
    },
    "language_info": {
      "codemirror_mode": {
        "name": "ipython",
        "version": 3
      },
      "file_extension": ".py",
      "mimetype": "text/x-python",
      "name": "python",
      "nbconvert_exporter": "python",
      "pygments_lexer": "ipython3",
      "version": "3.6.7"
    },
    "colab": {
      "name": "Copy of Module13-05-ArtificialNeuralNetworks-Student.ipynb",
      "provenance": [],
      "collapsed_sections": [
        "Hf10co_5j_Eh",
        "7fG3v66Cj_Ei"
      ],
      "include_colab_link": true
    }
  },
  "cells": [
    {
      "cell_type": "markdown",
      "metadata": {
        "id": "view-in-github",
        "colab_type": "text"
      },
      "source": [
        "<a href=\"https://colab.research.google.com/github/RobDeutsche/CISC499/blob/main/Copy_of_Module13_05_ArtificialNeuralNetworks_Student.ipynb\" target=\"_parent\"><img src=\"https://colab.research.google.com/assets/colab-badge.svg\" alt=\"Open In Colab\"/></a>"
      ]
    },
    {
      "cell_type": "markdown",
      "metadata": {
        "id": "mJUfJlfpj_EB"
      },
      "source": [
        "# Artificial Neural Networks"
      ]
    },
    {
      "cell_type": "markdown",
      "metadata": {
        "id": "mYAm27OCj_EJ"
      },
      "source": [
        "Have you ever wondered how we process and learn information? For example, how does our body process information such that we are able to move our hands or legs? To put it simply, the brain will process information and then send out signals to the rest of the body to trigger certain muscle movements. These signals are transported through the nervous system. One of the main components of the nervous system are neuron cells. These cells work on a threshold basis which means that the signal will only be transferred from cells to cells if it is higher than a certain value or amount. As such, when we decide to move our hands, the signals from the brain will get transferred to the muscle in our hands and not the muscle in our legs.\n",
        "\n",
        "### Training Artificial Neural Networks\n",
        "However, this only explains how we process information. How about the ability of humans to learn? For example, why do we know to stop at a red light or how to kick a ball? It is because we were trained to do so by looking at examples or how other people were doing it. Through these examples, we were able to learn and remember.\n",
        "\n",
        "Would it be great if computers were able to mimic the way humans process and learn information? With artificial neural network, this can be done! Artificial neural networks are able to process and 'learn' complex relationships within datasets. An illustration of a simple neural network is shown below.\n",
        "\n",
        "The basic idea is that we input data into the input layer. Data will be processed in the subsequent hidden layer(s) - we only show one hidden layer on the picture below, but it can be many layers. Each layer is made of multiple artificial neurons which apply functions to the data and pass it on to another hidden layer, finally ending with the output layer. "
      ]
    },
    {
      "cell_type": "markdown",
      "metadata": {
        "id": "10NQZsEjj_EM"
      },
      "source": [
        "<img src = \"https://lrccd.instructure.com/files/30587079/download?download_frd=1\">"
      ]
    },
    {
      "cell_type": "markdown",
      "metadata": {
        "id": "vZzImj2sj_EO"
      },
      "source": [
        "The illustration above shows a simple neural network with 1 input layer, 1 hidden layer (in between an input layer and an output layer) and 1 output layer. Each circle represent 1 node or 1 neuron. We usually do not discuss the number of nodes at the input layer within the model architecture as the input layer is just the data that is being passed to the model. Thus, the hidden layer has 4 nodes/neurons and the output layer has 1 node/neuron. \n",
        "\n",
        "The output layer will show the results of the neural network."
      ]
    },
    {
      "cell_type": "markdown",
      "metadata": {
        "id": "nhHX_jvMj_EP"
      },
      "source": [
        "How does the neural network work? How can they be useful for machine learning project? Watch this [video](https://www.youtube.com/watch?v=aircAruvnKk) to find out more about artificial neural networks. Pause the video and take time to try and understand how the neural network works."
      ]
    },
    {
      "cell_type": "markdown",
      "metadata": {
        "id": "2nKks9onj_EU"
      },
      "source": [
        "# Training the neural network"
      ]
    },
    {
      "cell_type": "markdown",
      "metadata": {
        "id": "w_fxqIzXj_EV"
      },
      "source": [
        "After understanding the different features of an artificial neural network, one question that still remains is how does the network \"learn\"?\n",
        "\n",
        "Take for example a young basketball player who is learning to shoot a 3-point shot. If he shoots and he misses because the shot is too short, the basketball player will adjust and increase the strength of the next shot. If the next shot now is too far right of the basket, the player will again adjust his shot to shoot more towards the center. The player continues to do this until the shot is made. The player then remembers the exact strength and shot direction when shooting 3-point shots in future.\n",
        "\n",
        "This is similar to how neural networks are trained. First, the data is passed through the network and a predicted output is given. This is known as a forward propagation. The predicted output is then compared to the actual output of the data and the differences between the predicted and actual will be passed backwards through the model. During the backward pass, adjustments will be made within the model such that the differences between prediction output and actual output will be reduced. This is known as the backpropagation. After the adjustments are made, data will be passed through from the input layer again and another predicted output will be made. The new predicted output will be compared to the actual output again and the differences will be passed backwards through the model. More adjustments will be made within the model.\n",
        "\n",
        "The process of forward propagation and backpropagation will be repeated until the differences between predicted output and the actual output are minimised. The model is now trained and can be used for prediction of other similar datasets."
      ]
    },
    {
      "cell_type": "markdown",
      "metadata": {
        "id": "q8ptx0c0j_EX"
      },
      "source": [
        "Can you think of another example in your life that is similar to the way the neural networks are trained?"
      ]
    },
    {
      "cell_type": "code",
      "metadata": {
        "id": "JnP5pQToj_Ea"
      },
      "source": [
        "# your answer here"
      ],
      "execution_count": null,
      "outputs": []
    },
    {
      "cell_type": "markdown",
      "metadata": {
        "id": "MfsLj5Myj_Eb"
      },
      "source": [
        "Here is another example to help you understand neural networks better. You have been tasked to bake a cake for your father's birthday. You follow the basic cookbook and come up with a basic cake. As you want your cake to be the best cake anyone has eaten, you approach your mother for a taste test. Your mother replies that the cake is too sweet and slightly burnt. Thus, you try and adjust the amount of sugar and also the time the cake spent in the oven. Next, you will then bake another cake with your new recipe and baking time before doing another taste test with your mother. This continues until you get the perfect cake.\n",
        "\n",
        "The first steps to bake the cake are similar to the forward propagation step within the artificial neural network. The taste test is similar to the comparison of a predicted output to the actual output. The adjustment of the amount of sugar and baking time is similar to backpropagation within the neural network. The repetition in the steps are similar to the full training process of the model.\n",
        "\n",
        "To have a better visualisation of how backpropagation works, watch this [video](https://www.youtube.com/watch?v=Ilg3gGewQ5U) and take down any information that interests you."
      ]
    },
    {
      "cell_type": "markdown",
      "metadata": {
        "id": "FkryGcSaj_Ec"
      },
      "source": [
        "<font color=blue>Bonus: You are not required to understand the actual adjustments within the model. However, if you are mathematically inclined or really interested in understanding all the adjustments and have time, you can watch the 2 videos listed below.</font>\n",
        "- [video 1](https://www.youtube.com/watch?v=IHZwWFHWa-w)\n",
        "- [video 2](https://www.youtube.com/watch?v=tIeHLnjs5U8)"
      ]
    },
    {
      "cell_type": "markdown",
      "metadata": {
        "id": "nmHcL0LIj_Ee"
      },
      "source": [
        "# Training a neural network with the Iris Flower dataset"
      ]
    },
    {
      "cell_type": "markdown",
      "metadata": {
        "id": "RdxW7Gnzj_Ef"
      },
      "source": [
        "Let's try training the neural network using the Iris Flower dataset!\n",
        "\n",
        "## 1. Import required Libraries\n",
        "Firstly, we will import the required libraries: pandas and numpy to provide data structure, and scikit learn to gain access to artificial neural network. "
      ]
    },
    {
      "cell_type": "code",
      "metadata": {
        "id": "EDAHsmMvj_Ef"
      },
      "source": [
        "#Importing required Libraries\n",
        "import pandas as pd\n",
        "import numpy as np\n",
        "from sklearn.preprocessing import StandardScaler"
      ],
      "execution_count": 22,
      "outputs": []
    },
    {
      "cell_type": "markdown",
      "metadata": {
        "id": "K1riJtm0j_Eg"
      },
      "source": [
        "<img src = \"https://lrccd.instructure.com/files/30334689/download?download_frd=1\">"
      ]
    },
    {
      "cell_type": "markdown",
      "metadata": {
        "id": "Hf10co_5j_Eh"
      },
      "source": [
        "## 2. Obtain and explore dataset\n",
        "\n",
        "Import the Iris Flower dataset as a dataframe df below. \n",
        "The file should be iris.data. \n",
        "\n",
        "Remember to include the headers for all the columns. \n",
        "\n",
        "Refer to the picture (source: https://www.researchgate.net/figure/Trollius-ranunculoide-flower-with-measured-traits_fig6_272514310) above to understand the variables. \n",
        "\n",
        "We'll first explore the data. Do you remember how this is done?\n",
        "1. Open the csv file and put it into a dataframe.\n",
        "2. Include headers\n",
        "3. Use .info() and .describe() to see basic information about the dataset\n",
        "\n",
        "Check for any missing values or erroneous data. Are there any missing data?\n",
        "Tip: See HW12 Solution here https://lrccd.instructure.com/courses/138956/modules/items/9529594"
      ]
    },
    {
      "cell_type": "code",
      "metadata": {
        "id": "DHaueVgOj_Eh",
        "colab": {
          "base_uri": "https://localhost:8080/"
        },
        "outputId": "8bab7c43-3921-47ad-b80a-a6c072269502"
      },
      "source": [
        "#Importing csv and defining columns\n",
        "import urllib.request\n",
        "urllib.request.urlretrieve(\"http://archive.ics.uci.edu/ml/machine-learning-databases/iris/iris.data\", './iris.data')\n",
        "\n",
        "df = pd.read_csv(\"./iris.data\",header=None) \n",
        "names = ['sepal_length','sepal_width','petal_length','petal_width', 'class']\n",
        "df.columns = names\n",
        "print(df.info())\n",
        "print(df.describe())\n"
      ],
      "execution_count": 23,
      "outputs": [
        {
          "output_type": "stream",
          "name": "stdout",
          "text": [
            "<class 'pandas.core.frame.DataFrame'>\n",
            "RangeIndex: 150 entries, 0 to 149\n",
            "Data columns (total 5 columns):\n",
            " #   Column        Non-Null Count  Dtype  \n",
            "---  ------        --------------  -----  \n",
            " 0   sepal_length  150 non-null    float64\n",
            " 1   sepal_width   150 non-null    float64\n",
            " 2   petal_length  150 non-null    float64\n",
            " 3   petal_width   150 non-null    float64\n",
            " 4   class         150 non-null    object \n",
            "dtypes: float64(4), object(1)\n",
            "memory usage: 6.0+ KB\n",
            "None\n",
            "       sepal_length  sepal_width  petal_length  petal_width\n",
            "count    150.000000   150.000000    150.000000   150.000000\n",
            "mean       5.843333     3.054000      3.758667     1.198667\n",
            "std        0.828066     0.433594      1.764420     0.763161\n",
            "min        4.300000     2.000000      1.000000     0.100000\n",
            "25%        5.100000     2.800000      1.600000     0.300000\n",
            "50%        5.800000     3.000000      4.350000     1.300000\n",
            "75%        6.400000     3.300000      5.100000     1.800000\n",
            "max        7.900000     4.400000      6.900000     2.500000\n"
          ]
        }
      ]
    },
    {
      "cell_type": "markdown",
      "metadata": {
        "id": "7fG3v66Cj_Ei"
      },
      "source": [
        "## 3. Determine features and target values\n",
        "\n",
        "Now, we have to split the datset into the x values (features which the model can learn relationships from) and the y values (target values or expected output from the model). \n",
        "\n",
        "### Standardization\n",
        "We would also have to standardize the dataset. \n",
        "What is standardization for? To understand this, look at the distribution of data above! Notice the different mean and standard deviation. Comparing between these variables will be difficult. Standardization helps us to equalize these various distributions into a common mean and standart deviation, so that we can compare them easily. Refer to the [standardscaler graph here](http://benalexkeen.com/feature-scaling-with-scikit-learn/). See how data changed before and after scaling. \n",
        "\n",
        "\n",
        "This is to allow neural networks to classify easily. The code below will extract out the x values as x_values and also standardise the values. We will extract the y_values later. Run the code below!"
      ]
    },
    {
      "cell_type": "code",
      "metadata": {
        "id": "Hzb_jLK9j_Ej",
        "colab": {
          "base_uri": "https://localhost:8080/"
        },
        "outputId": "9ae57b70-600d-4a57-9fb9-b808c3f031e0"
      },
      "source": [
        "x_values = df[['sepal_length','sepal_width','petal_length','petal_width']]\n",
        "print(x_values.head())\n",
        "standardise = StandardScaler() # the standardscaler will transform your data such that its distribution will have a mean value 0 and standard deviation of 1\n",
        "x_values = standardise.fit_transform(x_values)\n",
        "x_values_df = pd.DataFrame(x_values)"
      ],
      "execution_count": 24,
      "outputs": [
        {
          "output_type": "stream",
          "name": "stdout",
          "text": [
            "   sepal_length  sepal_width  petal_length  petal_width\n",
            "0           5.1          3.5           1.4          0.2\n",
            "1           4.9          3.0           1.4          0.2\n",
            "2           4.7          3.2           1.3          0.2\n",
            "3           4.6          3.1           1.5          0.2\n",
            "4           5.0          3.6           1.4          0.2\n"
          ]
        }
      ]
    },
    {
      "cell_type": "markdown",
      "metadata": {
        "id": "P8yPWBxSj_Ek"
      },
      "source": [
        "Compare this standardized dataset to the original one"
      ]
    },
    {
      "cell_type": "code",
      "metadata": {
        "id": "NvCfe-xLj_Ek",
        "colab": {
          "base_uri": "https://localhost:8080/"
        },
        "outputId": "2766da19-96c2-4def-d76c-4b76e5816b61"
      },
      "source": [
        "print(x_values_df.head())"
      ],
      "execution_count": 25,
      "outputs": [
        {
          "output_type": "stream",
          "name": "stdout",
          "text": [
            "          0         1         2         3\n",
            "0 -0.900681  1.032057 -1.341272 -1.312977\n",
            "1 -1.143017 -0.124958 -1.341272 -1.312977\n",
            "2 -1.385353  0.337848 -1.398138 -1.312977\n",
            "3 -1.506521  0.106445 -1.284407 -1.312977\n",
            "4 -1.021849  1.263460 -1.341272 -1.312977\n"
          ]
        }
      ]
    },
    {
      "cell_type": "markdown",
      "metadata": {
        "id": "PoggoKiIj_El"
      },
      "source": [
        "Use the .describe function to find out what is the current mean and std value of the standardized dataset!"
      ]
    },
    {
      "cell_type": "code",
      "metadata": {
        "id": "NnSP2bibj_Em",
        "colab": {
          "base_uri": "https://localhost:8080/"
        },
        "outputId": "4a46338b-d1a1-4b49-cc85-17052c4f9fa0"
      },
      "source": [
        "print(x_values_df.describe())"
      ],
      "execution_count": 26,
      "outputs": [
        {
          "output_type": "stream",
          "name": "stdout",
          "text": [
            "                  0             1             2             3\n",
            "count  1.500000e+02  1.500000e+02  1.500000e+02  1.500000e+02\n",
            "mean  -2.775558e-16 -5.140333e-16  1.154632e-16  9.251859e-16\n",
            "std    1.003350e+00  1.003350e+00  1.003350e+00  1.003350e+00\n",
            "min   -1.870024e+00 -2.438987e+00 -1.568735e+00 -1.444450e+00\n",
            "25%   -9.006812e-01 -5.877635e-01 -1.227541e+00 -1.181504e+00\n",
            "50%   -5.250608e-02 -1.249576e-01  3.362659e-01  1.332259e-01\n",
            "75%    6.745011e-01  5.692513e-01  7.627586e-01  7.905908e-01\n",
            "max    2.492019e+00  3.114684e+00  1.786341e+00  1.710902e+00\n"
          ]
        }
      ]
    },
    {
      "cell_type": "markdown",
      "metadata": {
        "id": "9tq5xd0pj_En"
      },
      "source": [
        "## 4. Build the neural network\n",
        "\n",
        "We can now build a simple neural network. In order to do so, we will need to import the dense and sequential functions from keras library. \n",
        "\n",
        "### Sequential\n",
        "The Sequential model allows you to first create an empty model object, and then add layers to it one after another in sequence.\n",
        "\n",
        "### Dense\n",
        "A dense layer is simply a layer of neurons in the neural network. "
      ]
    },
    {
      "cell_type": "code",
      "metadata": {
        "id": "jHmuNnyNj_Eo"
      },
      "source": [
        "from keras.models import Sequential\n",
        "from keras.layers import Dense"
      ],
      "execution_count": 27,
      "outputs": []
    },
    {
      "cell_type": "markdown",
      "metadata": {
        "id": "PMI4HRQKj_Eo"
      },
      "source": [
        "Let us build a neural network with 1 input layer, 2 hidden layers and 1 output layer. There are no rules to decide how many nodes should be within the hidden layers. \n",
        "\n",
        "For this neural network, we will use 6 hidden nodes for each hidden layer. \n",
        "\n",
        "With regards to the output layer, we should use as many nodes as the number of classes. How many nodes should we use for the output?"
      ]
    },
    {
      "cell_type": "code",
      "metadata": {
        "id": "ScDy-pAaj_Ep"
      },
      "source": [
        "# Three.  If we have three classes of flower, then the output layer should have one node per class."
      ],
      "execution_count": null,
      "outputs": []
    },
    {
      "cell_type": "markdown",
      "metadata": {
        "id": "S7bObREhj_Er"
      },
      "source": [
        "Try the code below to build the artificial neural network."
      ]
    },
    {
      "cell_type": "code",
      "metadata": {
        "id": "YoY_vkFsj_Er"
      },
      "source": [
        "# Initialise the neural network as model\n",
        "model = Sequential()\n",
        "\n",
        "# Add the first hidden layer with 6 nodes. Input_dim refers to the number of columns/number of features in x_values or the input layer.\n",
        "# Activation refers to how the nodes/neurons are activated. We will use relu (Rectified Linear Unit). Other common activations are 'sigmoid' and 'tanh'\n",
        "model.add(Dense(6,input_dim=4,activation='relu'))\n",
        "\n",
        "# Add the hidden layer with 6 nodes. \n",
        "model.add(Dense(6,activation='relu'))\n",
        "\n",
        "# Add the output layer with 3 nodes. The activation used has to be 'softmax'. Softmax is used when you are dealing with categorical outputs or targets. \n",
        "model.add(Dense(3,activation='softmax'))\n",
        "\n",
        "# Compile the model together. The optimizer refers to the method to make the adjustment within the model. Loss refers to how the difference between the predicted out \n",
        "model.compile(optimizer='adam',loss='categorical_crossentropy',metrics=['accuracy'])"
      ],
      "execution_count": 28,
      "outputs": []
    },
    {
      "cell_type": "markdown",
      "metadata": {
        "id": "YqZ_qr6Fj_Es"
      },
      "source": [
        "Optional: [Comparisons between activation functions](http://www.machineintellegence.com/different-types-of-activation-functions-in-keras/)\n",
        "You've learnt about ReLu earlier in Acquire-CV. There are many more activation functions. They are like [on-off buttons](https://en.wikipedia.org/wiki/Activation_function) to allow certain data/input to follow through the neurons or not. You are not expected to know the functions in detail for now. "
      ]
    },
    {
      "cell_type": "markdown",
      "metadata": {
        "id": "qTjYa_Zvj_Es"
      },
      "source": [
        "We can also print out the model summary after it has been compiled. Try the code below to see:\n",
        "- The layers and their order in the model.\n",
        "- The output shape of each layer.\n",
        "- The number of parameters (weights) in each layer.\n",
        "- The total number of parameters (weights) in the model."
      ]
    },
    {
      "cell_type": "code",
      "metadata": {
        "id": "MTRuo9p4j_Et",
        "colab": {
          "base_uri": "https://localhost:8080/"
        },
        "outputId": "2f587aee-8df4-46b7-bb5d-17e8eab6b21d"
      },
      "source": [
        "model.summary()"
      ],
      "execution_count": 29,
      "outputs": [
        {
          "output_type": "stream",
          "name": "stdout",
          "text": [
            "Model: \"sequential_1\"\n",
            "_________________________________________________________________\n",
            " Layer (type)                Output Shape              Param #   \n",
            "=================================================================\n",
            " dense_3 (Dense)             (None, 6)                 30        \n",
            "                                                                 \n",
            " dense_4 (Dense)             (None, 6)                 42        \n",
            "                                                                 \n",
            " dense_5 (Dense)             (None, 3)                 21        \n",
            "                                                                 \n",
            "=================================================================\n",
            "Total params: 93\n",
            "Trainable params: 93\n",
            "Non-trainable params: 0\n",
            "_________________________________________________________________\n"
          ]
        }
      ]
    },
    {
      "cell_type": "markdown",
      "metadata": {
        "id": "Gmf33cVwj_Eu"
      },
      "source": [
        "As the y_values are categorical in nature (categories instead of numbers), we have to convert the y_values from categories into numbers before we can train the neural network. For neural networks, if the categories are not numerical groups (for example, 1,2,3,4,etc) we have to perform label encoding (Remember doing this in an earlier notebook?  See M12-Homework here: https://lrccd.instructure.com/courses/138956/modules/items/8394460) before doing one-hot encoding. Refer to the bonus section in the \"Supervised learning technique\" in the M12-Homework for more information on one-hot encoding. You can also read this [article](https://machinelearningmastery.com/why-one-hot-encode-data-in-machine-learning/) to find out more. We can use the to_categorical function from Keras to help us do so. Try the code below to label encode then one-hot encode the y_values."
      ]
    },
    {
      "cell_type": "code",
      "metadata": {
        "id": "ERTGtLOkj_Eu",
        "colab": {
          "base_uri": "https://localhost:8080/"
        },
        "outputId": "0c1064e1-fd5e-4f7a-dd47-35bdd3434e71"
      },
      "source": [
        "from tensorflow.keras.utils import to_categorical\n",
        "\n",
        "#One Hot Encoding example##\n",
        "# Print number of data points in each class\n",
        "print(df['class'].value_counts())\n",
        "\n",
        "# Dictionary to input the different numbers for different classes. \n",
        "# We are using values starting from 0 so that only 3 instead of 4 columns will be created in by the one-hot encoding.\n",
        "label_encode = {\"class\": {\"Iris-setosa\":0, \"Iris-versicolor\":1, \"Iris-virginica\":2}}\n",
        "\n",
        "\n",
        "# Use .replace to change the different classes into numbers\n",
        "df.replace(label_encode,inplace=True)\n",
        "\n",
        "# Print number of data points in each class to check if the classes have changed to numbers\n",
        "print(df['class'].value_counts())\n",
        "\n",
        "# Extract out the class as y_values\n",
        "y_values = df['class']\n",
        "\n",
        "# One-hot encode the y_values\n",
        "y_values = to_categorical(y_values)\n",
        "\n",
        "#print(y_values)"
      ],
      "execution_count": 30,
      "outputs": [
        {
          "output_type": "stream",
          "name": "stdout",
          "text": [
            "Iris-versicolor    50\n",
            "Iris-virginica     50\n",
            "Iris-setosa        50\n",
            "Name: class, dtype: int64\n",
            "2    50\n",
            "1    50\n",
            "0    50\n",
            "Name: class, dtype: int64\n"
          ]
        }
      ]
    },
    {
      "cell_type": "markdown",
      "metadata": {
        "id": "eY4w_1OAj_Ev"
      },
      "source": [
        "See what is listed in the y_values above. We have encoded the flower names into numbers. "
      ]
    },
    {
      "cell_type": "markdown",
      "metadata": {
        "id": "OneV-OG7j_Ev"
      },
      "source": [
        "Now, let us train the model. Run the code below!"
      ]
    },
    {
      "cell_type": "code",
      "metadata": {
        "id": "oBZZqu7tj_Ew",
        "colab": {
          "base_uri": "https://localhost:8080/"
        },
        "outputId": "2a6cadb8-2aad-4df2-944f-f02524642510"
      },
      "source": [
        "# Train model with x_values and y_values. \n",
        "# Epochs refer to the number of times the full dataset will be used to train the model.\n",
        "# Shuffle = True tells the model to randomise the arrangement of the dataset after each epoch. \n",
        "model.fit(x_values,y_values,epochs=20,shuffle=True)"
      ],
      "execution_count": 31,
      "outputs": [
        {
          "output_type": "stream",
          "name": "stdout",
          "text": [
            "Epoch 1/20\n",
            "5/5 [==============================] - 0s 2ms/step - loss: 1.1083 - accuracy: 0.2133\n",
            "Epoch 2/20\n",
            "5/5 [==============================] - 0s 5ms/step - loss: 1.0844 - accuracy: 0.2733\n",
            "Epoch 3/20\n",
            "5/5 [==============================] - 0s 2ms/step - loss: 1.0635 - accuracy: 0.3267\n",
            "Epoch 4/20\n",
            "5/5 [==============================] - 0s 3ms/step - loss: 1.0428 - accuracy: 0.3267\n",
            "Epoch 5/20\n",
            "5/5 [==============================] - 0s 4ms/step - loss: 1.0223 - accuracy: 0.3667\n",
            "Epoch 6/20\n",
            "5/5 [==============================] - 0s 2ms/step - loss: 1.0032 - accuracy: 0.4867\n",
            "Epoch 7/20\n",
            "5/5 [==============================] - 0s 3ms/step - loss: 0.9846 - accuracy: 0.6000\n",
            "Epoch 8/20\n",
            "5/5 [==============================] - 0s 3ms/step - loss: 0.9674 - accuracy: 0.6533\n",
            "Epoch 9/20\n",
            "5/5 [==============================] - 0s 3ms/step - loss: 0.9492 - accuracy: 0.6733\n",
            "Epoch 10/20\n",
            "5/5 [==============================] - 0s 3ms/step - loss: 0.9323 - accuracy: 0.6867\n",
            "Epoch 11/20\n",
            "5/5 [==============================] - 0s 3ms/step - loss: 0.9157 - accuracy: 0.7000\n",
            "Epoch 12/20\n",
            "5/5 [==============================] - 0s 4ms/step - loss: 0.8994 - accuracy: 0.7067\n",
            "Epoch 13/20\n",
            "5/5 [==============================] - 0s 2ms/step - loss: 0.8835 - accuracy: 0.7200\n",
            "Epoch 14/20\n",
            "5/5 [==============================] - 0s 4ms/step - loss: 0.8683 - accuracy: 0.7333\n",
            "Epoch 15/20\n",
            "5/5 [==============================] - 0s 3ms/step - loss: 0.8527 - accuracy: 0.7600\n",
            "Epoch 16/20\n",
            "5/5 [==============================] - 0s 2ms/step - loss: 0.8382 - accuracy: 0.7600\n",
            "Epoch 17/20\n",
            "5/5 [==============================] - 0s 2ms/step - loss: 0.8237 - accuracy: 0.7600\n",
            "Epoch 18/20\n",
            "5/5 [==============================] - 0s 2ms/step - loss: 0.8095 - accuracy: 0.7600\n",
            "Epoch 19/20\n",
            "5/5 [==============================] - 0s 4ms/step - loss: 0.7954 - accuracy: 0.7600\n",
            "Epoch 20/20\n",
            "5/5 [==============================] - 0s 2ms/step - loss: 0.7826 - accuracy: 0.7600\n"
          ]
        },
        {
          "output_type": "execute_result",
          "data": {
            "text/plain": [
              "<keras.callbacks.History at 0x7f1fed3dcf10>"
            ]
          },
          "metadata": {},
          "execution_count": 31
        }
      ]
    },
    {
      "cell_type": "markdown",
      "metadata": {
        "id": "rHHhCDHFj_Ew"
      },
      "source": [
        "Well done! You have trained your first neural network. Before we look at the accuracy, we have to understand some of the terms in the output.\n",
        "\n",
        "Epochs refer to the number of times the full dataset will be used to train the model.\n",
        "\n",
        "us/step shows how long the model took to train on each epoch.\n",
        "\n",
        "acc shows how accurate the model is. \n",
        "\n",
        "Notice how these numbers change over the different epoch."
      ]
    },
    {
      "cell_type": "markdown",
      "metadata": {
        "id": "cr_ceGqAj_Ex"
      },
      "source": [
        "From the model above, what was the accuracy value you've got?\n",
        "\n",
        "Try to see if you can get a better accuracy by adding another hidden layer to the model. The additional hidden layer can have the same number of nodes as the previous layer. \n",
        "\n",
        "Copy the relevant codes listed above in the cell below and modify the codes to add in the additional hidden layer. Train the new model and see if the accuracy improves."
      ]
    },
    {
      "cell_type": "code",
      "metadata": {
        "id": "iSvXed6ej_Ex",
        "colab": {
          "base_uri": "https://localhost:8080/"
        },
        "outputId": "d9ef78ff-8aa6-43c0-9b8c-5d2dd20627fd"
      },
      "source": [
        "# Initialise the second neural network as model with two hidden layers\n",
        "model2 = Sequential()\n",
        "\n",
        "# Add the first hidden layer with 6 nodes. Input_dim refers to the number of columns/number of features in x_values or the input layer.\n",
        "# Activation refers to how the nodes/neurons are activated. We will use relu (Rectified Linear Unit). Other common activations are 'sigmoid' and 'tanh'\n",
        "model2.add(Dense(6,input_dim=4,activation='relu'))\n",
        "\n",
        "# Add the hidden layer with 6 nodes. \n",
        "model2.add(Dense(6,activation='relu'))\n",
        "\n",
        "# Add the second hidden layer with 6 nodes. \n",
        "model2.add(Dense(6,activation='relu'))\n",
        "\n",
        "# Add the output layer with 3 nodes. The activation used has to be 'softmax'. Softmax is used when you are dealing with categorical outputs or targets. \n",
        "model2.add(Dense(3,activation='softmax'))\n",
        "\n",
        "# Compile the model together. The optimizer refers to the method to make the adjustment within the model. Loss refers to how the difference between the predicted out \n",
        "model2.compile(optimizer='adam',loss='categorical_crossentropy',metrics=['accuracy'])\n",
        "\n",
        "# Train model with x_values and y_values. \n",
        "# Epochs refer to the number of times the full dataset will be used to train the model.\n",
        "# Shuffle = True tells the model to randomise the arrangement of the dataset after each epoch. \n",
        "model2.fit(x_values,y_values,epochs=20,shuffle=True)"
      ],
      "execution_count": 32,
      "outputs": [
        {
          "output_type": "stream",
          "name": "stdout",
          "text": [
            "Epoch 1/20\n",
            "5/5 [==============================] - 0s 3ms/step - loss: 1.3099 - accuracy: 0.3200\n",
            "Epoch 2/20\n",
            "5/5 [==============================] - 0s 2ms/step - loss: 1.2696 - accuracy: 0.3200\n",
            "Epoch 3/20\n",
            "5/5 [==============================] - 0s 2ms/step - loss: 1.2341 - accuracy: 0.2867\n",
            "Epoch 4/20\n",
            "5/5 [==============================] - 0s 3ms/step - loss: 1.2002 - accuracy: 0.2733\n",
            "Epoch 5/20\n",
            "5/5 [==============================] - 0s 2ms/step - loss: 1.1726 - accuracy: 0.2733\n",
            "Epoch 6/20\n",
            "5/5 [==============================] - 0s 3ms/step - loss: 1.1454 - accuracy: 0.2733\n",
            "Epoch 7/20\n",
            "5/5 [==============================] - 0s 3ms/step - loss: 1.1221 - accuracy: 0.2667\n",
            "Epoch 8/20\n",
            "5/5 [==============================] - 0s 3ms/step - loss: 1.1038 - accuracy: 0.2667\n",
            "Epoch 9/20\n",
            "5/5 [==============================] - 0s 2ms/step - loss: 1.0877 - accuracy: 0.2733\n",
            "Epoch 10/20\n",
            "5/5 [==============================] - 0s 3ms/step - loss: 1.0753 - accuracy: 0.2933\n",
            "Epoch 11/20\n",
            "5/5 [==============================] - 0s 3ms/step - loss: 1.0645 - accuracy: 0.3267\n",
            "Epoch 12/20\n",
            "5/5 [==============================] - 0s 3ms/step - loss: 1.0551 - accuracy: 0.3733\n",
            "Epoch 13/20\n",
            "5/5 [==============================] - 0s 3ms/step - loss: 1.0470 - accuracy: 0.4067\n",
            "Epoch 14/20\n",
            "5/5 [==============================] - 0s 2ms/step - loss: 1.0391 - accuracy: 0.4467\n",
            "Epoch 15/20\n",
            "5/5 [==============================] - 0s 2ms/step - loss: 1.0322 - accuracy: 0.4800\n",
            "Epoch 16/20\n",
            "5/5 [==============================] - 0s 2ms/step - loss: 1.0246 - accuracy: 0.5067\n",
            "Epoch 17/20\n",
            "5/5 [==============================] - 0s 2ms/step - loss: 1.0179 - accuracy: 0.5467\n",
            "Epoch 18/20\n",
            "5/5 [==============================] - 0s 2ms/step - loss: 1.0108 - accuracy: 0.5467\n",
            "Epoch 19/20\n",
            "5/5 [==============================] - 0s 3ms/step - loss: 1.0037 - accuracy: 0.5800\n",
            "Epoch 20/20\n",
            "5/5 [==============================] - 0s 2ms/step - loss: 0.9971 - accuracy: 0.5933\n"
          ]
        },
        {
          "output_type": "execute_result",
          "data": {
            "text/plain": [
              "<keras.callbacks.History at 0x7f1fed2ee050>"
            ]
          },
          "metadata": {},
          "execution_count": 32
        }
      ]
    },
    {
      "cell_type": "markdown",
      "metadata": {
        "id": "tcLQJHrsj_Ex"
      },
      "source": [
        "After adding another hidden layer, you should observe that the accuracy seems to be lower than the initial model. As such, this shows that adding more layers need not necessarily lead to a higher accuracy.\n",
        "\n",
        "<font color = blue>Bonus: You can try other methods to improve the accuracy. How about increasing the number of nodes in the hidden layer? Do you get a higher accuracy if you do so?</font>"
      ]
    },
    {
      "cell_type": "code",
      "metadata": {
        "id": "LFw2fsitj_Ey",
        "colab": {
          "base_uri": "https://localhost:8080/"
        },
        "outputId": "5aa008ca-3c78-4f9e-ac7f-4df79685f574"
      },
      "source": [
        "# Initialise the second neural network as model with two hidden layers\n",
        "model3 = Sequential()\n",
        "\n",
        "# Add the first hidden layer with 6 nodes. Input_dim refers to the number of columns/number of features in x_values or the input layer.\n",
        "# Activation refers to how the nodes/neurons are activated. We will use relu (Rectified Linear Unit). Other common activations are 'sigmoid' and 'tanh'\n",
        "model3.add(Dense(8,input_dim=4,activation='relu'))\n",
        "\n",
        "# Add the hidden layer with 6 nodes. \n",
        "model3.add(Dense(8,activation='relu'))\n",
        "\n",
        "# Add the second hidden layer with 6 nodes. \n",
        "model3.add(Dense(8,activation='relu'))\n",
        "\n",
        "# Add the output layer with 3 nodes. The activation used has to be 'softmax'. Softmax is used when you are dealing with categorical outputs or targets. \n",
        "model3.add(Dense(3,activation='softmax'))\n",
        "\n",
        "# Compile the model together. The optimizer refers to the method to make the adjustment within the model. Loss refers to how the difference between the predicted out \n",
        "model3.compile(optimizer='adam',loss='categorical_crossentropy',metrics=['accuracy'])\n",
        "\n",
        "# Train model with x_values and y_values. \n",
        "# Epochs refer to the number of times the full dataset will be used to train the model.\n",
        "# Shuffle = True tells the model to randomise the arrangement of the dataset after each epoch. \n",
        "model3.fit(x_values,y_values,epochs=20,shuffle=True)"
      ],
      "execution_count": 33,
      "outputs": [
        {
          "output_type": "stream",
          "name": "stdout",
          "text": [
            "Epoch 1/20\n",
            "5/5 [==============================] - 0s 3ms/step - loss: 1.1204 - accuracy: 0.0200\n",
            "Epoch 2/20\n",
            "5/5 [==============================] - 0s 3ms/step - loss: 1.1055 - accuracy: 0.0600\n",
            "Epoch 3/20\n",
            "5/5 [==============================] - 0s 3ms/step - loss: 1.0913 - accuracy: 0.2000\n",
            "Epoch 4/20\n",
            "5/5 [==============================] - 0s 3ms/step - loss: 1.0785 - accuracy: 0.3200\n",
            "Epoch 5/20\n",
            "5/5 [==============================] - 0s 3ms/step - loss: 1.0664 - accuracy: 0.3867\n",
            "Epoch 6/20\n",
            "5/5 [==============================] - 0s 3ms/step - loss: 1.0548 - accuracy: 0.4000\n",
            "Epoch 7/20\n",
            "5/5 [==============================] - 0s 2ms/step - loss: 1.0435 - accuracy: 0.4467\n",
            "Epoch 8/20\n",
            "5/5 [==============================] - 0s 3ms/step - loss: 1.0329 - accuracy: 0.4800\n",
            "Epoch 9/20\n",
            "5/5 [==============================] - 0s 2ms/step - loss: 1.0215 - accuracy: 0.4933\n",
            "Epoch 10/20\n",
            "5/5 [==============================] - 0s 2ms/step - loss: 1.0101 - accuracy: 0.5333\n",
            "Epoch 11/20\n",
            "5/5 [==============================] - 0s 3ms/step - loss: 0.9985 - accuracy: 0.5600\n",
            "Epoch 12/20\n",
            "5/5 [==============================] - 0s 2ms/step - loss: 0.9872 - accuracy: 0.6000\n",
            "Epoch 13/20\n",
            "5/5 [==============================] - 0s 3ms/step - loss: 0.9748 - accuracy: 0.6067\n",
            "Epoch 14/20\n",
            "5/5 [==============================] - 0s 4ms/step - loss: 0.9622 - accuracy: 0.6467\n",
            "Epoch 15/20\n",
            "5/5 [==============================] - 0s 3ms/step - loss: 0.9487 - accuracy: 0.6667\n",
            "Epoch 16/20\n",
            "5/5 [==============================] - 0s 3ms/step - loss: 0.9346 - accuracy: 0.6933\n",
            "Epoch 17/20\n",
            "5/5 [==============================] - 0s 3ms/step - loss: 0.9206 - accuracy: 0.6933\n",
            "Epoch 18/20\n",
            "5/5 [==============================] - 0s 3ms/step - loss: 0.9051 - accuracy: 0.7000\n",
            "Epoch 19/20\n",
            "5/5 [==============================] - 0s 4ms/step - loss: 0.8901 - accuracy: 0.6933\n",
            "Epoch 20/20\n",
            "5/5 [==============================] - 0s 3ms/step - loss: 0.8749 - accuracy: 0.7067\n"
          ]
        },
        {
          "output_type": "execute_result",
          "data": {
            "text/plain": [
              "<keras.callbacks.History at 0x7f1fed1cd790>"
            ]
          },
          "metadata": {},
          "execution_count": 33
        }
      ]
    },
    {
      "cell_type": "markdown",
      "metadata": {
        "id": "6ee5_glQj_Ey"
      },
      "source": [
        "# Validation Dataset"
      ]
    },
    {
      "cell_type": "markdown",
      "metadata": {
        "id": "afUy7RL3j_Ey"
      },
      "source": [
        "From the above, we can see that the neural network can be trained for any number of epochs. This means that the network can keep learning from the same dataset many times. What do you think will happen if the model keeps learning from the same dataset? Do you think the network will be able to obtain very high accuracy by doing so?"
      ]
    },
    {
      "cell_type": "code",
      "metadata": {
        "id": "WOUo2AY3j_Ez",
        "colab": {
          "base_uri": "https://localhost:8080/"
        },
        "outputId": "1d7147fd-c057-4c21-cea0-cfd719597d68"
      },
      "source": [
        "model2.fit(x_values,y_values,epochs=40,shuffle=True)"
      ],
      "execution_count": 34,
      "outputs": [
        {
          "output_type": "stream",
          "name": "stdout",
          "text": [
            "Epoch 1/40\n",
            "5/5 [==============================] - 0s 2ms/step - loss: 0.9897 - accuracy: 0.6067\n",
            "Epoch 2/40\n",
            "5/5 [==============================] - 0s 2ms/step - loss: 0.9825 - accuracy: 0.6267\n",
            "Epoch 3/40\n",
            "5/5 [==============================] - 0s 2ms/step - loss: 0.9752 - accuracy: 0.6400\n",
            "Epoch 4/40\n",
            "5/5 [==============================] - 0s 2ms/step - loss: 0.9680 - accuracy: 0.6533\n",
            "Epoch 5/40\n",
            "5/5 [==============================] - 0s 2ms/step - loss: 0.9599 - accuracy: 0.6667\n",
            "Epoch 6/40\n",
            "5/5 [==============================] - 0s 3ms/step - loss: 0.9513 - accuracy: 0.6667\n",
            "Epoch 7/40\n",
            "5/5 [==============================] - 0s 3ms/step - loss: 0.9413 - accuracy: 0.6667\n",
            "Epoch 8/40\n",
            "5/5 [==============================] - 0s 3ms/step - loss: 0.9306 - accuracy: 0.6667\n",
            "Epoch 9/40\n",
            "5/5 [==============================] - 0s 3ms/step - loss: 0.9185 - accuracy: 0.6667\n",
            "Epoch 10/40\n",
            "5/5 [==============================] - 0s 4ms/step - loss: 0.9058 - accuracy: 0.6667\n",
            "Epoch 11/40\n",
            "5/5 [==============================] - 0s 2ms/step - loss: 0.8912 - accuracy: 0.6667\n",
            "Epoch 12/40\n",
            "5/5 [==============================] - 0s 2ms/step - loss: 0.8748 - accuracy: 0.6733\n",
            "Epoch 13/40\n",
            "5/5 [==============================] - 0s 3ms/step - loss: 0.8569 - accuracy: 0.6800\n",
            "Epoch 14/40\n",
            "5/5 [==============================] - 0s 3ms/step - loss: 0.8370 - accuracy: 0.6933\n",
            "Epoch 15/40\n",
            "5/5 [==============================] - 0s 2ms/step - loss: 0.8161 - accuracy: 0.7467\n",
            "Epoch 16/40\n",
            "5/5 [==============================] - 0s 2ms/step - loss: 0.7939 - accuracy: 0.7800\n",
            "Epoch 17/40\n",
            "5/5 [==============================] - 0s 3ms/step - loss: 0.7696 - accuracy: 0.7933\n",
            "Epoch 18/40\n",
            "5/5 [==============================] - 0s 3ms/step - loss: 0.7440 - accuracy: 0.7933\n",
            "Epoch 19/40\n",
            "5/5 [==============================] - 0s 2ms/step - loss: 0.7187 - accuracy: 0.8133\n",
            "Epoch 20/40\n",
            "5/5 [==============================] - 0s 3ms/step - loss: 0.6915 - accuracy: 0.8333\n",
            "Epoch 21/40\n",
            "5/5 [==============================] - 0s 2ms/step - loss: 0.6642 - accuracy: 0.8533\n",
            "Epoch 22/40\n",
            "5/5 [==============================] - 0s 2ms/step - loss: 0.6370 - accuracy: 0.8667\n",
            "Epoch 23/40\n",
            "5/5 [==============================] - 0s 3ms/step - loss: 0.6090 - accuracy: 0.8800\n",
            "Epoch 24/40\n",
            "5/5 [==============================] - 0s 3ms/step - loss: 0.5825 - accuracy: 0.8933\n",
            "Epoch 25/40\n",
            "5/5 [==============================] - 0s 3ms/step - loss: 0.5576 - accuracy: 0.8933\n",
            "Epoch 26/40\n",
            "5/5 [==============================] - 0s 3ms/step - loss: 0.5327 - accuracy: 0.8933\n",
            "Epoch 27/40\n",
            "5/5 [==============================] - 0s 3ms/step - loss: 0.5087 - accuracy: 0.9000\n",
            "Epoch 28/40\n",
            "5/5 [==============================] - 0s 3ms/step - loss: 0.4861 - accuracy: 0.9000\n",
            "Epoch 29/40\n",
            "5/5 [==============================] - 0s 3ms/step - loss: 0.4653 - accuracy: 0.9133\n",
            "Epoch 30/40\n",
            "5/5 [==============================] - 0s 3ms/step - loss: 0.4458 - accuracy: 0.9133\n",
            "Epoch 31/40\n",
            "5/5 [==============================] - 0s 4ms/step - loss: 0.4280 - accuracy: 0.9133\n",
            "Epoch 32/40\n",
            "5/5 [==============================] - 0s 2ms/step - loss: 0.4116 - accuracy: 0.9200\n",
            "Epoch 33/40\n",
            "5/5 [==============================] - 0s 3ms/step - loss: 0.3960 - accuracy: 0.9267\n",
            "Epoch 34/40\n",
            "5/5 [==============================] - 0s 3ms/step - loss: 0.3816 - accuracy: 0.9333\n",
            "Epoch 35/40\n",
            "5/5 [==============================] - 0s 3ms/step - loss: 0.3675 - accuracy: 0.9333\n",
            "Epoch 36/40\n",
            "5/5 [==============================] - 0s 4ms/step - loss: 0.3548 - accuracy: 0.9333\n",
            "Epoch 37/40\n",
            "5/5 [==============================] - 0s 3ms/step - loss: 0.3425 - accuracy: 0.9333\n",
            "Epoch 38/40\n",
            "5/5 [==============================] - 0s 3ms/step - loss: 0.3316 - accuracy: 0.9400\n",
            "Epoch 39/40\n",
            "5/5 [==============================] - 0s 3ms/step - loss: 0.3208 - accuracy: 0.9400\n",
            "Epoch 40/40\n",
            "5/5 [==============================] - 0s 3ms/step - loss: 0.3101 - accuracy: 0.9400\n"
          ]
        },
        {
          "output_type": "execute_result",
          "data": {
            "text/plain": [
              "<keras.callbacks.History at 0x7f1fed081ed0>"
            ]
          },
          "metadata": {},
          "execution_count": 34
        }
      ]
    },
    {
      "cell_type": "markdown",
      "metadata": {
        "id": "v8kigSaxj_Ez"
      },
      "source": [
        "Run the code below and observe the accuracy. Is it higher than the accuracy from the previous model with the same setting?"
      ]
    },
    {
      "cell_type": "code",
      "metadata": {
        "id": "GHbjjI44j_Ez",
        "colab": {
          "base_uri": "https://localhost:8080/"
        },
        "outputId": "294a7df3-48f8-41be-88c3-95c2b91f2994"
      },
      "source": [
        "# Initialise the neural network as model\n",
        "model4 = Sequential()\n",
        "\n",
        "# Add the first hidden layer with 6 nodes. Input_dim refers to the number of columns/number of features in x_values or input_layer.\n",
        "# Activation refers to how the nodes/neurons are activated. We will use relu. Other common activations are 'sigmoid' and 'tanh'\n",
        "model4.add(Dense(6,input_dim=4,activation='relu'))\n",
        "\n",
        "# Add the hidden layer with 6 nodes. \n",
        "model4.add(Dense(6,activation='relu'))\n",
        "\n",
        "# Add the output layer with 3 nodes. The activation used has to be 'softmax'. Softmax is used when you are dealing with categorical outputs or targets. \n",
        "model4.add(Dense(3,activation='softmax'))\n",
        "\n",
        "# Compile the model together. The optimizer refers to the method to make the adjustment within the model. Loss refers to how the difference between the predicted out \n",
        "model4.compile(optimizer='adam',loss='categorical_crossentropy',metrics=['accuracy'])\n",
        "\n",
        "# Train model with x_values and y_values. Epochs refer to the number of times the full dataset will be used to train the model.\n",
        "# Shuffle = True tells the model to randomise the arrangement of the dataset after each epoch. This will allow the model to learn.\n",
        "model4.fit(x_values,y_values,epochs=200,shuffle=True)"
      ],
      "execution_count": 35,
      "outputs": [
        {
          "output_type": "stream",
          "name": "stdout",
          "text": [
            "Epoch 1/200\n",
            "5/5 [==============================] - 0s 2ms/step - loss: 0.9677 - accuracy: 0.6733\n",
            "Epoch 2/200\n",
            "5/5 [==============================] - 0s 2ms/step - loss: 0.9557 - accuracy: 0.6867\n",
            "Epoch 3/200\n",
            "5/5 [==============================] - 0s 3ms/step - loss: 0.9440 - accuracy: 0.6867\n",
            "Epoch 4/200\n",
            "5/5 [==============================] - 0s 3ms/step - loss: 0.9322 - accuracy: 0.6867\n",
            "Epoch 5/200\n",
            "5/5 [==============================] - 0s 3ms/step - loss: 0.9195 - accuracy: 0.6933\n",
            "Epoch 6/200\n",
            "5/5 [==============================] - 0s 3ms/step - loss: 0.9068 - accuracy: 0.6933\n",
            "Epoch 7/200\n",
            "5/5 [==============================] - 0s 2ms/step - loss: 0.8942 - accuracy: 0.6933\n",
            "Epoch 8/200\n",
            "5/5 [==============================] - 0s 2ms/step - loss: 0.8818 - accuracy: 0.6933\n",
            "Epoch 9/200\n",
            "5/5 [==============================] - 0s 3ms/step - loss: 0.8686 - accuracy: 0.6933\n",
            "Epoch 10/200\n",
            "5/5 [==============================] - 0s 3ms/step - loss: 0.8556 - accuracy: 0.6933\n",
            "Epoch 11/200\n",
            "5/5 [==============================] - 0s 2ms/step - loss: 0.8428 - accuracy: 0.6933\n",
            "Epoch 12/200\n",
            "5/5 [==============================] - 0s 3ms/step - loss: 0.8297 - accuracy: 0.6933\n",
            "Epoch 13/200\n",
            "5/5 [==============================] - 0s 3ms/step - loss: 0.8168 - accuracy: 0.6933\n",
            "Epoch 14/200\n",
            "5/5 [==============================] - 0s 3ms/step - loss: 0.8048 - accuracy: 0.6867\n",
            "Epoch 15/200\n",
            "5/5 [==============================] - 0s 3ms/step - loss: 0.7916 - accuracy: 0.6867\n",
            "Epoch 16/200\n",
            "5/5 [==============================] - 0s 3ms/step - loss: 0.7792 - accuracy: 0.6933\n",
            "Epoch 17/200\n",
            "5/5 [==============================] - 0s 3ms/step - loss: 0.7668 - accuracy: 0.6933\n",
            "Epoch 18/200\n",
            "5/5 [==============================] - 0s 3ms/step - loss: 0.7547 - accuracy: 0.6933\n",
            "Epoch 19/200\n",
            "5/5 [==============================] - 0s 3ms/step - loss: 0.7425 - accuracy: 0.7000\n",
            "Epoch 20/200\n",
            "5/5 [==============================] - 0s 3ms/step - loss: 0.7308 - accuracy: 0.7000\n",
            "Epoch 21/200\n",
            "5/5 [==============================] - 0s 3ms/step - loss: 0.7191 - accuracy: 0.7000\n",
            "Epoch 22/200\n",
            "5/5 [==============================] - 0s 2ms/step - loss: 0.7078 - accuracy: 0.7000\n",
            "Epoch 23/200\n",
            "5/5 [==============================] - 0s 3ms/step - loss: 0.6969 - accuracy: 0.7000\n",
            "Epoch 24/200\n",
            "5/5 [==============================] - 0s 2ms/step - loss: 0.6862 - accuracy: 0.7000\n",
            "Epoch 25/200\n",
            "5/5 [==============================] - 0s 3ms/step - loss: 0.6757 - accuracy: 0.6933\n",
            "Epoch 26/200\n",
            "5/5 [==============================] - 0s 3ms/step - loss: 0.6654 - accuracy: 0.6933\n",
            "Epoch 27/200\n",
            "5/5 [==============================] - 0s 2ms/step - loss: 0.6555 - accuracy: 0.6933\n",
            "Epoch 28/200\n",
            "5/5 [==============================] - 0s 3ms/step - loss: 0.6456 - accuracy: 0.6933\n",
            "Epoch 29/200\n",
            "5/5 [==============================] - 0s 3ms/step - loss: 0.6358 - accuracy: 0.6933\n",
            "Epoch 30/200\n",
            "5/5 [==============================] - 0s 2ms/step - loss: 0.6262 - accuracy: 0.6933\n",
            "Epoch 31/200\n",
            "5/5 [==============================] - 0s 3ms/step - loss: 0.6165 - accuracy: 0.6933\n",
            "Epoch 32/200\n",
            "5/5 [==============================] - 0s 2ms/step - loss: 0.6072 - accuracy: 0.6933\n",
            "Epoch 33/200\n",
            "5/5 [==============================] - 0s 3ms/step - loss: 0.5983 - accuracy: 0.6933\n",
            "Epoch 34/200\n",
            "5/5 [==============================] - 0s 2ms/step - loss: 0.5898 - accuracy: 0.7000\n",
            "Epoch 35/200\n",
            "5/5 [==============================] - 0s 3ms/step - loss: 0.5817 - accuracy: 0.7067\n",
            "Epoch 36/200\n",
            "5/5 [==============================] - 0s 3ms/step - loss: 0.5741 - accuracy: 0.7000\n",
            "Epoch 37/200\n",
            "5/5 [==============================] - 0s 2ms/step - loss: 0.5668 - accuracy: 0.7000\n",
            "Epoch 38/200\n",
            "5/5 [==============================] - 0s 3ms/step - loss: 0.5597 - accuracy: 0.7000\n",
            "Epoch 39/200\n",
            "5/5 [==============================] - 0s 3ms/step - loss: 0.5530 - accuracy: 0.7000\n",
            "Epoch 40/200\n",
            "5/5 [==============================] - 0s 2ms/step - loss: 0.5467 - accuracy: 0.7000\n",
            "Epoch 41/200\n",
            "5/5 [==============================] - 0s 3ms/step - loss: 0.5406 - accuracy: 0.7067\n",
            "Epoch 42/200\n",
            "5/5 [==============================] - 0s 4ms/step - loss: 0.5349 - accuracy: 0.7067\n",
            "Epoch 43/200\n",
            "5/5 [==============================] - 0s 3ms/step - loss: 0.5294 - accuracy: 0.7067\n",
            "Epoch 44/200\n",
            "5/5 [==============================] - 0s 3ms/step - loss: 0.5241 - accuracy: 0.7133\n",
            "Epoch 45/200\n",
            "5/5 [==============================] - 0s 3ms/step - loss: 0.5192 - accuracy: 0.7133\n",
            "Epoch 46/200\n",
            "5/5 [==============================] - 0s 2ms/step - loss: 0.5144 - accuracy: 0.7267\n",
            "Epoch 47/200\n",
            "5/5 [==============================] - 0s 2ms/step - loss: 0.5098 - accuracy: 0.7267\n",
            "Epoch 48/200\n",
            "5/5 [==============================] - 0s 3ms/step - loss: 0.5054 - accuracy: 0.7333\n",
            "Epoch 49/200\n",
            "5/5 [==============================] - 0s 3ms/step - loss: 0.5014 - accuracy: 0.7467\n",
            "Epoch 50/200\n",
            "5/5 [==============================] - 0s 3ms/step - loss: 0.4972 - accuracy: 0.7467\n",
            "Epoch 51/200\n",
            "5/5 [==============================] - 0s 2ms/step - loss: 0.4934 - accuracy: 0.7533\n",
            "Epoch 52/200\n",
            "5/5 [==============================] - 0s 2ms/step - loss: 0.4898 - accuracy: 0.7667\n",
            "Epoch 53/200\n",
            "5/5 [==============================] - 0s 3ms/step - loss: 0.4862 - accuracy: 0.7733\n",
            "Epoch 54/200\n",
            "5/5 [==============================] - 0s 2ms/step - loss: 0.4828 - accuracy: 0.7733\n",
            "Epoch 55/200\n",
            "5/5 [==============================] - 0s 3ms/step - loss: 0.4797 - accuracy: 0.7867\n",
            "Epoch 56/200\n",
            "5/5 [==============================] - 0s 2ms/step - loss: 0.4763 - accuracy: 0.7867\n",
            "Epoch 57/200\n",
            "5/5 [==============================] - 0s 3ms/step - loss: 0.4732 - accuracy: 0.8000\n",
            "Epoch 58/200\n",
            "5/5 [==============================] - 0s 3ms/step - loss: 0.4702 - accuracy: 0.8000\n",
            "Epoch 59/200\n",
            "5/5 [==============================] - 0s 2ms/step - loss: 0.4672 - accuracy: 0.7933\n",
            "Epoch 60/200\n",
            "5/5 [==============================] - 0s 3ms/step - loss: 0.4644 - accuracy: 0.8000\n",
            "Epoch 61/200\n",
            "5/5 [==============================] - 0s 2ms/step - loss: 0.4617 - accuracy: 0.7933\n",
            "Epoch 62/200\n",
            "5/5 [==============================] - 0s 2ms/step - loss: 0.4590 - accuracy: 0.7933\n",
            "Epoch 63/200\n",
            "5/5 [==============================] - 0s 2ms/step - loss: 0.4565 - accuracy: 0.8067\n",
            "Epoch 64/200\n",
            "5/5 [==============================] - 0s 3ms/step - loss: 0.4538 - accuracy: 0.8133\n",
            "Epoch 65/200\n",
            "5/5 [==============================] - 0s 3ms/step - loss: 0.4512 - accuracy: 0.8133\n",
            "Epoch 66/200\n",
            "5/5 [==============================] - 0s 2ms/step - loss: 0.4489 - accuracy: 0.8133\n",
            "Epoch 67/200\n",
            "5/5 [==============================] - 0s 3ms/step - loss: 0.4467 - accuracy: 0.8133\n",
            "Epoch 68/200\n",
            "5/5 [==============================] - 0s 3ms/step - loss: 0.4442 - accuracy: 0.8133\n",
            "Epoch 69/200\n",
            "5/5 [==============================] - 0s 3ms/step - loss: 0.4420 - accuracy: 0.8133\n",
            "Epoch 70/200\n",
            "5/5 [==============================] - 0s 4ms/step - loss: 0.4399 - accuracy: 0.8133\n",
            "Epoch 71/200\n",
            "5/5 [==============================] - 0s 3ms/step - loss: 0.4376 - accuracy: 0.8133\n",
            "Epoch 72/200\n",
            "5/5 [==============================] - 0s 2ms/step - loss: 0.4355 - accuracy: 0.8133\n",
            "Epoch 73/200\n",
            "5/5 [==============================] - 0s 2ms/step - loss: 0.4335 - accuracy: 0.8133\n",
            "Epoch 74/200\n",
            "5/5 [==============================] - 0s 3ms/step - loss: 0.4314 - accuracy: 0.8200\n",
            "Epoch 75/200\n",
            "5/5 [==============================] - 0s 3ms/step - loss: 0.4294 - accuracy: 0.8200\n",
            "Epoch 76/200\n",
            "5/5 [==============================] - 0s 3ms/step - loss: 0.4274 - accuracy: 0.8200\n",
            "Epoch 77/200\n",
            "5/5 [==============================] - 0s 3ms/step - loss: 0.4255 - accuracy: 0.8200\n",
            "Epoch 78/200\n",
            "5/5 [==============================] - 0s 2ms/step - loss: 0.4235 - accuracy: 0.8200\n",
            "Epoch 79/200\n",
            "5/5 [==============================] - 0s 2ms/step - loss: 0.4216 - accuracy: 0.8200\n",
            "Epoch 80/200\n",
            "5/5 [==============================] - 0s 2ms/step - loss: 0.4198 - accuracy: 0.8200\n",
            "Epoch 81/200\n",
            "5/5 [==============================] - 0s 3ms/step - loss: 0.4180 - accuracy: 0.8267\n",
            "Epoch 82/200\n",
            "5/5 [==============================] - 0s 3ms/step - loss: 0.4162 - accuracy: 0.8267\n",
            "Epoch 83/200\n",
            "5/5 [==============================] - 0s 3ms/step - loss: 0.4143 - accuracy: 0.8200\n",
            "Epoch 84/200\n",
            "5/5 [==============================] - 0s 4ms/step - loss: 0.4126 - accuracy: 0.8200\n",
            "Epoch 85/200\n",
            "5/5 [==============================] - 0s 2ms/step - loss: 0.4109 - accuracy: 0.8200\n",
            "Epoch 86/200\n",
            "5/5 [==============================] - 0s 2ms/step - loss: 0.4092 - accuracy: 0.8200\n",
            "Epoch 87/200\n",
            "5/5 [==============================] - 0s 4ms/step - loss: 0.4074 - accuracy: 0.8200\n",
            "Epoch 88/200\n",
            "5/5 [==============================] - 0s 2ms/step - loss: 0.4060 - accuracy: 0.8200\n",
            "Epoch 89/200\n",
            "5/5 [==============================] - 0s 3ms/step - loss: 0.4042 - accuracy: 0.8200\n",
            "Epoch 90/200\n",
            "5/5 [==============================] - 0s 3ms/step - loss: 0.4025 - accuracy: 0.8267\n",
            "Epoch 91/200\n",
            "5/5 [==============================] - 0s 3ms/step - loss: 0.4009 - accuracy: 0.8267\n",
            "Epoch 92/200\n",
            "5/5 [==============================] - 0s 2ms/step - loss: 0.3993 - accuracy: 0.8267\n",
            "Epoch 93/200\n",
            "5/5 [==============================] - 0s 3ms/step - loss: 0.3977 - accuracy: 0.8267\n",
            "Epoch 94/200\n",
            "5/5 [==============================] - 0s 3ms/step - loss: 0.3961 - accuracy: 0.8267\n",
            "Epoch 95/200\n",
            "5/5 [==============================] - 0s 5ms/step - loss: 0.3947 - accuracy: 0.8267\n",
            "Epoch 96/200\n",
            "5/5 [==============================] - 0s 5ms/step - loss: 0.3931 - accuracy: 0.8267\n",
            "Epoch 97/200\n",
            "5/5 [==============================] - 0s 3ms/step - loss: 0.3915 - accuracy: 0.8267\n",
            "Epoch 98/200\n",
            "5/5 [==============================] - 0s 3ms/step - loss: 0.3900 - accuracy: 0.8267\n",
            "Epoch 99/200\n",
            "5/5 [==============================] - 0s 3ms/step - loss: 0.3886 - accuracy: 0.8267\n",
            "Epoch 100/200\n",
            "5/5 [==============================] - 0s 2ms/step - loss: 0.3870 - accuracy: 0.8333\n",
            "Epoch 101/200\n",
            "5/5 [==============================] - 0s 3ms/step - loss: 0.3855 - accuracy: 0.8333\n",
            "Epoch 102/200\n",
            "5/5 [==============================] - 0s 3ms/step - loss: 0.3839 - accuracy: 0.8333\n",
            "Epoch 103/200\n",
            "5/5 [==============================] - 0s 3ms/step - loss: 0.3825 - accuracy: 0.8333\n",
            "Epoch 104/200\n",
            "5/5 [==============================] - 0s 2ms/step - loss: 0.3810 - accuracy: 0.8333\n",
            "Epoch 105/200\n",
            "5/5 [==============================] - 0s 3ms/step - loss: 0.3795 - accuracy: 0.8333\n",
            "Epoch 106/200\n",
            "5/5 [==============================] - 0s 3ms/step - loss: 0.3780 - accuracy: 0.8333\n",
            "Epoch 107/200\n",
            "5/5 [==============================] - 0s 3ms/step - loss: 0.3767 - accuracy: 0.8333\n",
            "Epoch 108/200\n",
            "5/5 [==============================] - 0s 3ms/step - loss: 0.3753 - accuracy: 0.8333\n",
            "Epoch 109/200\n",
            "5/5 [==============================] - 0s 2ms/step - loss: 0.3736 - accuracy: 0.8333\n",
            "Epoch 110/200\n",
            "5/5 [==============================] - 0s 3ms/step - loss: 0.3721 - accuracy: 0.8333\n",
            "Epoch 111/200\n",
            "5/5 [==============================] - 0s 3ms/step - loss: 0.3708 - accuracy: 0.8333\n",
            "Epoch 112/200\n",
            "5/5 [==============================] - 0s 3ms/step - loss: 0.3693 - accuracy: 0.8333\n",
            "Epoch 113/200\n",
            "5/5 [==============================] - 0s 3ms/step - loss: 0.3678 - accuracy: 0.8400\n",
            "Epoch 114/200\n",
            "5/5 [==============================] - 0s 2ms/step - loss: 0.3666 - accuracy: 0.8400\n",
            "Epoch 115/200\n",
            "5/5 [==============================] - 0s 3ms/step - loss: 0.3650 - accuracy: 0.8400\n",
            "Epoch 116/200\n",
            "5/5 [==============================] - 0s 3ms/step - loss: 0.3636 - accuracy: 0.8400\n",
            "Epoch 117/200\n",
            "5/5 [==============================] - 0s 3ms/step - loss: 0.3620 - accuracy: 0.8400\n",
            "Epoch 118/200\n",
            "5/5 [==============================] - 0s 2ms/step - loss: 0.3606 - accuracy: 0.8400\n",
            "Epoch 119/200\n",
            "5/5 [==============================] - 0s 2ms/step - loss: 0.3593 - accuracy: 0.8333\n",
            "Epoch 120/200\n",
            "5/5 [==============================] - 0s 2ms/step - loss: 0.3577 - accuracy: 0.8333\n",
            "Epoch 121/200\n",
            "5/5 [==============================] - 0s 3ms/step - loss: 0.3563 - accuracy: 0.8333\n",
            "Epoch 122/200\n",
            "5/5 [==============================] - 0s 2ms/step - loss: 0.3548 - accuracy: 0.8333\n",
            "Epoch 123/200\n",
            "5/5 [==============================] - 0s 3ms/step - loss: 0.3536 - accuracy: 0.8400\n",
            "Epoch 124/200\n",
            "5/5 [==============================] - 0s 3ms/step - loss: 0.3520 - accuracy: 0.8400\n",
            "Epoch 125/200\n",
            "5/5 [==============================] - 0s 3ms/step - loss: 0.3506 - accuracy: 0.8400\n",
            "Epoch 126/200\n",
            "5/5 [==============================] - 0s 3ms/step - loss: 0.3491 - accuracy: 0.8467\n",
            "Epoch 127/200\n",
            "5/5 [==============================] - 0s 3ms/step - loss: 0.3478 - accuracy: 0.8533\n",
            "Epoch 128/200\n",
            "5/5 [==============================] - 0s 4ms/step - loss: 0.3464 - accuracy: 0.8533\n",
            "Epoch 129/200\n",
            "5/5 [==============================] - 0s 2ms/step - loss: 0.3454 - accuracy: 0.8533\n",
            "Epoch 130/200\n",
            "5/5 [==============================] - 0s 2ms/step - loss: 0.3434 - accuracy: 0.8533\n",
            "Epoch 131/200\n",
            "5/5 [==============================] - 0s 2ms/step - loss: 0.3420 - accuracy: 0.8533\n",
            "Epoch 132/200\n",
            "5/5 [==============================] - 0s 2ms/step - loss: 0.3405 - accuracy: 0.8600\n",
            "Epoch 133/200\n",
            "5/5 [==============================] - 0s 2ms/step - loss: 0.3392 - accuracy: 0.8667\n",
            "Epoch 134/200\n",
            "5/5 [==============================] - 0s 3ms/step - loss: 0.3376 - accuracy: 0.8667\n",
            "Epoch 135/200\n",
            "5/5 [==============================] - 0s 2ms/step - loss: 0.3363 - accuracy: 0.8667\n",
            "Epoch 136/200\n",
            "5/5 [==============================] - 0s 3ms/step - loss: 0.3347 - accuracy: 0.8667\n",
            "Epoch 137/200\n",
            "5/5 [==============================] - 0s 4ms/step - loss: 0.3333 - accuracy: 0.8667\n",
            "Epoch 138/200\n",
            "5/5 [==============================] - 0s 3ms/step - loss: 0.3318 - accuracy: 0.8667\n",
            "Epoch 139/200\n",
            "5/5 [==============================] - 0s 3ms/step - loss: 0.3304 - accuracy: 0.8667\n",
            "Epoch 140/200\n",
            "5/5 [==============================] - 0s 4ms/step - loss: 0.3290 - accuracy: 0.8667\n",
            "Epoch 141/200\n",
            "5/5 [==============================] - 0s 3ms/step - loss: 0.3274 - accuracy: 0.8667\n",
            "Epoch 142/200\n",
            "5/5 [==============================] - 0s 3ms/step - loss: 0.3260 - accuracy: 0.8667\n",
            "Epoch 143/200\n",
            "5/5 [==============================] - 0s 3ms/step - loss: 0.3246 - accuracy: 0.8667\n",
            "Epoch 144/200\n",
            "5/5 [==============================] - 0s 3ms/step - loss: 0.3231 - accuracy: 0.8667\n",
            "Epoch 145/200\n",
            "5/5 [==============================] - 0s 3ms/step - loss: 0.3216 - accuracy: 0.8667\n",
            "Epoch 146/200\n",
            "5/5 [==============================] - 0s 3ms/step - loss: 0.3201 - accuracy: 0.8667\n",
            "Epoch 147/200\n",
            "5/5 [==============================] - 0s 4ms/step - loss: 0.3186 - accuracy: 0.8667\n",
            "Epoch 148/200\n",
            "5/5 [==============================] - 0s 3ms/step - loss: 0.3170 - accuracy: 0.8667\n",
            "Epoch 149/200\n",
            "5/5 [==============================] - 0s 2ms/step - loss: 0.3153 - accuracy: 0.8667\n",
            "Epoch 150/200\n",
            "5/5 [==============================] - 0s 3ms/step - loss: 0.3138 - accuracy: 0.8667\n",
            "Epoch 151/200\n",
            "5/5 [==============================] - 0s 2ms/step - loss: 0.3122 - accuracy: 0.8667\n",
            "Epoch 152/200\n",
            "5/5 [==============================] - 0s 3ms/step - loss: 0.3107 - accuracy: 0.8733\n",
            "Epoch 153/200\n",
            "5/5 [==============================] - 0s 4ms/step - loss: 0.3090 - accuracy: 0.8733\n",
            "Epoch 154/200\n",
            "5/5 [==============================] - 0s 2ms/step - loss: 0.3075 - accuracy: 0.8733\n",
            "Epoch 155/200\n",
            "5/5 [==============================] - 0s 3ms/step - loss: 0.3057 - accuracy: 0.8733\n",
            "Epoch 156/200\n",
            "5/5 [==============================] - 0s 3ms/step - loss: 0.3041 - accuracy: 0.8733\n",
            "Epoch 157/200\n",
            "5/5 [==============================] - 0s 3ms/step - loss: 0.3025 - accuracy: 0.8733\n",
            "Epoch 158/200\n",
            "5/5 [==============================] - 0s 3ms/step - loss: 0.3008 - accuracy: 0.8733\n",
            "Epoch 159/200\n",
            "5/5 [==============================] - 0s 4ms/step - loss: 0.2989 - accuracy: 0.8800\n",
            "Epoch 160/200\n",
            "5/5 [==============================] - 0s 3ms/step - loss: 0.2973 - accuracy: 0.8800\n",
            "Epoch 161/200\n",
            "5/5 [==============================] - 0s 3ms/step - loss: 0.2956 - accuracy: 0.8867\n",
            "Epoch 162/200\n",
            "5/5 [==============================] - 0s 3ms/step - loss: 0.2938 - accuracy: 0.8867\n",
            "Epoch 163/200\n",
            "5/5 [==============================] - 0s 3ms/step - loss: 0.2918 - accuracy: 0.8933\n",
            "Epoch 164/200\n",
            "5/5 [==============================] - 0s 2ms/step - loss: 0.2898 - accuracy: 0.8933\n",
            "Epoch 165/200\n",
            "5/5 [==============================] - 0s 3ms/step - loss: 0.2879 - accuracy: 0.8933\n",
            "Epoch 166/200\n",
            "5/5 [==============================] - 0s 3ms/step - loss: 0.2859 - accuracy: 0.9000\n",
            "Epoch 167/200\n",
            "5/5 [==============================] - 0s 3ms/step - loss: 0.2839 - accuracy: 0.9000\n",
            "Epoch 168/200\n",
            "5/5 [==============================] - 0s 2ms/step - loss: 0.2818 - accuracy: 0.9000\n",
            "Epoch 169/200\n",
            "5/5 [==============================] - 0s 3ms/step - loss: 0.2798 - accuracy: 0.9067\n",
            "Epoch 170/200\n",
            "5/5 [==============================] - 0s 3ms/step - loss: 0.2778 - accuracy: 0.9067\n",
            "Epoch 171/200\n",
            "5/5 [==============================] - 0s 2ms/step - loss: 0.2755 - accuracy: 0.9067\n",
            "Epoch 172/200\n",
            "5/5 [==============================] - 0s 2ms/step - loss: 0.2733 - accuracy: 0.9067\n",
            "Epoch 173/200\n",
            "5/5 [==============================] - 0s 2ms/step - loss: 0.2711 - accuracy: 0.9000\n",
            "Epoch 174/200\n",
            "5/5 [==============================] - 0s 3ms/step - loss: 0.2684 - accuracy: 0.9000\n",
            "Epoch 175/200\n",
            "5/5 [==============================] - 0s 2ms/step - loss: 0.2665 - accuracy: 0.9000\n",
            "Epoch 176/200\n",
            "5/5 [==============================] - 0s 3ms/step - loss: 0.2634 - accuracy: 0.9067\n",
            "Epoch 177/200\n",
            "5/5 [==============================] - 0s 3ms/step - loss: 0.2610 - accuracy: 0.9067\n",
            "Epoch 178/200\n",
            "5/5 [==============================] - 0s 3ms/step - loss: 0.2584 - accuracy: 0.9067\n",
            "Epoch 179/200\n",
            "5/5 [==============================] - 0s 2ms/step - loss: 0.2556 - accuracy: 0.9067\n",
            "Epoch 180/200\n",
            "5/5 [==============================] - 0s 2ms/step - loss: 0.2531 - accuracy: 0.9267\n",
            "Epoch 181/200\n",
            "5/5 [==============================] - 0s 3ms/step - loss: 0.2507 - accuracy: 0.9267\n",
            "Epoch 182/200\n",
            "5/5 [==============================] - 0s 3ms/step - loss: 0.2478 - accuracy: 0.9267\n",
            "Epoch 183/200\n",
            "5/5 [==============================] - 0s 2ms/step - loss: 0.2453 - accuracy: 0.9333\n",
            "Epoch 184/200\n",
            "5/5 [==============================] - 0s 3ms/step - loss: 0.2426 - accuracy: 0.9333\n",
            "Epoch 185/200\n",
            "5/5 [==============================] - 0s 2ms/step - loss: 0.2399 - accuracy: 0.9333\n",
            "Epoch 186/200\n",
            "5/5 [==============================] - 0s 2ms/step - loss: 0.2370 - accuracy: 0.9333\n",
            "Epoch 187/200\n",
            "5/5 [==============================] - 0s 2ms/step - loss: 0.2347 - accuracy: 0.9333\n",
            "Epoch 188/200\n",
            "5/5 [==============================] - 0s 3ms/step - loss: 0.2315 - accuracy: 0.9333\n",
            "Epoch 189/200\n",
            "5/5 [==============================] - 0s 3ms/step - loss: 0.2288 - accuracy: 0.9333\n",
            "Epoch 190/200\n",
            "5/5 [==============================] - 0s 3ms/step - loss: 0.2260 - accuracy: 0.9333\n",
            "Epoch 191/200\n",
            "5/5 [==============================] - 0s 3ms/step - loss: 0.2226 - accuracy: 0.9400\n",
            "Epoch 192/200\n",
            "5/5 [==============================] - 0s 3ms/step - loss: 0.2194 - accuracy: 0.9400\n",
            "Epoch 193/200\n",
            "5/5 [==============================] - 0s 3ms/step - loss: 0.2163 - accuracy: 0.9533\n",
            "Epoch 194/200\n",
            "5/5 [==============================] - 0s 3ms/step - loss: 0.2129 - accuracy: 0.9533\n",
            "Epoch 195/200\n",
            "5/5 [==============================] - 0s 3ms/step - loss: 0.2098 - accuracy: 0.9533\n",
            "Epoch 196/200\n",
            "5/5 [==============================] - 0s 3ms/step - loss: 0.2066 - accuracy: 0.9533\n",
            "Epoch 197/200\n",
            "5/5 [==============================] - 0s 3ms/step - loss: 0.2035 - accuracy: 0.9533\n",
            "Epoch 198/200\n",
            "5/5 [==============================] - 0s 2ms/step - loss: 0.2007 - accuracy: 0.9533\n",
            "Epoch 199/200\n",
            "5/5 [==============================] - 0s 3ms/step - loss: 0.1972 - accuracy: 0.9600\n",
            "Epoch 200/200\n",
            "5/5 [==============================] - 0s 2ms/step - loss: 0.1942 - accuracy: 0.9600\n"
          ]
        },
        {
          "output_type": "execute_result",
          "data": {
            "text/plain": [
              "<keras.callbacks.History at 0x7f1fed04d850>"
            ]
          },
          "metadata": {},
          "execution_count": 35
        }
      ]
    },
    {
      "cell_type": "markdown",
      "metadata": {
        "id": "Rlg0e5cZj_E0"
      },
      "source": [
        "You can observe from the printout that the accuracy score is now above 90%. Wow! It seems amazing that just increasing the number of epochs will allow the accuracy to increase. Do you think it is good that the model is so highly accurate on the data that it has trained on? Just imagine, will a soccer player do well in a match if he/she only trains extremely hard on scoring a goal from a specific spot on the field? Or will a baker be able to bake a delicious cake based on a customer's request if he/she only learns how to bake a cake that is a specific flavour, shape and size?"
      ]
    },
    {
      "cell_type": "markdown",
      "metadata": {
        "id": "vgT76I0Oj_E0"
      },
      "source": [
        "The soccer player will not perform well in a match as he/she may not be able to shoot accurately from other parts of the field. The baker will not be able to bake a delicious cake as he/she will only know 1 specific flavour.\n",
        "\n",
        "The idea behind this question is the concept of overfitting. If the model overfits, it will not be able to generalise to properly predict data that it has not seen before."
      ]
    },
    {
      "cell_type": "markdown",
      "metadata": {
        "id": "o95F7ro2j_E0"
      },
      "source": [
        "This is the concept of overfitting and also applies to all machine learning techniques. Once the technique has fitted too acurrately on the dataset, the trained technique will not be able to generalise to other data that it has not seen before. As such, we usually only train the technique on a fraction of the dataset that we have and keep the remainder as a test or validation set to see if the model has overfitted. When training on the training set, the accuracy of the model on the test set should increase. However, at the point of overfitting, the accuracy on the test set will start to decrease. If you see that the test accuracy has begin to increase after a certain epoch, you should not train the model any further.\n",
        "\n",
        "Let us apply the split between a train and a test set to the dataset that we are using here."
      ]
    },
    {
      "cell_type": "markdown",
      "metadata": {
        "id": "JuVYgBwWj_E1"
      },
      "source": [
        "First, we need to decide how much data we want to keep and prevent the model from training on. Usually, we withold about 20% to 30% of the dataset. In this example, we will keep 25 percent of the dataset as the test/validation set. We can use the train_test_split function from the sklearn library. Try the code below."
      ]
    },
    {
      "cell_type": "code",
      "metadata": {
        "id": "OjuL9Ycdj_E1",
        "colab": {
          "base_uri": "https://localhost:8080/"
        },
        "outputId": "f07a379c-29a6-4b67-8024-ba40ccb7d119"
      },
      "source": [
        "from sklearn.model_selection import train_test_split\n",
        "\n",
        "# Extract out original x_values from the dataframe df. \n",
        "# We have to re-extract the x_values as the standardisation should only be based on the data that the model will train with.\n",
        "# Thus, we have to split the data first before standardising.\n",
        "x_values = df[['sepal_length','sepal_width','petal_length','petal_width']]\n",
        "\n",
        "# Test_size=0.25 indicates that 25% of the datapoints will be in x_test and y_test whereas 75% will be in x_train and y_train.\n",
        "# random_state=10 is used to ensure that the split is the same everytime you run the code below. \n",
        "# This is because the split is done randomly everytime. The same random_state is the only way to ensure the same split everytime.\n",
        "x_train, x_test, y_train, y_test = train_test_split(x_values,y_values,test_size=0.25,random_state=10)\n",
        "\n",
        "# Check the number of rows in x_train, x_test, y_train and y_test\n",
        "print(\"Number of rows in x_train:\", x_train.shape[0])\n",
        "print(\"Number of rows in x_test:\", x_test.shape[0])\n",
        "print(\"Number of rows in y_train:\", y_train.shape[0])\n",
        "print(\"Number of rows in y_test:\", y_test.shape[0])\n",
        "\n",
        "# We can now standardise the x values.\n",
        "# Initialise the StandardScaler\n",
        "standardise = StandardScaler()\n",
        "\n",
        "# Standardise the x_train values using .fit_transform\n",
        "x_train = standardise.fit_transform(x_train)\n",
        "\n",
        "# Standardise the x_test values using .transform. \n",
        "# There is no need to fit the data as the standardisation should be the same as that of x_train.\n",
        "x_test = standardise.transform(x_test)"
      ],
      "execution_count": 36,
      "outputs": [
        {
          "output_type": "stream",
          "name": "stdout",
          "text": [
            "Number of rows in x_train: 112\n",
            "Number of rows in x_test: 38\n",
            "Number of rows in y_train: 112\n",
            "Number of rows in y_test: 38\n"
          ]
        }
      ]
    },
    {
      "cell_type": "markdown",
      "metadata": {
        "id": "FVMqLQSvj_E2"
      },
      "source": [
        "Write your own code to split the dataset into train and test/validation sets by witholding 20% of the dataset as test/validation set. Use x_train2, x_test2, y_train2 and y_test2 as your variables. Check that the number of rows are correct for each variable."
      ]
    },
    {
      "cell_type": "code",
      "metadata": {
        "id": "mx9YB_i2j_E2",
        "colab": {
          "base_uri": "https://localhost:8080/"
        },
        "outputId": "56aba750-cf68-44b3-9d4f-102971092250"
      },
      "source": [
        "from sklearn.model_selection import train_test_split\n",
        "\n",
        "# Extract out original x_values from the dataframe df. \n",
        "# We have to re-extract the x_values as the standardisation should only be based on the data that the model will train with.\n",
        "# Thus, we have to split the data first before standardising.\n",
        "x_values = df[['sepal_length','sepal_width','petal_length','petal_width']]\n",
        "\n",
        "# Test_size=0.25 indicates that 25% of the datapoints will be in x_test and y_test whereas 75% will be in x_train and y_train.\n",
        "# random_state=10 is used to ensure that the split is the same everytime you run the code below. \n",
        "# This is because the split is done randomly everytime. The same random_state is the only way to ensure the same split everytime.\n",
        "x_train, x_test, y_train, y_test = train_test_split(x_values,y_values,test_size=0.20,random_state=10)\n",
        "\n",
        "# Check the number of rows in x_train, x_test, y_train and y_test\n",
        "print(\"Number of rows in x_train:\", x_train.shape[0])\n",
        "print(\"Number of rows in x_test:\", x_test.shape[0])\n",
        "print(\"Number of rows in y_train:\", y_train.shape[0])\n",
        "print(\"Number of rows in y_test:\", y_test.shape[0])\n",
        "\n",
        "# We can now standardise the x values.\n",
        "# Initialise the StandardScaler\n",
        "standardise = StandardScaler()\n",
        "\n",
        "# Standardise the x_train values using .fit_transform\n",
        "x_train = standardise.fit_transform(x_train)\n",
        "\n",
        "# Standardise the x_test values using .transform. \n",
        "# There is no need to fit the data as the standardisation should be the same as that of x_train.\n",
        "x_test = standardise.transform(x_test)"
      ],
      "execution_count": 37,
      "outputs": [
        {
          "output_type": "stream",
          "name": "stdout",
          "text": [
            "Number of rows in x_train: 120\n",
            "Number of rows in x_test: 30\n",
            "Number of rows in y_train: 120\n",
            "Number of rows in y_test: 30\n"
          ]
        }
      ]
    },
    {
      "cell_type": "markdown",
      "metadata": {
        "id": "z4ThyUHcj_E3"
      },
      "source": [
        "We shall now use x_train2, x_test2, y_train2 and y_test2 to train a neural network. Write a code to create a neural network that has 2 hidden layers with 6 nodes each and 1 output layer with 3 nodes. The activation for the input hidden layer is 'relu' wheras the activation for the output layer is 'softmax'. The optimizer to use is 'adam' and the loss should be 'categorical_crossentropy'. The metrics should be 'accuracy'. Use model_val as the model variable. Print the model summary after you compile the model."
      ]
    },
    {
      "cell_type": "code",
      "metadata": {
        "id": "uiXIp8Zsj_E3",
        "colab": {
          "base_uri": "https://localhost:8080/"
        },
        "outputId": "7a8fc687-0c96-4471-fdea-ca018227d5ae"
      },
      "source": [
        "# Initialise the second neural network as model with two hidden layers\n",
        "model_val = Sequential()\n",
        "\n",
        "# Add the first hidden layer with 6 nodes. Input_dim refers to the number of columns/number of features in x_values or the input layer.\n",
        "# Activation refers to how the nodes/neurons are activated. We will use relu (Rectified Linear Unit). Other common activations are 'sigmoid' and 'tanh'\n",
        "model_val.add(Dense(6,input_dim=4,activation='relu'))\n",
        "\n",
        "# Add the hidden layer with 6 nodes. \n",
        "model_val.add(Dense(6,activation='relu'))\n",
        "\n",
        "# Add the output layer with 3 nodes. The activation used has to be 'softmax'. Softmax is used when you are dealing with categorical outputs or targets. \n",
        "model_val.add(Dense(3,activation='softmax'))\n",
        "\n",
        "# Compile the model together. The optimizer refers to the method to make the adjustment within the model. Loss refers to how the difference between the predicted out \n",
        "model_val.compile(optimizer='adam',loss='categorical_crossentropy',metrics=['accuracy'])\n",
        "\n",
        "# Train model with x_values and y_values. \n",
        "# Epochs refer to the number of times the full dataset will be used to train the model.\n",
        "# Shuffle = True tells the model to randomise the arrangement of the dataset after each epoch. \n",
        "model_val.fit(x_values,y_values,epochs=20,shuffle=True)"
      ],
      "execution_count": 38,
      "outputs": [
        {
          "output_type": "stream",
          "name": "stdout",
          "text": [
            "Epoch 1/20\n",
            "5/5 [==============================] - 0s 3ms/step - loss: 1.0771 - accuracy: 0.3333\n",
            "Epoch 2/20\n",
            "5/5 [==============================] - 0s 3ms/step - loss: 0.9617 - accuracy: 0.3467\n",
            "Epoch 3/20\n",
            "5/5 [==============================] - 0s 3ms/step - loss: 0.8874 - accuracy: 0.4200\n",
            "Epoch 4/20\n",
            "5/5 [==============================] - 0s 3ms/step - loss: 0.8537 - accuracy: 0.4400\n",
            "Epoch 5/20\n",
            "5/5 [==============================] - 0s 2ms/step - loss: 0.8301 - accuracy: 0.4200\n",
            "Epoch 6/20\n",
            "5/5 [==============================] - 0s 3ms/step - loss: 0.8144 - accuracy: 0.4133\n",
            "Epoch 7/20\n",
            "5/5 [==============================] - 0s 3ms/step - loss: 0.7997 - accuracy: 0.4200\n",
            "Epoch 8/20\n",
            "5/5 [==============================] - 0s 3ms/step - loss: 0.7868 - accuracy: 0.4467\n",
            "Epoch 9/20\n",
            "5/5 [==============================] - 0s 3ms/step - loss: 0.7732 - accuracy: 0.4600\n",
            "Epoch 10/20\n",
            "5/5 [==============================] - 0s 2ms/step - loss: 0.7609 - accuracy: 0.4667\n",
            "Epoch 11/20\n",
            "5/5 [==============================] - 0s 4ms/step - loss: 0.7491 - accuracy: 0.4867\n",
            "Epoch 12/20\n",
            "5/5 [==============================] - 0s 3ms/step - loss: 0.7381 - accuracy: 0.5000\n",
            "Epoch 13/20\n",
            "5/5 [==============================] - 0s 3ms/step - loss: 0.7271 - accuracy: 0.4933\n",
            "Epoch 14/20\n",
            "5/5 [==============================] - 0s 3ms/step - loss: 0.7156 - accuracy: 0.5200\n",
            "Epoch 15/20\n",
            "5/5 [==============================] - 0s 4ms/step - loss: 0.7044 - accuracy: 0.5667\n",
            "Epoch 16/20\n",
            "5/5 [==============================] - 0s 2ms/step - loss: 0.6937 - accuracy: 0.6867\n",
            "Epoch 17/20\n",
            "5/5 [==============================] - 0s 2ms/step - loss: 0.6828 - accuracy: 0.8133\n",
            "Epoch 18/20\n",
            "5/5 [==============================] - 0s 2ms/step - loss: 0.6724 - accuracy: 0.8333\n",
            "Epoch 19/20\n",
            "5/5 [==============================] - 0s 2ms/step - loss: 0.6628 - accuracy: 0.8467\n",
            "Epoch 20/20\n",
            "5/5 [==============================] - 0s 3ms/step - loss: 0.6524 - accuracy: 0.8533\n"
          ]
        },
        {
          "output_type": "execute_result",
          "data": {
            "text/plain": [
              "<keras.callbacks.History at 0x7f1fe883fa10>"
            ]
          },
          "metadata": {},
          "execution_count": 38
        }
      ]
    },
    {
      "cell_type": "markdown",
      "metadata": {
        "id": "BgWMBhJij_E4"
      },
      "source": [
        "We can now train model_val using x_train and y_train. We will also test the accuracy after each epoch using x_test and y_test. Try the code below!"
      ]
    },
    {
      "cell_type": "code",
      "metadata": {
        "id": "ks7Z9LAgj_E4",
        "colab": {
          "base_uri": "https://localhost:8080/"
        },
        "outputId": "7ccceba8-6571-4167-b1ee-ddeea806188f"
      },
      "source": [
        "# Train model with x_values and y_values. \n",
        "# Epochs refer to the number of times the full dataset will be used to train the model.\n",
        "# Shuffle = True tells the model to randomise the arrangement of the dataset after each epoch. This will allow the model to learn.\n",
        "# Validation_data will allow us to input in the test/validation datasets. This will allow us to see the model accuracy on the test/validation set.\n",
        "model_val.fit(x_train,y_train,epochs=50,shuffle=True,validation_data=(x_test,y_test))"
      ],
      "execution_count": 39,
      "outputs": [
        {
          "output_type": "stream",
          "name": "stdout",
          "text": [
            "Epoch 1/50\n",
            "4/4 [==============================] - 0s 51ms/step - loss: 0.9505 - accuracy: 0.6583 - val_loss: 1.0308 - val_accuracy: 0.5333\n",
            "Epoch 2/50\n",
            "4/4 [==============================] - 0s 7ms/step - loss: 0.9472 - accuracy: 0.6583 - val_loss: 1.0277 - val_accuracy: 0.5333\n",
            "Epoch 3/50\n",
            "4/4 [==============================] - 0s 7ms/step - loss: 0.9424 - accuracy: 0.6667 - val_loss: 1.0240 - val_accuracy: 0.5333\n",
            "Epoch 4/50\n",
            "4/4 [==============================] - 0s 7ms/step - loss: 0.9366 - accuracy: 0.6667 - val_loss: 1.0198 - val_accuracy: 0.5333\n",
            "Epoch 5/50\n",
            "4/4 [==============================] - 0s 8ms/step - loss: 0.9308 - accuracy: 0.6750 - val_loss: 1.0156 - val_accuracy: 0.5667\n",
            "Epoch 6/50\n",
            "4/4 [==============================] - 0s 10ms/step - loss: 0.9246 - accuracy: 0.6750 - val_loss: 1.0113 - val_accuracy: 0.5667\n",
            "Epoch 7/50\n",
            "4/4 [==============================] - 0s 9ms/step - loss: 0.9180 - accuracy: 0.6750 - val_loss: 1.0069 - val_accuracy: 0.5667\n",
            "Epoch 8/50\n",
            "4/4 [==============================] - 0s 9ms/step - loss: 0.9121 - accuracy: 0.6750 - val_loss: 1.0023 - val_accuracy: 0.5667\n",
            "Epoch 9/50\n",
            "4/4 [==============================] - 0s 10ms/step - loss: 0.9056 - accuracy: 0.6833 - val_loss: 0.9980 - val_accuracy: 0.5667\n",
            "Epoch 10/50\n",
            "4/4 [==============================] - 0s 10ms/step - loss: 0.8998 - accuracy: 0.6833 - val_loss: 0.9934 - val_accuracy: 0.5667\n",
            "Epoch 11/50\n",
            "4/4 [==============================] - 0s 8ms/step - loss: 0.8937 - accuracy: 0.6750 - val_loss: 0.9889 - val_accuracy: 0.5667\n",
            "Epoch 12/50\n",
            "4/4 [==============================] - 0s 9ms/step - loss: 0.8881 - accuracy: 0.6750 - val_loss: 0.9846 - val_accuracy: 0.5667\n",
            "Epoch 13/50\n",
            "4/4 [==============================] - 0s 10ms/step - loss: 0.8824 - accuracy: 0.6750 - val_loss: 0.9802 - val_accuracy: 0.5667\n",
            "Epoch 14/50\n",
            "4/4 [==============================] - 0s 9ms/step - loss: 0.8771 - accuracy: 0.6833 - val_loss: 0.9760 - val_accuracy: 0.5667\n",
            "Epoch 15/50\n",
            "4/4 [==============================] - 0s 9ms/step - loss: 0.8716 - accuracy: 0.6833 - val_loss: 0.9719 - val_accuracy: 0.5667\n",
            "Epoch 16/50\n",
            "4/4 [==============================] - 0s 15ms/step - loss: 0.8667 - accuracy: 0.6833 - val_loss: 0.9680 - val_accuracy: 0.5667\n",
            "Epoch 17/50\n",
            "4/4 [==============================] - 0s 8ms/step - loss: 0.8616 - accuracy: 0.6917 - val_loss: 0.9639 - val_accuracy: 0.5667\n",
            "Epoch 18/50\n",
            "4/4 [==============================] - 0s 10ms/step - loss: 0.8566 - accuracy: 0.7000 - val_loss: 0.9596 - val_accuracy: 0.5667\n",
            "Epoch 19/50\n",
            "4/4 [==============================] - 0s 10ms/step - loss: 0.8517 - accuracy: 0.7000 - val_loss: 0.9555 - val_accuracy: 0.5667\n",
            "Epoch 20/50\n",
            "4/4 [==============================] - 0s 15ms/step - loss: 0.8468 - accuracy: 0.7000 - val_loss: 0.9513 - val_accuracy: 0.5667\n",
            "Epoch 21/50\n",
            "4/4 [==============================] - 0s 9ms/step - loss: 0.8421 - accuracy: 0.7083 - val_loss: 0.9472 - val_accuracy: 0.5667\n",
            "Epoch 22/50\n",
            "4/4 [==============================] - 0s 10ms/step - loss: 0.8373 - accuracy: 0.7083 - val_loss: 0.9431 - val_accuracy: 0.6000\n",
            "Epoch 23/50\n",
            "4/4 [==============================] - 0s 9ms/step - loss: 0.8328 - accuracy: 0.7083 - val_loss: 0.9390 - val_accuracy: 0.6333\n",
            "Epoch 24/50\n",
            "4/4 [==============================] - 0s 9ms/step - loss: 0.8283 - accuracy: 0.7083 - val_loss: 0.9349 - val_accuracy: 0.6333\n",
            "Epoch 25/50\n",
            "4/4 [==============================] - 0s 9ms/step - loss: 0.8239 - accuracy: 0.7083 - val_loss: 0.9308 - val_accuracy: 0.6333\n",
            "Epoch 26/50\n",
            "4/4 [==============================] - 0s 10ms/step - loss: 0.8194 - accuracy: 0.7083 - val_loss: 0.9265 - val_accuracy: 0.6333\n",
            "Epoch 27/50\n",
            "4/4 [==============================] - 0s 11ms/step - loss: 0.8150 - accuracy: 0.7083 - val_loss: 0.9222 - val_accuracy: 0.6333\n",
            "Epoch 28/50\n",
            "4/4 [==============================] - 0s 9ms/step - loss: 0.8109 - accuracy: 0.7083 - val_loss: 0.9177 - val_accuracy: 0.6333\n",
            "Epoch 29/50\n",
            "4/4 [==============================] - 0s 8ms/step - loss: 0.8066 - accuracy: 0.7167 - val_loss: 0.9133 - val_accuracy: 0.6333\n",
            "Epoch 30/50\n",
            "4/4 [==============================] - 0s 11ms/step - loss: 0.8024 - accuracy: 0.7250 - val_loss: 0.9092 - val_accuracy: 0.6667\n",
            "Epoch 31/50\n",
            "4/4 [==============================] - 0s 9ms/step - loss: 0.7983 - accuracy: 0.7333 - val_loss: 0.9051 - val_accuracy: 0.6667\n",
            "Epoch 32/50\n",
            "4/4 [==============================] - 0s 9ms/step - loss: 0.7942 - accuracy: 0.7500 - val_loss: 0.9009 - val_accuracy: 0.6667\n",
            "Epoch 33/50\n",
            "4/4 [==============================] - 0s 15ms/step - loss: 0.7901 - accuracy: 0.7500 - val_loss: 0.8970 - val_accuracy: 0.6667\n",
            "Epoch 34/50\n",
            "4/4 [==============================] - 0s 9ms/step - loss: 0.7860 - accuracy: 0.7500 - val_loss: 0.8930 - val_accuracy: 0.6667\n",
            "Epoch 35/50\n",
            "4/4 [==============================] - 0s 10ms/step - loss: 0.7819 - accuracy: 0.7500 - val_loss: 0.8888 - val_accuracy: 0.6667\n",
            "Epoch 36/50\n",
            "4/4 [==============================] - 0s 10ms/step - loss: 0.7778 - accuracy: 0.7500 - val_loss: 0.8846 - val_accuracy: 0.6667\n",
            "Epoch 37/50\n",
            "4/4 [==============================] - 0s 10ms/step - loss: 0.7737 - accuracy: 0.7500 - val_loss: 0.8806 - val_accuracy: 0.6667\n",
            "Epoch 38/50\n",
            "4/4 [==============================] - 0s 9ms/step - loss: 0.7697 - accuracy: 0.7500 - val_loss: 0.8761 - val_accuracy: 0.6667\n",
            "Epoch 39/50\n",
            "4/4 [==============================] - 0s 10ms/step - loss: 0.7655 - accuracy: 0.7500 - val_loss: 0.8717 - val_accuracy: 0.6667\n",
            "Epoch 40/50\n",
            "4/4 [==============================] - 0s 10ms/step - loss: 0.7615 - accuracy: 0.7500 - val_loss: 0.8674 - val_accuracy: 0.6667\n",
            "Epoch 41/50\n",
            "4/4 [==============================] - 0s 10ms/step - loss: 0.7574 - accuracy: 0.7500 - val_loss: 0.8626 - val_accuracy: 0.6667\n",
            "Epoch 42/50\n",
            "4/4 [==============================] - 0s 10ms/step - loss: 0.7531 - accuracy: 0.7500 - val_loss: 0.8582 - val_accuracy: 0.6667\n",
            "Epoch 43/50\n",
            "4/4 [==============================] - 0s 9ms/step - loss: 0.7487 - accuracy: 0.7583 - val_loss: 0.8537 - val_accuracy: 0.6667\n",
            "Epoch 44/50\n",
            "4/4 [==============================] - 0s 10ms/step - loss: 0.7442 - accuracy: 0.7583 - val_loss: 0.8489 - val_accuracy: 0.6667\n",
            "Epoch 45/50\n",
            "4/4 [==============================] - 0s 9ms/step - loss: 0.7395 - accuracy: 0.7583 - val_loss: 0.8435 - val_accuracy: 0.6667\n",
            "Epoch 46/50\n",
            "4/4 [==============================] - 0s 8ms/step - loss: 0.7345 - accuracy: 0.7750 - val_loss: 0.8380 - val_accuracy: 0.6667\n",
            "Epoch 47/50\n",
            "4/4 [==============================] - 0s 10ms/step - loss: 0.7296 - accuracy: 0.7750 - val_loss: 0.8324 - val_accuracy: 0.6667\n",
            "Epoch 48/50\n",
            "4/4 [==============================] - 0s 8ms/step - loss: 0.7244 - accuracy: 0.7750 - val_loss: 0.8267 - val_accuracy: 0.6667\n",
            "Epoch 49/50\n",
            "4/4 [==============================] - 0s 8ms/step - loss: 0.7191 - accuracy: 0.7750 - val_loss: 0.8206 - val_accuracy: 0.6667\n",
            "Epoch 50/50\n",
            "4/4 [==============================] - 0s 8ms/step - loss: 0.7137 - accuracy: 0.7833 - val_loss: 0.8149 - val_accuracy: 0.6667\n"
          ]
        },
        {
          "output_type": "execute_result",
          "data": {
            "text/plain": [
              "<keras.callbacks.History at 0x7f1fe8768dd0>"
            ]
          },
          "metadata": {},
          "execution_count": 39
        }
      ]
    },
    {
      "cell_type": "markdown",
      "metadata": {
        "id": "ItfLT0YJj_E5"
      },
      "source": [
        "Did you notice that the printout now shows the validation accuracy as well? Is the validation accuracy higher or lower than the training accuracy?"
      ]
    },
    {
      "cell_type": "code",
      "metadata": {
        "id": "YHYpI_dDj_E5"
      },
      "source": [
        "# I sure did"
      ],
      "execution_count": null,
      "outputs": []
    },
    {
      "cell_type": "markdown",
      "metadata": {
        "id": "Y6PU2CRNj_E5"
      },
      "source": [
        "We can also use the model to identify flower types for newly gathered data. For example, imagine that your friend has measured the sepal_length, sepal_width, petal_length and petal_width of some flowers and saved the data in a file called \"iris_predict.data\". Your friend wants to find the flower types for these flowers based on the values measured. Would you be able to use your model to help your friend? What are the flower types that your friend measured? Try the codes below!\n",
        "<font color=blue>Hint: You can use model.predict method to obtain the flower types for your friend. Additionally, the values returned by the .predict method will be the probability of each flower type that the model thinks should be assigned to each data row. As such, the higher the probablity, the more confident the model is that the flower type predicted is correct. For example, if the predicted values are very high in the second column, then the model thinks that the flower type is versicolor. You will also need to scale your data before obtaining the flower types. </font>"
      ]
    },
    {
      "cell_type": "code",
      "metadata": {
        "id": "GyF4Dybkj_E6"
      },
      "source": [
        "df2 = pd.read_csv(\"./Module13_Dataset_iris_predict.data\",header=None)\n",
        "names = [\"sepal_length\", \"sepal_width\",\"petal_length\", \"petal_width\"]\n",
        "df2.columns = names"
      ],
      "execution_count": 41,
      "outputs": []
    },
    {
      "cell_type": "code",
      "metadata": {
        "id": "MJVpO_mOj_E7"
      },
      "source": [
        "x_new = df2[['sepal_length','sepal_width','petal_length','petal_width']]"
      ],
      "execution_count": 42,
      "outputs": []
    },
    {
      "cell_type": "code",
      "metadata": {
        "id": "HI-MjmSWj_E8"
      },
      "source": [
        "x_new_scale = standardise.transform(x_new)"
      ],
      "execution_count": 43,
      "outputs": []
    },
    {
      "cell_type": "code",
      "metadata": {
        "id": "B5vtYi7kj_E9"
      },
      "source": [
        "y_new = model_val.predict(x_new_scale)"
      ],
      "execution_count": 44,
      "outputs": []
    },
    {
      "cell_type": "code",
      "metadata": {
        "id": "t_Cz0uS0j_E9",
        "colab": {
          "base_uri": "https://localhost:8080/"
        },
        "outputId": "5d8c6ffe-0391-4291-8338-021cc39c132b"
      },
      "source": [
        "print(y_new)"
      ],
      "execution_count": 45,
      "outputs": [
        {
          "output_type": "stream",
          "name": "stdout",
          "text": [
            "[[0.44721287 0.31805265 0.23473445]\n",
            " [0.44744173 0.318088   0.2344703 ]\n",
            " [0.4381378  0.31655505 0.24530713]\n",
            " [0.19858831 0.44812357 0.35328808]\n",
            " [0.33124793 0.37850267 0.29024935]\n",
            " [0.01774046 0.2541803  0.7280792 ]\n",
            " [0.02153219 0.31203562 0.6664322 ]\n",
            " [0.01223649 0.2522102  0.7355534 ]\n",
            " [0.03017388 0.30032176 0.6695044 ]\n",
            " [0.17568293 0.38132602 0.44299105]]\n"
          ]
        }
      ]
    },
    {
      "cell_type": "markdown",
      "metadata": {
        "id": "ir4Md5i0j_E9"
      },
      "source": [
        "What are the flower types for each data row? You can use the [argmax](https://www.geeksforgeeks.org/numpy-argmax-python/) function to help you identify the flower types from y_new. Try the code below!"
      ]
    },
    {
      "cell_type": "code",
      "metadata": {
        "id": "KS_g3xHaj_E-",
        "colab": {
          "base_uri": "https://localhost:8080/"
        },
        "outputId": "93bafe40-88e1-4d16-eb46-f8ec250ebd09"
      },
      "source": [
        "flower_types = []\n",
        "for ii in range(0,y_new.shape[0]):\n",
        "    flower_types.append(np.argmax(y_new[ii,:]))\n",
        "print(flower_types)"
      ],
      "execution_count": 57,
      "outputs": [
        {
          "output_type": "stream",
          "name": "stdout",
          "text": [
            "[0, 0, 0, 1, 1, 2, 2, 2, 2, 2]\n"
          ]
        }
      ]
    },
    {
      "cell_type": "markdown",
      "metadata": {
        "id": "qIInlQJHj_E-"
      },
      "source": [
        "Are you able to match the flower type numbers back to the different types (Setosa, Versicolor, Virginica)?"
      ]
    },
    {
      "cell_type": "code",
      "metadata": {
        "id": "7CSTq0z6j_E-",
        "colab": {
          "base_uri": "https://localhost:8080/"
        },
        "outputId": "4231d937-fe22-437a-9433-11202e9ad114"
      },
      "source": [
        "print(flower_types)\n",
        "for i in flower_types:\n",
        "  if i == 0: \n",
        "    i = \"Iris-setosa\"\n",
        "  elif i == 2: \n",
        "    i = \"Iris-Versicolor\"\n",
        "  else:  \n",
        "    i = 'Iris-Verbona';\n",
        "\n",
        "  print(flower_types)"
      ],
      "execution_count": 58,
      "outputs": [
        {
          "output_type": "stream",
          "name": "stdout",
          "text": [
            "[0, 0, 0, 1, 1, 2, 2, 2, 2, 2]\n",
            "[0, 0, 0, 1, 1, 2, 2, 2, 2, 2]\n",
            "[0, 0, 0, 1, 1, 2, 2, 2, 2, 2]\n",
            "[0, 0, 0, 1, 1, 2, 2, 2, 2, 2]\n",
            "[0, 0, 0, 1, 1, 2, 2, 2, 2, 2]\n",
            "[0, 0, 0, 1, 1, 2, 2, 2, 2, 2]\n",
            "[0, 0, 0, 1, 1, 2, 2, 2, 2, 2]\n",
            "[0, 0, 0, 1, 1, 2, 2, 2, 2, 2]\n",
            "[0, 0, 0, 1, 1, 2, 2, 2, 2, 2]\n",
            "[0, 0, 0, 1, 1, 2, 2, 2, 2, 2]\n",
            "[0, 0, 0, 1, 1, 2, 2, 2, 2, 2]\n"
          ]
        }
      ]
    },
    {
      "cell_type": "markdown",
      "metadata": {
        "id": "xWxYJ9mjj_E_"
      },
      "source": [
        "Congrats! You have successfully learnt how to create an artificial neural network model and trained it. Artficial neural networks are extremely powerful tools that can be used on very large datasets. For example, if you have a couple of hundred columns/features and over 100000 data points, it may be beneficial to use artificial neural networks instead of other machine learning techniques. Just remember, there are no strict rules on the number of nodes in the hidden layer or the number of hidden layers. Experiment with different neural networks to see which one provides the best result for your dataset."
      ]
    }
  ]
}