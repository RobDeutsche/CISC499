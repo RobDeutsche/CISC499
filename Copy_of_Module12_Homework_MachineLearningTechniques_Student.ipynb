{
  "nbformat": 4,
  "nbformat_minor": 0,
  "metadata": {
    "kernelspec": {
      "display_name": "Python 3",
      "language": "python",
      "name": "python3"
    },
    "language_info": {
      "codemirror_mode": {
        "name": "ipython",
        "version": 3
      },
      "file_extension": ".py",
      "mimetype": "text/x-python",
      "name": "python",
      "nbconvert_exporter": "python",
      "pygments_lexer": "ipython3",
      "version": "3.6.7"
    },
    "colab": {
      "name": "Copy of Module12-Homework-MachineLearningTechniques-Student.ipynb",
      "provenance": [],
      "collapsed_sections": [
        "Z8_x32gcRjI8",
        "o9kOr05SRjI8",
        "Ztj50XJKRjJH"
      ],
      "include_colab_link": true
    }
  },
  "cells": [
    {
      "cell_type": "markdown",
      "metadata": {
        "id": "view-in-github",
        "colab_type": "text"
      },
      "source": [
        "<a href=\"https://colab.research.google.com/github/RobDeutsche/CISC499/blob/main/Copy_of_Module12_Homework_MachineLearningTechniques_Student.ipynb\" target=\"_parent\"><img src=\"https://colab.research.google.com/assets/colab-badge.svg\" alt=\"Open In Colab\"/></a>"
      ]
    },
    {
      "cell_type": "markdown",
      "metadata": {
        "id": "r7_FoYDuRjIj"
      },
      "source": [
        "## Machine Learning Techniques"
      ]
    },
    {
      "cell_type": "markdown",
      "metadata": {
        "id": "d0ZwnaZRRjIr"
      },
      "source": [
        "## Introduction\n",
        "In the previous lesson, we have learnt how to import data and process them, so that they are ready to be used for the next step in the AI process - Modelling. \n",
        "\n",
        "There are many different types of machine learning techniques which can be used to run different [machine learning tasks](https://developers.google.com/machine-learning/problem-framing/cases) such as classification, regression, and clustering. In this session, we will create our own models to make predictions, cluster data, etc. The skills you will gain here will be used again to create your solution!  \n",
        "\n",
        "## Machine Learning\n",
        "Machine learning refers to the ability of the computer to learn patterns and relationships between data variables. They can do this through previous examples or learning from current datasets. Read this [article](https://hackernoon.com/the-simplest-explanation-of-machine-learning-youll-ever-read-bebc0700047c) to find out more about machine learning. Write down any information that you find interesting in your worksheet.\n",
        "\n",
        "As explored previously, there are 2 main types of machine learning algorithms we want to explore: Supervised learning and unsupervised learning. Do you still remember the [difference between the two](https://towardsdatascience.com/supervised-vs-unsupervised-learning-14f68e32ea8d)?"
      ]
    },
    {
      "cell_type": "code",
      "metadata": {
        "id": "m1tlTV2lRjIs"
      },
      "source": [
        "#I like how this article makes an effort to \"de-mistify\" the concept of ML, especially the descriptor as ML as a self-writing recipe.  Basically taking old ingredients, viewing outcomes as a result of mixing those ingredients in different ways, then making suggestions based on the best outcomes when you add future ingredients.\n",
        "#Supervised ML is, in short, when you know the end results, and you are trying to figure out the relationship between the input data and the end results.  Unsupervised learning is when you have data, and you are trying to figure out relationships between the data not knowing the outcomes."
      ],
      "execution_count": null,
      "outputs": []
    },
    {
      "cell_type": "markdown",
      "metadata": {
        "id": "R1p797S5RjIu"
      },
      "source": [
        "### Import libraries!\n",
        "Let us first import the pandas library to help us work with our dataset. "
      ]
    },
    {
      "cell_type": "code",
      "metadata": {
        "id": "kMaigusOA8R_"
      },
      "source": [
        ""
      ],
      "execution_count": null,
      "outputs": []
    },
    {
      "cell_type": "code",
      "metadata": {
        "id": "WBvrvSsiRjIv"
      },
      "source": [
        "import pandas as pd\n"
      ],
      "execution_count": null,
      "outputs": []
    },
    {
      "cell_type": "markdown",
      "metadata": {
        "id": "_fEXJ6jkRjIw"
      },
      "source": [
        "# 1. Supervised Learning Techniques"
      ]
    },
    {
      "cell_type": "markdown",
      "metadata": {
        "id": "sGB80gnyRjIw"
      },
      "source": [
        "Have you used the video sharing site Youtube before? Do you realise that it will recommend videos that it thinks you will like to watch? Do you notice that the videos recommended to you will be different compared to the videos recommended to your friends? How do you think it can do that? \n",
        "\n",
        "The Youtube recommendation technology uses something known as supervised learning techique. Every time you 'like' a video, Youtube will record down the information of the video: Its name, genre, length, uploaders, etc. The more you watch and 'like' videos, the more information will be recorded into the system. \n",
        "\n",
        "This data set will be used to train a supervised learning model which will then predict which video you might like. This is done by analysing the videos you have watched and 'liked', and looking at the similarities between the video information. In this case, the videos that you liked previously will be the features or the data that the model will train. On the other hand, the videos that you most likely will want to watch (watched by other people who liked the same videos as you) will be the labels or the targets to the model/technique. The model/technique essentially tries and \"match\" the features to the labels. "
      ]
    },
    {
      "cell_type": "markdown",
      "metadata": {
        "id": "OE1tZ4_2RjIy"
      },
      "source": [
        "Supervised learning techniques requires training data that is labelled. For example, in the previous example, a video can either be liked, not rated, or disliked. These are the labels that are necessary in the training data when training the model. With more training data, a more accurate model can be made. \n",
        "\n",
        "Label has to be appropriate. For example, if you want to predict the exam scores of a student given the number of hours spent studying, then the data must contain the exam scores for each student. This will allow the machine learning algorithm to learn from the examples given. \n",
        "\n",
        "Another important term in supervised learning techniques is 'features'. Features refer to the data that can be used to predict the target or label. Based on the example of the exam scores, the exam scores are the target and the number of hours spent studying is a feature. Other features for that example can include the number of questions practiced, amount of sleep before the exam, etc. \n",
        "\n",
        "With the features and labels/targets, the algorithm will then be able to \"learn\" the relationship between the features and labels/targets."
      ]
    },
    {
      "cell_type": "markdown",
      "metadata": {
        "id": "PHXRfK1LRjI1"
      },
      "source": [
        "Read the articles https://towardsdatascience.com/explaining-supervised-learning-to-a-kid-c2236f423e0f and https://www.geeksforgeeks.org/supervised-unsupervised-learning/, and watch this [video](https://www.youtube.com/watch?v=cfj6yaYE86U) and answer the questions listed below in your worksheet. Pay more attention to supervised learning. It is ok if you do not understand unsupervised learning at this point.\n",
        "\n",
        "- Explain supervised learning in your own words.\n",
        "- Explain and give examples of the terms: features, labels/targets, machine learning"
      ]
    },
    {
      "cell_type": "markdown",
      "metadata": {
        "id": "_gYvwfBiRjI3"
      },
      "source": [
        "Supervised learning techniques can be used to either classify data into different groups or to predict the relationships between variables. Techniques that classify data return categories or groups. For example, if we want to predict whether there will be rain tomorrow, we can use an algorithm that will return categories such as raining or sunny. On the other hand, techniques that are used for regression return numerical solutions. For example, if we want to predict the amount of rain tomorrow, we can use an alogrithm than will return numbers instead of categories.\n",
        "\n",
        "Read this [article](https://machinelearningmastery.com/classification-versus-regression-in-machine-learning/) to find out more information about difference between classification and regression. While reading the article, try to think of some scenarios where you will use classification and also some scenarios where you will use regression. List these scenarios in the cell below."
      ]
    },
    {
      "cell_type": "code",
      "metadata": {
        "id": "Uz7zCCxVRjI3"
      },
      "source": [
        "#Regression would be used in anything related to pricing or estimating a specific value or outcome.  For example, I want to estimate the value of my home in Folsom when compared to other homes.  I have the square footage, lot size, number of bedroom data for all sold homes in the past few years, and from that I can use regression to come up with a formula that will give me an estimate of what my own home is worth.  Another scenario where regression would be used could be something like baby height/ weight after the first year.  You can look at data from babies as to weight/ height at birth, diet, height/ weight at specific intervals, as well as categorical data such as gender, etc.., and use regression to put together an estimator for a the weight/ height of a new baby a year from now.\n",
        "#Classification would be used when they are trying to explain the \"what\" based on other values.  For example, I log onto Netflix, I watch two comedy specials, a Sci-Fi movie, a bunch of cartoons, and an action movie.  Netflix can look at what I looked at and when I viewed it, as well as other data, to come up with specific recommendations based on the time of day at which I am viewing or the night of the week."
      ],
      "execution_count": null,
      "outputs": []
    },
    {
      "cell_type": "markdown",
      "metadata": {
        "id": "15cO4a38RjI4"
      },
      "source": [
        "After understanding what is supervised learning, we will now explore the different supervised learning techniques!"
      ]
    },
    {
      "cell_type": "markdown",
      "metadata": {
        "id": "ihwBrfRNRjI4"
      },
      "source": [
        "# 1.1 K-Nearest Neighbours"
      ]
    },
    {
      "cell_type": "markdown",
      "metadata": {
        "id": "-hSm8fmkRjI4"
      },
      "source": [
        "Look at the graph! These are the height and weight samples of male and female. Notice how they are grouped together. Males tend to be taller and heavier as compared to females, and you can see that there is a noticeable grouping."
      ]
    },
    {
      "cell_type": "markdown",
      "metadata": {
        "id": "9jl4jGz0RjI5"
      },
      "source": [
        "<img src = \"https://lrccd.instructure.com/files/30334201/download?download_frd=1\">"
      ]
    },
    {
      "cell_type": "markdown",
      "metadata": {
        "id": "T1ZbmrpnRjI5"
      },
      "source": [
        "Now, look at the green dot, the unknown input. Looking at the data, would you say that the unknown input belong to the male data or the female data? Why? How would you determine that?\n",
        "\n",
        "Well, you can see that they are closer to the male data, and thus it is more likely that the unknown data represents a male as well. This method of determining a group by its distance to other, already known data points, is called the K-nearest neighbours"
      ]
    },
    {
      "cell_type": "markdown",
      "metadata": {
        "id": "SxO_5yQcRjI5"
      },
      "source": [
        "K-Nearest Neighbours (KNN) can be used in classification or regression problems. However, it is mainly used for classification problems. As the name suggests, this algorithm relies on the surrounding points or neighbours to determine its class or group. For example, if you are trying to classify an unknown point as either class A or class B using KNN and the majority of the points nearest to the unknown point are in class A, which class do you think the unknown point will be in?\n",
        "\n",
        "If you guessed class A, your answer is right. This is because KNN utilises the properties of the majority of the nearest points to decide how to classify unknown points. This is similar to the famous phrase \"birds of the same feather, flock together\". Likewise, you will expect points that are similar to be close to each other.\n",
        "\n",
        "Watch this [video](https://www.youtube.com/watch?v=MDniRwXizWo) to find out more about KNN. What are the main advantages and disadvantages of KNN? You will be using KNN in subsequent exercises. This is because it is an easy to use and flexible algorithm which can be used for many problems."
      ]
    },
    {
      "cell_type": "code",
      "metadata": {
        "id": "FKcrQvDfRjI6"
      },
      "source": [
        "#Main advantages of KNN are that it is quick, simple, and accurate.  A big disadvantage is that whereas a regression gives you measurements and confidence levels, the KNN model does not.  "
      ],
      "execution_count": null,
      "outputs": []
    },
    {
      "cell_type": "markdown",
      "metadata": {
        "id": "WmVeyyorRjI6"
      },
      "source": [
        "After understanding how KNN works, lets try to apply it to a hypothetical scenario. In this scenario, you want to predict if a device is a laptop or a computer using features such as price and amount of memory. As such, you plotted a scatter plot for all the data points that you have."
      ]
    },
    {
      "cell_type": "markdown",
      "metadata": {
        "id": "i8RQD9ZARjI6"
      },
      "source": [
        "<img src='https://lrccd.instructure.com/files/30334625/download?download_frd=1'>"
      ]
    },
    {
      "cell_type": "markdown",
      "metadata": {
        "id": "cVpMYXW3RjI7"
      },
      "source": [
        "The x-axis shows the amount of memory (GB) whereas the y-axis shows the price (USD). The blue circles are data points for desktop whereas the orange circles are data points for laptops. The star represents the unknown point.\n",
        "\n",
        "Based on your understanding of KNN, will the unknown point be a desktop or laptop if we were to apply KNN with 3 nearest neighbours? Will your answer change if you were to use 4 nearest neighbours or 5 nearest neighbours? How about if you were to use 9 nearest neighbours?"
      ]
    },
    {
      "cell_type": "code",
      "metadata": {
        "id": "8SIU-qK8RjI7"
      },
      "source": [
        "# Laptop.  My answer would stay the same at 4 nearest neighbors as it would at 5.  It would not make sense to use 9 nearest neighbors, as there are only 9 data points and two potential classifications."
      ],
      "execution_count": null,
      "outputs": []
    },
    {
      "cell_type": "markdown",
      "metadata": {
        "id": "mLVH7dRKRjI7"
      },
      "source": [
        "Did you realise that the unknown point will change its classification if you were to use 9 nearest neighbours? From the graph, it is quite obvious that the unknown point is not a desktop. However, due to KNN using the majority, it is possible for KNN to wrongly classify an unknown point if the wrong number of nearest neighbours were used. Thus, it is always important to identify the best number of nearest neighbours. We will see how this is done in the next few workshops when we learn how to tune the models! For now, it is sufficient to just understand why the number of neighbours is an important parameter in K nearest neighbours."
      ]
    },
    {
      "cell_type": "markdown",
      "metadata": {
        "id": "Z8_x32gcRjI8"
      },
      "source": [
        "## Classifying flowers using KNN and the Iris Flower dataset\n",
        "\n",
        "Let us now apply the KNN technique to the Iris Flower dataset. First, load the previously used Iris Flower dataset as a pandas dataframe. Download the file from this [link](http://archive.ics.uci.edu/ml/machine-learning-databases/iris/) if you did not download the dataset previously. The file to download is the iris.data file. You can refer to the picture (source: https://www.researchgate.net/figure/Trollius-ranunculoide-flower-with-measured-traits_fig6_272514310) below for more information. \n",
        "\n",
        "From the photo below, could you explain what is meant by sepal and petal?"
      ]
    },
    {
      "cell_type": "markdown",
      "metadata": {
        "id": "m4vaVQu1RjI8"
      },
      "source": [
        "<img src = \"https://lrccd.instructure.com/files/30334689/download?download_frd=1\">"
      ]
    },
    {
      "cell_type": "markdown",
      "metadata": {
        "id": "8nFt3P7nRjI8"
      },
      "source": [
        "Now, let's start by downloading and exploring the dataset!\n",
        "1. Download dataset from website provided\n",
        "2. Open csv file\n",
        "3. print first five rows to check dataset\n",
        "4. add column names\n",
        "\n",
        "See https://lrccd.instructure.com/courses/138956/pages/m12-lesson-5-18-21-jupyter-pandas?module_item_id=9498274"
      ]
    },
    {
      "cell_type": "code",
      "metadata": {
        "id": "g5qPJBFSRjI8",
        "colab": {
          "base_uri": "https://localhost:8080/"
        },
        "outputId": "3873c1b5-8e31-49e5-ddc0-f5059e756bb1"
      },
      "source": [
        "\n",
        "import os \n",
        "import pandas as pd\n",
        "import urllib.request\n",
        "import matplotlib.pyplot as plt\n",
        "\n",
        "#Check current dirctory and create new directory Iris_Data\n",
        "cwd = os.getcwd()\n",
        "print(\"Current Working Directory: %s\" % cwd)\n",
        "path = os.path.join(cwd,\"Iris_Data\")\n",
        "if not os.path.isdir(path):\n",
        "    os.mkdir(path)\n",
        "    print(\"Newly created directory to store files: %s\" % path)\n",
        "\n",
        "# Provide the file path for the download. File path includes both the folder path and the file name\n",
        "full_path = os.path.join(path,\"iris.data\")\n",
        "\n",
        "urllib.request.urlretrieve(\"http://archive.ics.uci.edu/ml/machine-learning-databases/iris/iris.data\", full_path)\n",
        "\n",
        "#Reading CSV From directory I created and assigning to DF\n",
        "df = pd.read_csv('/content/Iris_Data/iris.data')\n",
        "df.head()\n",
        "\n",
        "#defining names for columns + applying names to columns of existing data frame\n",
        "names = ['sepal_length','sepal_width','petal_length','petal_width', 'class']\n",
        "print(names)\n",
        "df.columns = names\n",
        "df.head()\n",
        "df['class'].unique()"
      ],
      "execution_count": 1,
      "outputs": [
        {
          "output_type": "stream",
          "name": "stdout",
          "text": [
            "Current Working Directory: /content\n",
            "Newly created directory to store files: /content/Iris_Data\n",
            "['sepal_length', 'sepal_width', 'petal_length', 'petal_width', 'class']\n"
          ]
        },
        {
          "output_type": "execute_result",
          "data": {
            "text/plain": [
              "array(['Iris-setosa', 'Iris-versicolor', 'Iris-virginica'], dtype=object)"
            ]
          },
          "metadata": {},
          "execution_count": 1
        }
      ]
    },
    {
      "cell_type": "code",
      "metadata": {
        "id": "2AB8w1qen4y8",
        "outputId": "b7be5df7-9602-4a5b-f811-8c587c5510c5",
        "colab": {
          "base_uri": "https://localhost:8080/"
        }
      },
      "source": [
        "df.info()"
      ],
      "execution_count": 4,
      "outputs": [
        {
          "output_type": "stream",
          "name": "stdout",
          "text": [
            "<class 'pandas.core.frame.DataFrame'>\n",
            "RangeIndex: 149 entries, 0 to 148\n",
            "Data columns (total 5 columns):\n",
            " #   Column        Non-Null Count  Dtype  \n",
            "---  ------        --------------  -----  \n",
            " 0   sepal_length  149 non-null    float64\n",
            " 1   sepal_width   149 non-null    float64\n",
            " 2   petal_length  149 non-null    float64\n",
            " 3   petal_width   149 non-null    float64\n",
            " 4   class         149 non-null    int64  \n",
            "dtypes: float64(4), int64(1)\n",
            "memory usage: 5.9 KB\n"
          ]
        }
      ]
    },
    {
      "cell_type": "markdown",
      "metadata": {
        "id": "o9kOr05SRjI8"
      },
      "source": [
        "## Setting up data for the KNN algorithm\n",
        "\n",
        "Let us try to use KNN to classify the dataset with the type of flower or class being the target variable. To help us do so, we need to convert the categorical classes into numbers so that it can be understood easier by the computer. We can do so through the usage of label encoding. \n",
        "\n",
        "### Label Encoding\n",
        "Label encoding refers to the assignment of a number for each category. For example, if you have to predict the weather and there are two classes, rainy or sunny, we can label rainy as 0 and sunny as 1 (see table below). In this way, we can convert the categories to numbers.\n",
        "\n",
        "How would you apply label encoding to the iris dataset?"
      ]
    },
    {
      "cell_type": "markdown",
      "metadata": {
        "id": "yZSC9mVdRjI9"
      },
      "source": [
        "<img src=\"https://lrccd.instructure.com/files/30334781/download?download_frd=1\">"
      ]
    },
    {
      "cell_type": "markdown",
      "metadata": {
        "id": "YaODGRx_RjI9"
      },
      "source": [
        "We can convert the class/flower type in the Iris Flower dataset into numbers. What are the different classes within the dataset? How many classes are there in total?\n",
        "\n",
        "HINT: See https://lrccd.instructure.com/courses/138956/pages/m12-lesson-6-25-17-jupyter-data-processing-and-visualization?module_item_id=9498278"
      ]
    },
    {
      "cell_type": "code",
      "metadata": {
        "id": "GxbGrVPuRjI9"
      },
      "source": [
        "#Three classes total:  Iris-setosa, Iris-versicolor, Iris-virginica"
      ],
      "execution_count": null,
      "outputs": []
    },
    {
      "cell_type": "markdown",
      "metadata": {
        "id": "J2Ot8fz2RjI-"
      },
      "source": [
        "Now, label encode the different classes. 'Iris-setosa' can be 1, 'Iris-versicolor' can be 2 and 'Iris-virginica' can be 3. The code below will encode for one of the classes. Edit the code to encode for all the classes."
      ]
    },
    {
      "cell_type": "code",
      "metadata": {
        "colab": {
          "base_uri": "https://localhost:8080/"
        },
        "id": "OsC5SoO7KaNW",
        "outputId": "c71941f5-a87f-4f43-b93c-5016cb2b82f5"
      },
      "source": [
        "df['class'].unique()"
      ],
      "execution_count": 2,
      "outputs": [
        {
          "output_type": "execute_result",
          "data": {
            "text/plain": [
              "array(['Iris-setosa', 'Iris-versicolor', 'Iris-virginica'], dtype=object)"
            ]
          },
          "metadata": {},
          "execution_count": 2
        }
      ]
    },
    {
      "cell_type": "code",
      "metadata": {
        "id": "QNC_ozfWRjI-",
        "colab": {
          "base_uri": "https://localhost:8080/"
        },
        "outputId": "fc6e1cff-a609-491f-cb30-318b805792da"
      },
      "source": [
        "# Print number of data points in each class\n",
        "print(df['class'].value_counts())\n",
        "\n",
        "# Dictionary to input the different numbers for different classes\n",
        "\n",
        "label_encode = {\"class\":{\"Iris-setosa\":1,\"Iris-versicolor\":2,\"Iris-virginica\":3}};\n",
        "\n",
        "# Use .replace to change the different classes into numbers\n",
        "df.replace(label_encode,inplace=True)\n",
        "\n",
        "# Print number of data points in each class to check if the classes have changed to numbers\n",
        "print(df['class'].value_counts())"
      ],
      "execution_count": 3,
      "outputs": [
        {
          "output_type": "stream",
          "name": "stdout",
          "text": [
            "Iris-versicolor    50\n",
            "Iris-virginica     50\n",
            "Iris-setosa        49\n",
            "Name: class, dtype: int64\n",
            "3    50\n",
            "2    50\n",
            "1    49\n",
            "Name: class, dtype: int64\n"
          ]
        }
      ]
    },
    {
      "cell_type": "markdown",
      "metadata": {
        "id": "OShTISGERjI-"
      },
      "source": [
        "<font color=blue>Bonus: There is also another method to convert categories to numbers. The method is known as one-hot encoding. One-hot encoding changes the categories into binary (0 or 1) categories. For example, if you have raining or sunny days as categories, one hot encoding will add 2 more columns, rainy and sunny, to the dataframe. If the data point shows rainy, it will be converted to a value of 1 under the raining column and a value of 0 under the sunny column (see table below). Read this [article](https://machinelearningmastery.com/why-one-hot-encode-data-in-machine-learning/) to find out more about one-hot encoding. Now, read this [article](http://queirozf.com/entries/one-hot-encoding-a-feature-on-a-pandas-dataframe-an-example) to learn how to do one-hot encoding for pandas. Import the Iris Flower dataset again as df2 and conduct the one-hot encoding for it.</font>"
      ]
    },
    {
      "cell_type": "markdown",
      "metadata": {
        "id": "BYq5cJ0kRjI_"
      },
      "source": [
        "<img src = \"https://lrccd.instructure.com/files/30334835/download?download_frd=1\">"
      ]
    },
    {
      "cell_type": "code",
      "metadata": {
        "id": "C91ACPEURjI_"
      },
      "source": [
        "#your code here"
      ],
      "execution_count": null,
      "outputs": []
    },
    {
      "cell_type": "markdown",
      "metadata": {
        "id": "zm3Gb1r1RjJA"
      },
      "source": [
        "Great! You've learn how to conduct label encoding and one-hot encoding. We can now try out the KNN algorithm. We first have to import the KNN algorithm from scikit learn. [Scikit learn](https://scikit-learn.org/stable/) is an open source python library which contains numerous popular machine learning algorithms. What does scikit learn contain? What can it do? See the listed [examples](https://scikit-learn.org/stable/auto_examples/index.html) for inspiration! Are you brimming with excitement now?\n",
        "\n",
        "\n",
        "Now, try the code below."
      ]
    },
    {
      "cell_type": "code",
      "metadata": {
        "id": "1zTuqVbJRjJA"
      },
      "source": [
        "from sklearn.neighbors import KNeighborsClassifier"
      ],
      "execution_count": 6,
      "outputs": []
    },
    {
      "cell_type": "markdown",
      "metadata": {
        "id": "P8OJGiJfRjJA"
      },
      "source": [
        "Read this [link](https://scikit-learn.org/stable/modules/generated/sklearn.neighbors.KNeighborsClassifier.html) to find out how to use the KNeighborsClassifier from sklearn. Do you remember from earlier in this notebook that the number of neighbours is required for KNN? From the link, what is the default number of neighbors used?"
      ]
    },
    {
      "cell_type": "code",
      "metadata": {
        "id": "KXTCvYemRjJB"
      },
      "source": [
        "#5"
      ],
      "execution_count": null,
      "outputs": []
    },
    {
      "cell_type": "markdown",
      "metadata": {
        "id": "PRJWseTERjJB"
      },
      "source": [
        "Let us use the default number of neighbors to try and classify the Iris Flower dataset. \n",
        "\n",
        "We will only use 2 features (sepal_length and sepal_width) initially. In the code below, these are included in the 'x' dataframe. The 'class' of the flower i.e. the name of the flower species will be the 'label', included in the 'y' dataframe. \n",
        "\n",
        "Try the code below."
      ]
    },
    {
      "cell_type": "code",
      "metadata": {
        "id": "yLjMRF2wRjJB",
        "colab": {
          "base_uri": "https://localhost:8080/"
        },
        "outputId": "ab51ab0c-8653-4ff0-a8e2-c82cc3215324"
      },
      "source": [
        "# Initialise the KNeighborsClassifier\n",
        "KNN = KNeighborsClassifier()\n",
        "\n",
        "# Extract out the x values and y values. x will be sepal_length and y will be classes\n",
        "x = df[['sepal_length','sepal_width']]\n",
        "y = df['class']\n",
        "\n",
        "# Print .head() of x and y to make sure the data is correct\n",
        "print(x.head())\n",
        "print(y.head())\n",
        "\n",
        "# Train KNN using the x and y values. This is done through the .fit method.\n",
        "KNN = KNN.fit(x,y)\n",
        "\n",
        "#Test Scenario\n",
        "# Let us use the trained KNN to predict the type of flower if its sepal length = 5 and sepal_width = 3 We can use the .predict method to do so.\n",
        "test = pd.DataFrame()\n",
        "test['sepal_length'] = [5]\n",
        "test['sepal_width'] = [3]\n",
        "predict_flower = KNN.predict(test)\n",
        "\n",
        "# Print predict_flower\n",
        "print(predict_flower)"
      ],
      "execution_count": 9,
      "outputs": [
        {
          "output_type": "stream",
          "name": "stdout",
          "text": [
            "   sepal_length  sepal_width\n",
            "0           4.9          3.0\n",
            "1           4.7          3.2\n",
            "2           4.6          3.1\n",
            "3           5.0          3.6\n",
            "4           5.4          3.9\n",
            "0    1\n",
            "1    1\n",
            "2    1\n",
            "3    1\n",
            "4    1\n",
            "Name: class, dtype: int64\n",
            "[1]\n"
          ]
        }
      ]
    },
    {
      "cell_type": "markdown",
      "metadata": {
        "id": "-M9fvdO2RjJC"
      },
      "source": [
        "From the output above, do you know which flower type was predicted for a data point with sepal length = 5 and sepal width = 3? Remember our encoding earlier?"
      ]
    },
    {
      "cell_type": "code",
      "metadata": {
        "id": "5DgR9f72RjJC"
      },
      "source": [
        "#Iris-setosa"
      ],
      "execution_count": null,
      "outputs": []
    },
    {
      "cell_type": "markdown",
      "metadata": {
        "id": "ZfS0bzynRjJC"
      },
      "source": [
        "Well done! What if the sepal length = 3 and sepal width = 5? Edit the code above to find out!"
      ]
    },
    {
      "cell_type": "code",
      "metadata": {
        "id": "-j8m0gZDRjJD",
        "colab": {
          "base_uri": "https://localhost:8080/"
        },
        "outputId": "f6d8a0d8-3cb8-4bad-9b7b-f56d778639d9"
      },
      "source": [
        "#Don't need to retrain algorithm\n",
        "# Initialise the KNeighborsClassifier\n",
        "#KNN = KNeighborsClassifier()\n",
        "\n",
        "# Extract out the x values and y values. x will be sepal_length and y will be classes\n",
        "#x = df[['sepal_length','sepal_width']]\n",
        "#y = df['class']\n",
        "\n",
        "# Print .head() of x and y to make sure the data is correct\n",
        "#print(x.head())\n",
        "#print(y.head())\n",
        "\n",
        "# Train KNN using the x and y values. This is done through the .fit method.\n",
        "#KNN = KNN.fit(x,y)\n",
        "\n",
        "# Let us use the trained KNN to predict the type of flower if its sepal length = 3 and sepal_width = 5 We can use the .predict method to do so.\n",
        "test = pd.DataFrame()\n",
        "test['sepal_length'] = [3]\n",
        "test['sepal_width'] = [5]\n",
        "predict_flower = KNN.predict(test)\n",
        "\n",
        "# Print predict_flower\n",
        "print(predict_flower)"
      ],
      "execution_count": 10,
      "outputs": [
        {
          "output_type": "stream",
          "name": "stdout",
          "text": [
            "[1]\n"
          ]
        }
      ]
    },
    {
      "cell_type": "code",
      "metadata": {
        "id": "vE8qVd5vRjJE"
      },
      "source": [
        "#Iris-Setosa"
      ],
      "execution_count": null,
      "outputs": []
    },
    {
      "cell_type": "markdown",
      "metadata": {
        "id": "mbIpm9E1RjJF"
      },
      "source": [
        "You have trained your first supervised learning model. However, we only used 2 variables. Train another KNN model named KNN2 with all the other variables ('sepal_length','sepal_width','petal_length','petal_width') instead of just sepal length and sepal width."
      ]
    },
    {
      "cell_type": "code",
      "metadata": {
        "id": "YjMAWr3nRjJF",
        "colab": {
          "base_uri": "https://localhost:8080/"
        },
        "outputId": "31b9fcce-b93e-4bdd-d305-39ca3e1d19ca"
      },
      "source": [
        "#Training Model\n",
        "# Extract out the x values and y values. x will be sepal_length and y will be classes\n",
        "x = df[['sepal_length','sepal_width','petal_length','petal_width']]\n",
        "y = df['class']\n",
        "\n",
        "# Print .head() of x and y to make sure the data is correct\n",
        "print(x.head())\n",
        "print(y.head())\n",
        "\n",
        "# Train KNN using the x and y values. This is done through the .fit method.\n",
        "KNN2 = KNN.fit(x,y)\n",
        "\n"
      ],
      "execution_count": 13,
      "outputs": [
        {
          "output_type": "stream",
          "name": "stdout",
          "text": [
            "   sepal_length  sepal_width  petal_length  petal_width\n",
            "0           4.9          3.0           1.4          0.2\n",
            "1           4.7          3.2           1.3          0.2\n",
            "2           4.6          3.1           1.5          0.2\n",
            "3           5.0          3.6           1.4          0.2\n",
            "4           5.4          3.9           1.7          0.4\n",
            "0    1\n",
            "1    1\n",
            "2    1\n",
            "3    1\n",
            "4    1\n",
            "Name: class, dtype: int64\n"
          ]
        }
      ]
    },
    {
      "cell_type": "markdown",
      "metadata": {
        "id": "U1bHtSbMRjJF"
      },
      "source": [
        "Using your new model, can you predict the flower type with sepal_length = 5.8, sepal_width = 2.3, petal_length = 5.0 and petal_width = 1.3?"
      ]
    },
    {
      "cell_type": "code",
      "metadata": {
        "id": "v5yBPGPSRjJG",
        "outputId": "25c3008b-5e00-465b-8509-9866e39193e4",
        "colab": {
          "base_uri": "https://localhost:8080/"
        }
      },
      "source": [
        "\n",
        "\n",
        "# Let us use the trained KNN to predict the type of flower if its sepal length = 5 and sepal_width = 3 We can use the .predict method to do so.\n",
        "test = pd.DataFrame()\n",
        "test['sepal_length'] = [5.8]\n",
        "test['sepal_width'] = [2.3]\n",
        "test['petal_length'] = [5]\n",
        "test['petal_width'] = [1.3]\n",
        "predict_flower = KNN.predict(test)\n",
        "\n",
        "# Print predict_flower\n",
        "print(predict_flower)"
      ],
      "execution_count": 14,
      "outputs": [
        {
          "output_type": "stream",
          "name": "stdout",
          "text": [
            "[2]\n"
          ]
        }
      ]
    },
    {
      "cell_type": "code",
      "metadata": {
        "id": "_WsKHZtIRjJG"
      },
      "source": [
        "#Iris-versicolor"
      ],
      "execution_count": null,
      "outputs": []
    },
    {
      "cell_type": "markdown",
      "metadata": {
        "id": "lQjIoqzrRjJG"
      },
      "source": [
        "Great! You have used the k-nearest neighbour algorithm to train a classification model that can classify the types of flower given the characteristics of the flowers such as the sepal length, sepal width , petal length , and the petal width. \n",
        "\n",
        "How would this kind of models be useful? Write down your answer below!"
      ]
    },
    {
      "cell_type": "code",
      "metadata": {
        "id": "8lVyDJWFRjJG"
      },
      "source": [
        "# For whenever you need to predict the classification of something based on specific measures."
      ],
      "execution_count": null,
      "outputs": []
    },
    {
      "cell_type": "markdown",
      "metadata": {
        "id": "-kzF_tFuRjJG"
      },
      "source": [
        "How else do you think the k-nearest neighbour algorithm can be used? Write down your answer below!"
      ]
    },
    {
      "cell_type": "code",
      "metadata": {
        "id": "IneLSSQARjJH"
      },
      "source": [
        "# Predicting economic outcomes, predicting prices based on specific criteria."
      ],
      "execution_count": null,
      "outputs": []
    },
    {
      "cell_type": "markdown",
      "metadata": {
        "id": "SDZby6TDRjJH"
      },
      "source": [
        "There are many models that can be used for classification. Next, we will explore the decision tree to help us with classification as well. "
      ]
    },
    {
      "cell_type": "markdown",
      "metadata": {
        "id": "Ztj50XJKRjJH"
      },
      "source": [
        "## 1.2 Decision Trees"
      ]
    },
    {
      "cell_type": "markdown",
      "metadata": {
        "id": "zEhICKtBRjJH"
      },
      "source": [
        "Another supervised machine learning technique is the decision tree. Watch this [video](https://www.youtube.com/watch?v=eKD5gxPPeY00) to find out more about decision trees. After watching, draw an example of a decision tree in your worksheet. You can refer to the example shown below.\n",
        "\n",
        "We make numerous decisions every day. How do you make certain decisions? What kind of decision tree will you draw? "
      ]
    },
    {
      "cell_type": "markdown",
      "metadata": {
        "id": "IUgF4Yt6RjJH"
      },
      "source": [
        "<img src = \"https://lrccd.instructure.com/files/30334953/download?download_frd=1\">"
      ]
    },
    {
      "cell_type": "markdown",
      "metadata": {
        "id": "G4SGDbKkRjJI"
      },
      "source": [
        "Another supervised machine learning technique is the decision tree. Watch this [video](https://www.youtube.com/watch?v=eKD5gxPPeY00) to find out more about decision trees. After watching, draw an example of a decision tree in your worksheet. You can refer to the example shown below.\n",
        "\n",
        "We make numerous decisions every day. How do you make certain decisions? What kind of decision tree will you draw? "
      ]
    },
    {
      "cell_type": "markdown",
      "metadata": {
        "id": "z5OW0FAuRjJI"
      },
      "source": [
        "First, we have to import the decision tree from scikit learn."
      ]
    },
    {
      "cell_type": "code",
      "metadata": {
        "id": "u2PU3_VGRjJI"
      },
      "source": [
        "from sklearn import tree"
      ],
      "execution_count": 16,
      "outputs": []
    },
    {
      "cell_type": "markdown",
      "metadata": {
        "id": "aR9jWmMURjJI"
      },
      "source": [
        "Next, we will use the same df dataframe from earlier in this notebook. The df dataframe contains the Iris Flower dataset and the outputs have been label encoded. We will first use the sepal length and sepal width as x values and the class as the targets/outputs or y values. Try the code below."
      ]
    },
    {
      "cell_type": "code",
      "metadata": {
        "id": "9ztc67RFRjJI",
        "colab": {
          "base_uri": "https://localhost:8080/"
        },
        "outputId": "9bb9fd8d-f668-42a9-cadd-71eb111d1668"
      },
      "source": [
        "# Initialise the Decision Tree\n",
        "dt = tree.DecisionTreeClassifier()\n",
        "\n",
        "#training model\n",
        "# Extract out the x values and y values. x will be sepal_length and y will be classes\n",
        "x = df[['sepal_length','sepal_width']]\n",
        "y = df['class']\n",
        "\n",
        "# Print .head() of x and y to make sure the data is correct\n",
        "print(x.head())\n",
        "print(y.head())\n",
        "\n",
        "# Train decision tree using the x and y values. This is done through the .fit method.\n",
        "dt = dt.fit(x,y)"
      ],
      "execution_count": 17,
      "outputs": [
        {
          "output_type": "stream",
          "name": "stdout",
          "text": [
            "   sepal_length  sepal_width\n",
            "0           4.9          3.0\n",
            "1           4.7          3.2\n",
            "2           4.6          3.1\n",
            "3           5.0          3.6\n",
            "4           5.4          3.9\n",
            "0    1\n",
            "1    1\n",
            "2    1\n",
            "3    1\n",
            "4    1\n",
            "Name: class, dtype: int64\n"
          ]
        }
      ]
    },
    {
      "cell_type": "markdown",
      "metadata": {
        "id": "H_xP7h7_RjJI"
      },
      "source": [
        "Look at the initialisation code. Why do we use the DecisionTreeClassifier instead of the DecisionTreeRegressor?"
      ]
    },
    {
      "cell_type": "code",
      "metadata": {
        "id": "PGsMmEsHRjJJ"
      },
      "source": [
        "#Because we are looking to classify based on inputs, rather than predict value based on other values"
      ],
      "execution_count": null,
      "outputs": []
    },
    {
      "cell_type": "markdown",
      "metadata": {
        "id": "CodeXe5lRjJJ"
      },
      "source": [
        "Now, can you make a prediction using the trained tree? Can you predict the type of flower if its sepal length = 5 and sepal_width = 3? You can use the .predict method to do so. Edit the code below to answer this question."
      ]
    },
    {
      "cell_type": "code",
      "metadata": {
        "id": "stOn9h_kRjJJ",
        "colab": {
          "base_uri": "https://localhost:8080/"
        },
        "outputId": "47bfac7e-70fa-4882-b455-1df465031ca4"
      },
      "source": [
        "# Create a dataframe called test2 with sepal_length and sepal_width as its columns. Sepal_length has been done for you in the code below.\n",
        "test2 = pd.DataFrame()\n",
        "test2['sepal_length'] = [5]\n",
        "test2['sepal_width'] = [3]\n",
        "\n",
        "# Use the .predict method to predict the new flower. You can call the predicted flower as predict_flower.\n",
        "#Use decision tree classifier 'dt'\n",
        "predict_flower = dt.predict(test2)\n",
        "\n",
        "# Print predict_flower\n",
        "print(predict_flower)"
      ],
      "execution_count": 19,
      "outputs": [
        {
          "output_type": "stream",
          "name": "stdout",
          "text": [
            "[1]\n"
          ]
        }
      ]
    },
    {
      "cell_type": "markdown",
      "metadata": {
        "id": "kvKUDSw0RjJJ"
      },
      "source": [
        "What is the predicted flower type and does it match with that predicted by K nearest neighbours earlier?"
      ]
    },
    {
      "cell_type": "code",
      "metadata": {
        "id": "VlMKa6dGRjJJ"
      },
      "source": [
        "#Iris-setosa"
      ],
      "execution_count": null,
      "outputs": []
    },
    {
      "cell_type": "markdown",
      "metadata": {
        "id": "d0UFYWfCRjJK"
      },
      "source": [
        "Now, train a new decision tree, dt2, based on sepal length, sepal width, petal length and petal width. Predict the flower type with sepal_length = 5.8, sepal_width = 2.3, petal_length = 5.0 and petal_width = 1.3."
      ]
    },
    {
      "cell_type": "code",
      "metadata": {
        "id": "Z_Ia7EttRjJK",
        "colab": {
          "base_uri": "https://localhost:8080/"
        },
        "outputId": "c225f6c1-c04a-4c5b-c349-5ef8449a36ae"
      },
      "source": [
        "# Initialise the Decision Tree\n",
        "dt = tree.DecisionTreeClassifier()\n",
        "\n",
        "# Extract out the x values and y values. x will be sepal_length and y will be classes\n",
        "x = df[['sepal_length','sepal_width','petal_length','petal_width']]\n",
        "y = df['class']\n",
        "\n",
        "# Print .head() of x and y to make sure the data is correct\n",
        "print(x.head())\n",
        "print(y.head())\n",
        "\n",
        "# Train decision tree using the x and y values. This is done through the .fit method.\n",
        "dt = dt.fit(x,y)\n",
        "\n",
        "test2 = pd.DataFrame()\n",
        "test2['sepal_length'] = [5.8],\n",
        "test2['sepal_width'] = [2.3],\n",
        "test2['petal_length'] = [5.0],\n",
        "test2['petal_width'] = [1.3] \n",
        "\n",
        "# Use the .predict method to predict the new flower. You can call the predicted flower as predict_flower.\n",
        "predict_flower = dt.predict(test)\n",
        "\n",
        "# Print predict_flower\n",
        "print(predict_flower)"
      ],
      "execution_count": 20,
      "outputs": [
        {
          "output_type": "stream",
          "name": "stdout",
          "text": [
            "   sepal_length  sepal_width  petal_length  petal_width\n",
            "0           4.9          3.0           1.4          0.2\n",
            "1           4.7          3.2           1.3          0.2\n",
            "2           4.6          3.1           1.5          0.2\n",
            "3           5.0          3.6           1.4          0.2\n",
            "4           5.4          3.9           1.7          0.4\n",
            "0    1\n",
            "1    1\n",
            "2    1\n",
            "3    1\n",
            "4    1\n",
            "Name: class, dtype: int64\n",
            "[3]\n"
          ]
        }
      ]
    },
    {
      "cell_type": "markdown",
      "metadata": {
        "id": "50BqO0geRjJK"
      },
      "source": [
        "What is the flower type predicted by the new tree? Is it the same as that predicted by K-Nearest Neighbours?"
      ]
    },
    {
      "cell_type": "code",
      "metadata": {
        "id": "HyJNcx7pRjJK"
      },
      "source": [
        "#Iris-virginica"
      ],
      "execution_count": null,
      "outputs": []
    },
    {
      "cell_type": "markdown",
      "metadata": {
        "id": "5VcbP5TCRjJK"
      },
      "source": [
        "From the result above, we can see that while most machine learning techniques may be used to solve the same problem, the outcome/predictions may differ across models! As such, there is a need to choose which models to use based on the accuracy of the models. You will learn how to evaluate the quality of the models in the later workshops."
      ]
    }
  ]
}