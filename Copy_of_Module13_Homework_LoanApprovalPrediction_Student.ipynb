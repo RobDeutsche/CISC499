{
  "nbformat": 4,
  "nbformat_minor": 0,
  "metadata": {
    "kernelspec": {
      "display_name": "Python 3",
      "language": "python",
      "name": "python3"
    },
    "language_info": {
      "codemirror_mode": {
        "name": "ipython",
        "version": 3
      },
      "file_extension": ".py",
      "mimetype": "text/x-python",
      "name": "python",
      "nbconvert_exporter": "python",
      "pygments_lexer": "ipython3",
      "version": "3.7.4"
    },
    "colab": {
      "name": "Copy of Module13-Homework-LoanApprovalPrediction-Student.ipynb",
      "provenance": [],
      "collapsed_sections": [],
      "include_colab_link": true
    }
  },
  "cells": [
    {
      "cell_type": "markdown",
      "metadata": {
        "id": "view-in-github",
        "colab_type": "text"
      },
      "source": [
        "<a href=\"https://colab.research.google.com/github/RobDeutsche/CISC499/blob/main/Copy_of_Module13_Homework_LoanApprovalPrediction_Student.ipynb\" target=\"_parent\"><img src=\"https://colab.research.google.com/assets/colab-badge.svg\" alt=\"Open In Colab\"/></a>"
      ]
    },
    {
      "cell_type": "markdown",
      "metadata": {
        "id": "3HvR2Vr5qCty"
      },
      "source": [
        "Change the print statement below to show your name:"
      ]
    },
    {
      "cell_type": "code",
      "metadata": {
        "id": "E1uM1hwvxwN6",
        "colab": {
          "base_uri": "https://localhost:8080/"
        },
        "outputId": "e9517f28-f9de-4674-b59d-96c0f76f219d"
      },
      "source": [
        "print(\"Rob Deutsche\")"
      ],
      "execution_count": 1,
      "outputs": [
        {
          "output_type": "stream",
          "name": "stdout",
          "text": [
            "Rob Deutsche\n"
          ]
        }
      ]
    },
    {
      "cell_type": "markdown",
      "metadata": {
        "_uuid": "7ff9524d8c5decf2c16f53ec2c41eafbc80b885e",
        "id": "Seeu33vsnny_"
      },
      "source": [
        "# Loan Approval Prediction"
      ]
    },
    {
      "cell_type": "markdown",
      "metadata": {
        "_uuid": "b2fe086e5ef244dc36603e8f5d3f16bd94ed81ee",
        "id": "RMyZhs3QnnzG"
      },
      "source": [
        "This notebook is based on the loan approval prediction - [Loan Prediction](https://www.kaggle.com/ninzaami/loan-predication/home) dataset. Loan approvals are a popular problem in the credit/banking industry. How can we correctly predict if the loan is safe to be approved or not? This is what we will be looking into in this notebook."
      ]
    },
    {
      "cell_type": "markdown",
      "metadata": {
        "_uuid": "82593f0501988e6a0324c7cdc5ffa4c4f6b0ca24",
        "id": "MTWrEkkQnnzH"
      },
      "source": [
        "## 1. Import Packages & Data"
      ]
    },
    {
      "cell_type": "code",
      "metadata": {
        "_uuid": "1a6c4447bbb7dd6260860486ce03b5386e3203a8",
        "id": "2Rm022xKnnzI",
        "colab": {
          "base_uri": "https://localhost:8080/",
          "height": 300
        },
        "outputId": "a47296a7-2ad3-4051-8c90-acd4078b4fa2"
      },
      "source": [
        "#Import packages\n",
        "import pandas as pd\n",
        "import numpy as np\n",
        "import matplotlib.pyplot as plt\n",
        "import seaborn as sns\n",
        "from sklearn.ensemble import GradientBoostingClassifier\n",
        "from sklearn.ensemble import RandomForestClassifier\n",
        "from sklearn.model_selection import cross_val_score\n",
        "from sklearn.tree import DecisionTreeClassifier\n",
        "from sklearn.neighbors import KNeighborsClassifier\n",
        "from sklearn import svm\n",
        "\n",
        "#Read CSV data\n",
        "data = pd.read_csv(\"./Homework13_Dataset_LoanApprovalPrediction.csv\")\n",
        "\n",
        "#Looking at basic stats of data\n",
        "data.describe()"
      ],
      "execution_count": 2,
      "outputs": [
        {
          "output_type": "execute_result",
          "data": {
            "text/html": [
              "<div>\n",
              "<style scoped>\n",
              "    .dataframe tbody tr th:only-of-type {\n",
              "        vertical-align: middle;\n",
              "    }\n",
              "\n",
              "    .dataframe tbody tr th {\n",
              "        vertical-align: top;\n",
              "    }\n",
              "\n",
              "    .dataframe thead th {\n",
              "        text-align: right;\n",
              "    }\n",
              "</style>\n",
              "<table border=\"1\" class=\"dataframe\">\n",
              "  <thead>\n",
              "    <tr style=\"text-align: right;\">\n",
              "      <th></th>\n",
              "      <th>ApplicantIncome</th>\n",
              "      <th>CoapplicantIncome</th>\n",
              "      <th>LoanAmount</th>\n",
              "      <th>Loan_Amount_Term</th>\n",
              "      <th>Credit_History</th>\n",
              "    </tr>\n",
              "  </thead>\n",
              "  <tbody>\n",
              "    <tr>\n",
              "      <th>count</th>\n",
              "      <td>614.000000</td>\n",
              "      <td>614.000000</td>\n",
              "      <td>592.000000</td>\n",
              "      <td>600.00000</td>\n",
              "      <td>564.000000</td>\n",
              "    </tr>\n",
              "    <tr>\n",
              "      <th>mean</th>\n",
              "      <td>5403.459283</td>\n",
              "      <td>1621.245798</td>\n",
              "      <td>146.412162</td>\n",
              "      <td>342.00000</td>\n",
              "      <td>0.842199</td>\n",
              "    </tr>\n",
              "    <tr>\n",
              "      <th>std</th>\n",
              "      <td>6109.041673</td>\n",
              "      <td>2926.248369</td>\n",
              "      <td>85.587325</td>\n",
              "      <td>65.12041</td>\n",
              "      <td>0.364878</td>\n",
              "    </tr>\n",
              "    <tr>\n",
              "      <th>min</th>\n",
              "      <td>150.000000</td>\n",
              "      <td>0.000000</td>\n",
              "      <td>9.000000</td>\n",
              "      <td>12.00000</td>\n",
              "      <td>0.000000</td>\n",
              "    </tr>\n",
              "    <tr>\n",
              "      <th>25%</th>\n",
              "      <td>2877.500000</td>\n",
              "      <td>0.000000</td>\n",
              "      <td>100.000000</td>\n",
              "      <td>360.00000</td>\n",
              "      <td>1.000000</td>\n",
              "    </tr>\n",
              "    <tr>\n",
              "      <th>50%</th>\n",
              "      <td>3812.500000</td>\n",
              "      <td>1188.500000</td>\n",
              "      <td>128.000000</td>\n",
              "      <td>360.00000</td>\n",
              "      <td>1.000000</td>\n",
              "    </tr>\n",
              "    <tr>\n",
              "      <th>75%</th>\n",
              "      <td>5795.000000</td>\n",
              "      <td>2297.250000</td>\n",
              "      <td>168.000000</td>\n",
              "      <td>360.00000</td>\n",
              "      <td>1.000000</td>\n",
              "    </tr>\n",
              "    <tr>\n",
              "      <th>max</th>\n",
              "      <td>81000.000000</td>\n",
              "      <td>41667.000000</td>\n",
              "      <td>700.000000</td>\n",
              "      <td>480.00000</td>\n",
              "      <td>1.000000</td>\n",
              "    </tr>\n",
              "  </tbody>\n",
              "</table>\n",
              "</div>"
            ],
            "text/plain": [
              "       ApplicantIncome  CoapplicantIncome  ...  Loan_Amount_Term  Credit_History\n",
              "count       614.000000         614.000000  ...         600.00000      564.000000\n",
              "mean       5403.459283        1621.245798  ...         342.00000        0.842199\n",
              "std        6109.041673        2926.248369  ...          65.12041        0.364878\n",
              "min         150.000000           0.000000  ...          12.00000        0.000000\n",
              "25%        2877.500000           0.000000  ...         360.00000        1.000000\n",
              "50%        3812.500000        1188.500000  ...         360.00000        1.000000\n",
              "75%        5795.000000        2297.250000  ...         360.00000        1.000000\n",
              "max       81000.000000       41667.000000  ...         480.00000        1.000000\n",
              "\n",
              "[8 rows x 5 columns]"
            ]
          },
          "metadata": {},
          "execution_count": 2
        }
      ]
    },
    {
      "cell_type": "code",
      "metadata": {
        "_uuid": "6f5a84c0286f4e9eb596a6e4671a4c423e307791",
        "id": "7q5KQLkYnnzK",
        "colab": {
          "base_uri": "https://localhost:8080/",
          "height": 244
        },
        "outputId": "52284c4a-c1b2-43d2-9a67-61314c3008b6"
      },
      "source": [
        "#preview data\n",
        "data.head()"
      ],
      "execution_count": 3,
      "outputs": [
        {
          "output_type": "execute_result",
          "data": {
            "text/html": [
              "<div>\n",
              "<style scoped>\n",
              "    .dataframe tbody tr th:only-of-type {\n",
              "        vertical-align: middle;\n",
              "    }\n",
              "\n",
              "    .dataframe tbody tr th {\n",
              "        vertical-align: top;\n",
              "    }\n",
              "\n",
              "    .dataframe thead th {\n",
              "        text-align: right;\n",
              "    }\n",
              "</style>\n",
              "<table border=\"1\" class=\"dataframe\">\n",
              "  <thead>\n",
              "    <tr style=\"text-align: right;\">\n",
              "      <th></th>\n",
              "      <th>Loan_ID</th>\n",
              "      <th>Gender</th>\n",
              "      <th>Married</th>\n",
              "      <th>Dependents</th>\n",
              "      <th>Education</th>\n",
              "      <th>Self_Employed</th>\n",
              "      <th>ApplicantIncome</th>\n",
              "      <th>CoapplicantIncome</th>\n",
              "      <th>LoanAmount</th>\n",
              "      <th>Loan_Amount_Term</th>\n",
              "      <th>Credit_History</th>\n",
              "      <th>Property_Area</th>\n",
              "      <th>Loan_Status</th>\n",
              "    </tr>\n",
              "  </thead>\n",
              "  <tbody>\n",
              "    <tr>\n",
              "      <th>0</th>\n",
              "      <td>LP001002</td>\n",
              "      <td>Male</td>\n",
              "      <td>No</td>\n",
              "      <td>0</td>\n",
              "      <td>Graduate</td>\n",
              "      <td>No</td>\n",
              "      <td>5849</td>\n",
              "      <td>0.0</td>\n",
              "      <td>NaN</td>\n",
              "      <td>360.0</td>\n",
              "      <td>1.0</td>\n",
              "      <td>Urban</td>\n",
              "      <td>Y</td>\n",
              "    </tr>\n",
              "    <tr>\n",
              "      <th>1</th>\n",
              "      <td>LP001003</td>\n",
              "      <td>Male</td>\n",
              "      <td>Yes</td>\n",
              "      <td>1</td>\n",
              "      <td>Graduate</td>\n",
              "      <td>No</td>\n",
              "      <td>4583</td>\n",
              "      <td>1508.0</td>\n",
              "      <td>128.0</td>\n",
              "      <td>360.0</td>\n",
              "      <td>1.0</td>\n",
              "      <td>Rural</td>\n",
              "      <td>N</td>\n",
              "    </tr>\n",
              "    <tr>\n",
              "      <th>2</th>\n",
              "      <td>LP001005</td>\n",
              "      <td>Male</td>\n",
              "      <td>Yes</td>\n",
              "      <td>0</td>\n",
              "      <td>Graduate</td>\n",
              "      <td>Yes</td>\n",
              "      <td>3000</td>\n",
              "      <td>0.0</td>\n",
              "      <td>66.0</td>\n",
              "      <td>360.0</td>\n",
              "      <td>1.0</td>\n",
              "      <td>Urban</td>\n",
              "      <td>Y</td>\n",
              "    </tr>\n",
              "    <tr>\n",
              "      <th>3</th>\n",
              "      <td>LP001006</td>\n",
              "      <td>Male</td>\n",
              "      <td>Yes</td>\n",
              "      <td>0</td>\n",
              "      <td>Not Graduate</td>\n",
              "      <td>No</td>\n",
              "      <td>2583</td>\n",
              "      <td>2358.0</td>\n",
              "      <td>120.0</td>\n",
              "      <td>360.0</td>\n",
              "      <td>1.0</td>\n",
              "      <td>Urban</td>\n",
              "      <td>Y</td>\n",
              "    </tr>\n",
              "    <tr>\n",
              "      <th>4</th>\n",
              "      <td>LP001008</td>\n",
              "      <td>Male</td>\n",
              "      <td>No</td>\n",
              "      <td>0</td>\n",
              "      <td>Graduate</td>\n",
              "      <td>No</td>\n",
              "      <td>6000</td>\n",
              "      <td>0.0</td>\n",
              "      <td>141.0</td>\n",
              "      <td>360.0</td>\n",
              "      <td>1.0</td>\n",
              "      <td>Urban</td>\n",
              "      <td>Y</td>\n",
              "    </tr>\n",
              "  </tbody>\n",
              "</table>\n",
              "</div>"
            ],
            "text/plain": [
              "    Loan_ID Gender Married  ... Credit_History Property_Area Loan_Status\n",
              "0  LP001002   Male      No  ...            1.0         Urban           Y\n",
              "1  LP001003   Male     Yes  ...            1.0         Rural           N\n",
              "2  LP001005   Male     Yes  ...            1.0         Urban           Y\n",
              "3  LP001006   Male     Yes  ...            1.0         Urban           Y\n",
              "4  LP001008   Male      No  ...            1.0         Urban           Y\n",
              "\n",
              "[5 rows x 13 columns]"
            ]
          },
          "metadata": {},
          "execution_count": 3
        }
      ]
    },
    {
      "cell_type": "markdown",
      "metadata": {
        "_uuid": "eaf3017bbbff5270e32ebeb20945d9fed2fa6ab9",
        "id": "kf0SILttnnzL"
      },
      "source": [
        "## 2. Data Quality & Missing Value Assesment"
      ]
    },
    {
      "cell_type": "code",
      "metadata": {
        "_uuid": "a54a8f7d42ef4c7b45837ff88218b78716946548",
        "id": "nK26SaF0nnzM",
        "colab": {
          "base_uri": "https://localhost:8080/"
        },
        "outputId": "04e1ec1f-c1b1-44c8-9ac0-065af84551b1"
      },
      "source": [
        "#Preview data information\n",
        "data.info()"
      ],
      "execution_count": 4,
      "outputs": [
        {
          "output_type": "stream",
          "name": "stdout",
          "text": [
            "<class 'pandas.core.frame.DataFrame'>\n",
            "RangeIndex: 614 entries, 0 to 613\n",
            "Data columns (total 13 columns):\n",
            " #   Column             Non-Null Count  Dtype  \n",
            "---  ------             --------------  -----  \n",
            " 0   Loan_ID            614 non-null    object \n",
            " 1   Gender             601 non-null    object \n",
            " 2   Married            611 non-null    object \n",
            " 3   Dependents         599 non-null    object \n",
            " 4   Education          614 non-null    object \n",
            " 5   Self_Employed      582 non-null    object \n",
            " 6   ApplicantIncome    614 non-null    int64  \n",
            " 7   CoapplicantIncome  614 non-null    float64\n",
            " 8   LoanAmount         592 non-null    float64\n",
            " 9   Loan_Amount_Term   600 non-null    float64\n",
            " 10  Credit_History     564 non-null    float64\n",
            " 11  Property_Area      614 non-null    object \n",
            " 12  Loan_Status        614 non-null    object \n",
            "dtypes: float64(4), int64(1), object(8)\n",
            "memory usage: 62.5+ KB\n"
          ]
        }
      ]
    },
    {
      "cell_type": "code",
      "metadata": {
        "_uuid": "74afda87fb45ebe6082cd912f5f41084adfc6bbe",
        "id": "WcKGLGJgnnzN",
        "colab": {
          "base_uri": "https://localhost:8080/"
        },
        "outputId": "bf78df31-12c4-4556-c520-9aa77afa71ae"
      },
      "source": [
        "#Check missing values\n",
        "data.isnull().sum()"
      ],
      "execution_count": 5,
      "outputs": [
        {
          "output_type": "execute_result",
          "data": {
            "text/plain": [
              "Loan_ID               0\n",
              "Gender               13\n",
              "Married               3\n",
              "Dependents           15\n",
              "Education             0\n",
              "Self_Employed        32\n",
              "ApplicantIncome       0\n",
              "CoapplicantIncome     0\n",
              "LoanAmount           22\n",
              "Loan_Amount_Term     14\n",
              "Credit_History       50\n",
              "Property_Area         0\n",
              "Loan_Status           0\n",
              "dtype: int64"
            ]
          },
          "metadata": {},
          "execution_count": 5
        }
      ]
    },
    {
      "cell_type": "markdown",
      "metadata": {
        "_uuid": "626cce7160673e4074be5dfae62311ffb438d2bf",
        "id": "1nGqNS7EnnzO"
      },
      "source": [
        "### Gender - Missing Values"
      ]
    },
    {
      "cell_type": "code",
      "metadata": {
        "_uuid": "bc052537cffdd72596b5824036577e10a3bcf34f",
        "id": "PSVUM-cInnzP",
        "colab": {
          "base_uri": "https://localhost:8080/"
        },
        "outputId": "984587eb-2689-4373-86a2-3805fe3c5b09"
      },
      "source": [
        "# percent of missing \"Gender\" \n",
        "print('Percent of missing \"Gender\" records is %.2f%%' %((data['Gender'].isnull().sum()/data.shape[0])*100))"
      ],
      "execution_count": 6,
      "outputs": [
        {
          "output_type": "stream",
          "name": "stdout",
          "text": [
            "Percent of missing \"Gender\" records is 2.12%\n"
          ]
        }
      ]
    },
    {
      "cell_type": "code",
      "metadata": {
        "_uuid": "eef00dc845d23c02fb756a2237d3dbfd7daa8a5d",
        "id": "efMPHmNNnnzQ",
        "colab": {
          "base_uri": "https://localhost:8080/",
          "height": 366
        },
        "outputId": "42b31518-826d-4673-a835-2f644e4858ed"
      },
      "source": [
        "print(\"Number of people who take a loan group by gender :\")\n",
        "print(data['Gender'].value_counts())\n",
        "sns.countplot(x='Gender', data=data, palette = 'Set2')"
      ],
      "execution_count": 26,
      "outputs": [
        {
          "output_type": "stream",
          "name": "stdout",
          "text": [
            "Number of people who take a loan group by gender :\n",
            "Male      489\n",
            "Female    112\n",
            "Name: Gender, dtype: int64\n"
          ]
        },
        {
          "output_type": "execute_result",
          "data": {
            "text/plain": [
              "<matplotlib.axes._subplots.AxesSubplot at 0x7f7b54a95810>"
            ]
          },
          "metadata": {},
          "execution_count": 26
        },
        {
          "output_type": "display_data",
          "data": {
            "image/png": "[encoded data removed]",
            "text/plain": [
              "<Figure size 432x288 with 1 Axes>"
            ]
          },
          "metadata": {
            "needs_background": "light"
          }
        }
      ]
    },
    {
      "cell_type": "markdown",
      "metadata": {
        "_uuid": "142ae1d6e70785e68dfbb751fb4195128788c808",
        "id": "csa06Zq-nnzQ"
      },
      "source": [
        "### Married - Missing Values"
      ]
    },
    {
      "cell_type": "code",
      "metadata": {
        "_uuid": "9260ac341c4cfc5944f69c16f79c1ac2ad421ddb",
        "id": "nB7SuDBNnnzR",
        "colab": {
          "base_uri": "https://localhost:8080/"
        },
        "outputId": "adde53ea-b97d-4286-935d-49d255222f41"
      },
      "source": [
        "# percent of missing \"Married\" \n",
        "print('Percent of missing \"Married\" records is %.2f%%' %((data['Married'].isnull().sum()/data.shape[0])*100))"
      ],
      "execution_count": 8,
      "outputs": [
        {
          "output_type": "stream",
          "name": "stdout",
          "text": [
            "Percent of missing \"Married\" records is 0.49%\n"
          ]
        }
      ]
    },
    {
      "cell_type": "code",
      "metadata": {
        "_uuid": "05e301f6bf9d4a75f74eb4fdec0d730d70a0d02d",
        "id": "5dAnRLYhnnzR",
        "colab": {
          "base_uri": "https://localhost:8080/",
          "height": 366
        },
        "outputId": "ef409afa-201c-4916-f170-aca03931e092"
      },
      "source": [
        "print(\"Number of people who take a loan group by marital status :\")\n",
        "print(data['Married'].value_counts())\n",
        "sns.countplot(x='Married', data=data, palette = 'Set2')"
      ],
      "execution_count": 9,
      "outputs": [
        {
          "output_type": "stream",
          "name": "stdout",
          "text": [
            "Number of people who take a loan group by marital status :\n",
            "Yes    398\n",
            "No     213\n",
            "Name: Married, dtype: int64\n"
          ]
        },
        {
          "output_type": "execute_result",
          "data": {
            "text/plain": [
              "<matplotlib.axes._subplots.AxesSubplot at 0x7f7b57565f90>"
            ]
          },
          "metadata": {},
          "execution_count": 9
        },
        {
          "output_type": "display_data",
          "data": {
            "image/png": "[encoded data removed]",
            "text/plain": [
              "<Figure size 432x288 with 1 Axes>"
            ]
          },
          "metadata": {
            "needs_background": "light"
          }
        }
      ]
    },
    {
      "cell_type": "markdown",
      "metadata": {
        "_uuid": "6aee40b28eab23c1fd05c85f7aeb5f2900880760",
        "id": "SP92g-BLnnzS"
      },
      "source": [
        "### Dependents- Missing Values"
      ]
    },
    {
      "cell_type": "code",
      "metadata": {
        "_uuid": "e5ef179e92efaedff77b45005a1ce194dfbe28d1",
        "id": "LrbsNX0annzT",
        "colab": {
          "base_uri": "https://localhost:8080/"
        },
        "outputId": "4ed65510-a67b-411f-c0f2-a43b66f3b82c"
      },
      "source": [
        "# percent of missing \"Dependents\" \n",
        "print('Percent of missing \"Dependents\" records is %.2f%%' %((data['Dependents'].isnull().sum()/data.shape[0])*100))"
      ],
      "execution_count": 10,
      "outputs": [
        {
          "output_type": "stream",
          "name": "stdout",
          "text": [
            "Percent of missing \"Dependents\" records is 2.44%\n"
          ]
        }
      ]
    },
    {
      "cell_type": "code",
      "metadata": {
        "_uuid": "c5d6eb88ec6a6e2f7150e81eae740eb1b507e4bf",
        "id": "SQL7e6e6nnzU",
        "colab": {
          "base_uri": "https://localhost:8080/",
          "height": 401
        },
        "outputId": "11ca13a0-b3db-41c4-f622-a70b4732b469"
      },
      "source": [
        "print(\"Number of people who take a loan group by dependents :\")\n",
        "print(data['Dependents'].value_counts())\n",
        "sns.countplot(x='Dependents', data=data, palette = 'Set2')"
      ],
      "execution_count": 12,
      "outputs": [
        {
          "output_type": "stream",
          "name": "stdout",
          "text": [
            "Number of people who take a loan group by dependents :\n",
            "0     345\n",
            "1     102\n",
            "2     101\n",
            "3+     51\n",
            "Name: Dependents, dtype: int64\n"
          ]
        },
        {
          "output_type": "execute_result",
          "data": {
            "text/plain": [
              "<matplotlib.axes._subplots.AxesSubplot at 0x7f7b56f64210>"
            ]
          },
          "metadata": {},
          "execution_count": 12
        },
        {
          "output_type": "display_data",
          "data": {
            "image/png": "[encoded data removed]",
            "text/plain": [
              "<Figure size 432x288 with 1 Axes>"
            ]
          },
          "metadata": {
            "needs_background": "light"
          }
        }
      ]
    },
    {
      "cell_type": "markdown",
      "metadata": {
        "_uuid": "b0feb68da70256403b17a201ede41dc63b6a4018",
        "id": "3BOXRW8znnzV"
      },
      "source": [
        "### Self Employed - Missing Values"
      ]
    },
    {
      "cell_type": "code",
      "metadata": {
        "_uuid": "22130eb3228de3f3333a14dc7c8c0fde1a306736",
        "id": "WjwaLXQ_nnzW",
        "colab": {
          "base_uri": "https://localhost:8080/"
        },
        "outputId": "6e1c1890-5722-4104-c6e7-b9cd25ab801f"
      },
      "source": [
        "# percent of missing \"Self_Employed\" \n",
        "print('Percent of missing \"Self_Employed\" records is %.2f%%' %((data['Self_Employed'].isnull().sum()/data.shape[0])*100))"
      ],
      "execution_count": 13,
      "outputs": [
        {
          "output_type": "stream",
          "name": "stdout",
          "text": [
            "Percent of missing \"Self_Employed\" records is 5.21%\n"
          ]
        }
      ]
    },
    {
      "cell_type": "code",
      "metadata": {
        "_uuid": "df3a15752c203cee95a96a77b5a6806d7ac22098",
        "id": "2l5rhiQxnnzX",
        "colab": {
          "base_uri": "https://localhost:8080/",
          "height": 367
        },
        "outputId": "95858f77-3547-40e0-bc5a-c4db35b7d9d8"
      },
      "source": [
        "print(\"Number of people who take a loan group by self employed :\")\n",
        "print(data['Self_Employed'].value_counts())\n",
        "sns.countplot(x='Self_Employed', data=data, palette = 'Set2')"
      ],
      "execution_count": 14,
      "outputs": [
        {
          "output_type": "stream",
          "name": "stdout",
          "text": [
            "Number of people who take a loan group by self employed :\n",
            "No     500\n",
            "Yes     82\n",
            "Name: Self_Employed, dtype: int64\n"
          ]
        },
        {
          "output_type": "execute_result",
          "data": {
            "text/plain": [
              "<matplotlib.axes._subplots.AxesSubplot at 0x7f7b56ec1a10>"
            ]
          },
          "metadata": {},
          "execution_count": 14
        },
        {
          "output_type": "display_data",
          "data": {
            "image/png": "[encoded data removed]",
            "text/plain": [
              "<Figure size 432x288 with 1 Axes>"
            ]
          },
          "metadata": {
            "needs_background": "light"
          }
        }
      ]
    },
    {
      "cell_type": "markdown",
      "metadata": {
        "_uuid": "e5776e170a6fa45c239f454c9f378848f1a35898",
        "id": "85PV0D1rnnzX"
      },
      "source": [
        "### Loan Amount - Missing Values"
      ]
    },
    {
      "cell_type": "code",
      "metadata": {
        "_uuid": "fcbb19c2595a65d3e1261b1b6437520c40bc98f2",
        "id": "KVNTg0E4nnzY",
        "colab": {
          "base_uri": "https://localhost:8080/"
        },
        "outputId": "e113efd1-e19f-4b99-ec02-54bdc27d7c1d"
      },
      "source": [
        "# percent of missing \"LoanAmount\" \n",
        "print('Percent of missing \"LoanAmount\" records is %.2f%%' %((data['LoanAmount'].isnull().sum()/data.shape[0])*100))"
      ],
      "execution_count": 15,
      "outputs": [
        {
          "output_type": "stream",
          "name": "stdout",
          "text": [
            "Percent of missing \"LoanAmount\" records is 3.58%\n"
          ]
        }
      ]
    },
    {
      "cell_type": "code",
      "metadata": {
        "_uuid": "ffcd2b660b6b6adbda5b18b889e89b4fb143740a",
        "id": "Q4THYxyinnzY",
        "colab": {
          "base_uri": "https://localhost:8080/",
          "height": 281
        },
        "outputId": "d91869bd-bfa7-4b3b-cc6c-ca0c4cdbb1c9"
      },
      "source": [
        "ax = data[\"LoanAmount\"].hist(density=True, stacked=True, color='teal', alpha=0.6)\n",
        "data[\"LoanAmount\"].plot(kind='density', color='teal')\n",
        "ax.set(xlabel='Loan Amount')\n",
        "plt.show()"
      ],
      "execution_count": 16,
      "outputs": [
        {
          "output_type": "display_data",
          "data": {
            "image/png": "[encoded data removed]",
            "text/plain": [
              "<Figure size 432x288 with 1 Axes>"
            ]
          },
          "metadata": {
            "needs_background": "light"
          }
        }
      ]
    },
    {
      "cell_type": "markdown",
      "metadata": {
        "_uuid": "1c16347a28874c9f42a4318fde99d72d8b7f9aec",
        "id": "eFeBWPRVnnzZ"
      },
      "source": [
        "### Loan Amount Term - Missing Values"
      ]
    },
    {
      "cell_type": "code",
      "metadata": {
        "_uuid": "b4a13ee07542e0935af012981768e8638ce6b96b",
        "id": "uUBtvqplnnzZ",
        "colab": {
          "base_uri": "https://localhost:8080/"
        },
        "outputId": "7e61bbbe-7868-4990-c5c8-623c7aeb7d15"
      },
      "source": [
        "# percent of missing \"Loan_Amount_Term\" \n",
        "print('Percent of missing \"Loan_Amount_Term\" records is %.2f%%' %((data['Loan_Amount_Term'].isnull().sum()/data.shape[0])*100))"
      ],
      "execution_count": 17,
      "outputs": [
        {
          "output_type": "stream",
          "name": "stdout",
          "text": [
            "Percent of missing \"Loan_Amount_Term\" records is 2.28%\n"
          ]
        }
      ]
    },
    {
      "cell_type": "code",
      "metadata": {
        "_uuid": "7b4aa34e32450f8d209ac3ba0e56183b3ef57c1e",
        "id": "6hljCOPmnnza",
        "colab": {
          "base_uri": "https://localhost:8080/",
          "height": 506
        },
        "outputId": "b114e298-7d2e-4cca-9470-e98093c58cd1"
      },
      "source": [
        "print(\"Number of people who take a loan group by loan amount term :\")\n",
        "print(data['Loan_Amount_Term'].value_counts())\n",
        "sns.countplot(x='Loan_Amount_Term', data=data, palette = 'Set2')"
      ],
      "execution_count": 18,
      "outputs": [
        {
          "output_type": "stream",
          "name": "stdout",
          "text": [
            "Number of people who take a loan group by loan amount term :\n",
            "360.0    512\n",
            "180.0     44\n",
            "480.0     15\n",
            "300.0     13\n",
            "84.0       4\n",
            "240.0      4\n",
            "120.0      3\n",
            "36.0       2\n",
            "60.0       2\n",
            "12.0       1\n",
            "Name: Loan_Amount_Term, dtype: int64\n"
          ]
        },
        {
          "output_type": "execute_result",
          "data": {
            "text/plain": [
              "<matplotlib.axes._subplots.AxesSubplot at 0x7f7b56ed0090>"
            ]
          },
          "metadata": {},
          "execution_count": 18
        },
        {
          "output_type": "display_data",
          "data": {
            "image/png": "[encoded data removed]",
            "text/plain": [
              "<Figure size 432x288 with 1 Axes>"
            ]
          },
          "metadata": {
            "needs_background": "light"
          }
        }
      ]
    },
    {
      "cell_type": "markdown",
      "metadata": {
        "_uuid": "271bd0c5dd009d6634c24fbda01c7bb5d446d4be",
        "id": "7W7EYK-Ynnza"
      },
      "source": [
        "### Credit History - Missing Values"
      ]
    },
    {
      "cell_type": "code",
      "metadata": {
        "_uuid": "fa5bc77fe10bd79ad31aa041e8f3e9a3daffba50",
        "id": "D2hXX6WTnnza",
        "colab": {
          "base_uri": "https://localhost:8080/"
        },
        "outputId": "3486d874-b678-4d57-e1ce-4a0eb32a845f"
      },
      "source": [
        "# percent of missing \"Credit_History\" \n",
        "print('Percent of missing \"Credit_History\" records is %.2f%%' %((data['Credit_History'].isnull().sum()/data.shape[0])*100))"
      ],
      "execution_count": 19,
      "outputs": [
        {
          "output_type": "stream",
          "name": "stdout",
          "text": [
            "Percent of missing \"Credit_History\" records is 8.14%\n"
          ]
        }
      ]
    },
    {
      "cell_type": "code",
      "metadata": {
        "_uuid": "f0ec5086f833408b1d0d78d230487f3f738b4c30",
        "id": "1gE8x7jxnnzb",
        "colab": {
          "base_uri": "https://localhost:8080/",
          "height": 367
        },
        "outputId": "f0d3c94c-9ffa-4c82-c535-39ff98eb6ec5"
      },
      "source": [
        "print(\"Number of people who take a loan group by credit history :\")\n",
        "print(data['Credit_History'].value_counts())\n",
        "sns.countplot(x='Credit_History', data=data, palette = 'Set2')"
      ],
      "execution_count": 20,
      "outputs": [
        {
          "output_type": "stream",
          "name": "stdout",
          "text": [
            "Number of people who take a loan group by credit history :\n",
            "1.0    475\n",
            "0.0     89\n",
            "Name: Credit_History, dtype: int64\n"
          ]
        },
        {
          "output_type": "execute_result",
          "data": {
            "text/plain": [
              "<matplotlib.axes._subplots.AxesSubplot at 0x7f7b54d1d610>"
            ]
          },
          "metadata": {},
          "execution_count": 20
        },
        {
          "output_type": "display_data",
          "data": {
            "image/png": "[encoded data removed]",
            "text/plain": [
              "<Figure size 432x288 with 1 Axes>"
            ]
          },
          "metadata": {
            "needs_background": "light"
          }
        }
      ]
    },
    {
      "cell_type": "markdown",
      "metadata": {
        "_uuid": "d6b6caf4423c775dc60f1abe216f6e9db95d6060",
        "id": "28So1Kb-nnzb"
      },
      "source": [
        "## 3. Final Adjustments to Data"
      ]
    },
    {
      "cell_type": "markdown",
      "metadata": {
        "_uuid": "d4a0ecb7f501aba4876fe445fb0fd8544507d677",
        "id": "dKkmIrjOnnzb"
      },
      "source": [
        "Based on my assessment of the missing values in the dataset, I'll make the following changes to the data:\n",
        "\n",
        "* If \"Gender\" is missing for a given row, I'll impute with Male (most common answer).\n",
        "* If \"Married\" is missing for a given row, I'll impute with yes (most common answer).\n",
        "* If \"Dependents\" is missing for a given row, I'll impute with 0 (most common answer).\n",
        "* If \"Self_Employed\" is missing for a given row, I'll impute with no (most common answer).\n",
        "* If \"LoanAmount\" is missing for a given row, I'll impute with mean of data.\n",
        "* If \"Loan_Amount_Term\" is missing for a given row, I'll impute with 360 (most common answer).\n",
        "* If \"Credit_History\" is missing for a given row, I'll impute with 1.0 (most common answer)."
      ]
    },
    {
      "cell_type": "code",
      "metadata": {
        "_uuid": "894e949b6643bfb68a1240612554d63f8589569a",
        "id": "5SUGig92nnzb"
      },
      "source": [
        "#adding most common values for missing values (rather than removing data altogether)\n",
        "train_data = data.copy()\n",
        "train_data['Gender'].fillna(train_data['Gender'].value_counts().idxmax(), inplace=True)\n",
        "train_data['Married'].fillna(train_data['Married'].value_counts().idxmax(), inplace=True)\n",
        "train_data['Dependents'].fillna(train_data['Dependents'].value_counts().idxmax(), inplace=True)\n",
        "train_data['Self_Employed'].fillna(train_data['Self_Employed'].value_counts().idxmax(), inplace=True)\n",
        "train_data[\"LoanAmount\"].fillna(train_data[\"LoanAmount\"].mean(skipna=True), inplace=True)\n",
        "train_data['Loan_Amount_Term'].fillna(train_data['Loan_Amount_Term'].value_counts().idxmax(), inplace=True)\n",
        "train_data['Credit_History'].fillna(train_data['Credit_History'].value_counts().idxmax(), inplace=True)"
      ],
      "execution_count": 31,
      "outputs": []
    },
    {
      "cell_type": "code",
      "metadata": {
        "_uuid": "d6497eb5c19496010dee1624ee1ff9e6c36d6c78",
        "id": "OlZqpoEYnnzb",
        "colab": {
          "base_uri": "https://localhost:8080/",
          "height": 704
        },
        "outputId": "96696e67-99e8-4c4e-99c1-3957e83a43c3"
      },
      "source": [
        "#Check missing values\n",
        "print(train_data.isnull().sum())\n",
        "train_data"
      ],
      "execution_count": 32,
      "outputs": [
        {
          "output_type": "stream",
          "name": "stdout",
          "text": [
            "Loan_ID              0\n",
            "Gender               0\n",
            "Married              0\n",
            "Dependents           0\n",
            "Education            0\n",
            "Self_Employed        0\n",
            "ApplicantIncome      0\n",
            "CoapplicantIncome    0\n",
            "LoanAmount           0\n",
            "Loan_Amount_Term     0\n",
            "Credit_History       0\n",
            "Property_Area        0\n",
            "Loan_Status          0\n",
            "dtype: int64\n"
          ]
        },
        {
          "output_type": "execute_result",
          "data": {
            "text/html": [
              "<div>\n",
              "<style scoped>\n",
              "    .dataframe tbody tr th:only-of-type {\n",
              "        vertical-align: middle;\n",
              "    }\n",
              "\n",
              "    .dataframe tbody tr th {\n",
              "        vertical-align: top;\n",
              "    }\n",
              "\n",
              "    .dataframe thead th {\n",
              "        text-align: right;\n",
              "    }\n",
              "</style>\n",
              "<table border=\"1\" class=\"dataframe\">\n",
              "  <thead>\n",
              "    <tr style=\"text-align: right;\">\n",
              "      <th></th>\n",
              "      <th>Loan_ID</th>\n",
              "      <th>Gender</th>\n",
              "      <th>Married</th>\n",
              "      <th>Dependents</th>\n",
              "      <th>Education</th>\n",
              "      <th>Self_Employed</th>\n",
              "      <th>ApplicantIncome</th>\n",
              "      <th>CoapplicantIncome</th>\n",
              "      <th>LoanAmount</th>\n",
              "      <th>Loan_Amount_Term</th>\n",
              "      <th>Credit_History</th>\n",
              "      <th>Property_Area</th>\n",
              "      <th>Loan_Status</th>\n",
              "    </tr>\n",
              "  </thead>\n",
              "  <tbody>\n",
              "    <tr>\n",
              "      <th>0</th>\n",
              "      <td>LP001002</td>\n",
              "      <td>Male</td>\n",
              "      <td>No</td>\n",
              "      <td>0</td>\n",
              "      <td>Graduate</td>\n",
              "      <td>No</td>\n",
              "      <td>5849</td>\n",
              "      <td>0.0</td>\n",
              "      <td>146.412162</td>\n",
              "      <td>360.0</td>\n",
              "      <td>1.0</td>\n",
              "      <td>Urban</td>\n",
              "      <td>Y</td>\n",
              "    </tr>\n",
              "    <tr>\n",
              "      <th>1</th>\n",
              "      <td>LP001003</td>\n",
              "      <td>Male</td>\n",
              "      <td>Yes</td>\n",
              "      <td>1</td>\n",
              "      <td>Graduate</td>\n",
              "      <td>No</td>\n",
              "      <td>4583</td>\n",
              "      <td>1508.0</td>\n",
              "      <td>128.000000</td>\n",
              "      <td>360.0</td>\n",
              "      <td>1.0</td>\n",
              "      <td>Rural</td>\n",
              "      <td>N</td>\n",
              "    </tr>\n",
              "    <tr>\n",
              "      <th>2</th>\n",
              "      <td>LP001005</td>\n",
              "      <td>Male</td>\n",
              "      <td>Yes</td>\n",
              "      <td>0</td>\n",
              "      <td>Graduate</td>\n",
              "      <td>Yes</td>\n",
              "      <td>3000</td>\n",
              "      <td>0.0</td>\n",
              "      <td>66.000000</td>\n",
              "      <td>360.0</td>\n",
              "      <td>1.0</td>\n",
              "      <td>Urban</td>\n",
              "      <td>Y</td>\n",
              "    </tr>\n",
              "    <tr>\n",
              "      <th>3</th>\n",
              "      <td>LP001006</td>\n",
              "      <td>Male</td>\n",
              "      <td>Yes</td>\n",
              "      <td>0</td>\n",
              "      <td>Not Graduate</td>\n",
              "      <td>No</td>\n",
              "      <td>2583</td>\n",
              "      <td>2358.0</td>\n",
              "      <td>120.000000</td>\n",
              "      <td>360.0</td>\n",
              "      <td>1.0</td>\n",
              "      <td>Urban</td>\n",
              "      <td>Y</td>\n",
              "    </tr>\n",
              "    <tr>\n",
              "      <th>4</th>\n",
              "      <td>LP001008</td>\n",
              "      <td>Male</td>\n",
              "      <td>No</td>\n",
              "      <td>0</td>\n",
              "      <td>Graduate</td>\n",
              "      <td>No</td>\n",
              "      <td>6000</td>\n",
              "      <td>0.0</td>\n",
              "      <td>141.000000</td>\n",
              "      <td>360.0</td>\n",
              "      <td>1.0</td>\n",
              "      <td>Urban</td>\n",
              "      <td>Y</td>\n",
              "    </tr>\n",
              "    <tr>\n",
              "      <th>...</th>\n",
              "      <td>...</td>\n",
              "      <td>...</td>\n",
              "      <td>...</td>\n",
              "      <td>...</td>\n",
              "      <td>...</td>\n",
              "      <td>...</td>\n",
              "      <td>...</td>\n",
              "      <td>...</td>\n",
              "      <td>...</td>\n",
              "      <td>...</td>\n",
              "      <td>...</td>\n",
              "      <td>...</td>\n",
              "      <td>...</td>\n",
              "    </tr>\n",
              "    <tr>\n",
              "      <th>609</th>\n",
              "      <td>LP002978</td>\n",
              "      <td>Female</td>\n",
              "      <td>No</td>\n",
              "      <td>0</td>\n",
              "      <td>Graduate</td>\n",
              "      <td>No</td>\n",
              "      <td>2900</td>\n",
              "      <td>0.0</td>\n",
              "      <td>71.000000</td>\n",
              "      <td>360.0</td>\n",
              "      <td>1.0</td>\n",
              "      <td>Rural</td>\n",
              "      <td>Y</td>\n",
              "    </tr>\n",
              "    <tr>\n",
              "      <th>610</th>\n",
              "      <td>LP002979</td>\n",
              "      <td>Male</td>\n",
              "      <td>Yes</td>\n",
              "      <td>3+</td>\n",
              "      <td>Graduate</td>\n",
              "      <td>No</td>\n",
              "      <td>4106</td>\n",
              "      <td>0.0</td>\n",
              "      <td>40.000000</td>\n",
              "      <td>180.0</td>\n",
              "      <td>1.0</td>\n",
              "      <td>Rural</td>\n",
              "      <td>Y</td>\n",
              "    </tr>\n",
              "    <tr>\n",
              "      <th>611</th>\n",
              "      <td>LP002983</td>\n",
              "      <td>Male</td>\n",
              "      <td>Yes</td>\n",
              "      <td>1</td>\n",
              "      <td>Graduate</td>\n",
              "      <td>No</td>\n",
              "      <td>8072</td>\n",
              "      <td>240.0</td>\n",
              "      <td>253.000000</td>\n",
              "      <td>360.0</td>\n",
              "      <td>1.0</td>\n",
              "      <td>Urban</td>\n",
              "      <td>Y</td>\n",
              "    </tr>\n",
              "    <tr>\n",
              "      <th>612</th>\n",
              "      <td>LP002984</td>\n",
              "      <td>Male</td>\n",
              "      <td>Yes</td>\n",
              "      <td>2</td>\n",
              "      <td>Graduate</td>\n",
              "      <td>No</td>\n",
              "      <td>7583</td>\n",
              "      <td>0.0</td>\n",
              "      <td>187.000000</td>\n",
              "      <td>360.0</td>\n",
              "      <td>1.0</td>\n",
              "      <td>Urban</td>\n",
              "      <td>Y</td>\n",
              "    </tr>\n",
              "    <tr>\n",
              "      <th>613</th>\n",
              "      <td>LP002990</td>\n",
              "      <td>Female</td>\n",
              "      <td>No</td>\n",
              "      <td>0</td>\n",
              "      <td>Graduate</td>\n",
              "      <td>Yes</td>\n",
              "      <td>4583</td>\n",
              "      <td>0.0</td>\n",
              "      <td>133.000000</td>\n",
              "      <td>360.0</td>\n",
              "      <td>0.0</td>\n",
              "      <td>Semiurban</td>\n",
              "      <td>N</td>\n",
              "    </tr>\n",
              "  </tbody>\n",
              "</table>\n",
              "<p>614 rows × 13 columns</p>\n",
              "</div>"
            ],
            "text/plain": [
              "      Loan_ID  Gender Married  ... Credit_History Property_Area Loan_Status\n",
              "0    LP001002    Male      No  ...            1.0         Urban           Y\n",
              "1    LP001003    Male     Yes  ...            1.0         Rural           N\n",
              "2    LP001005    Male     Yes  ...            1.0         Urban           Y\n",
              "3    LP001006    Male     Yes  ...            1.0         Urban           Y\n",
              "4    LP001008    Male      No  ...            1.0         Urban           Y\n",
              "..        ...     ...     ...  ...            ...           ...         ...\n",
              "609  LP002978  Female      No  ...            1.0         Rural           Y\n",
              "610  LP002979    Male     Yes  ...            1.0         Rural           Y\n",
              "611  LP002983    Male     Yes  ...            1.0         Urban           Y\n",
              "612  LP002984    Male     Yes  ...            1.0         Urban           Y\n",
              "613  LP002990  Female      No  ...            0.0     Semiurban           N\n",
              "\n",
              "[614 rows x 13 columns]"
            ]
          },
          "metadata": {},
          "execution_count": 32
        }
      ]
    },
    {
      "cell_type": "code",
      "metadata": {
        "_uuid": "556b9633cc888422761516ae59964cccfefcca12",
        "id": "88018bZ9nnzc"
      },
      "source": [
        "#Convert some object data type to int64\n",
        "gender_stat = {'Female': 0, 'Male': 1}\n",
        "yes_no_stat = {'No' : 0,'Yes' : 1}\n",
        "#converting string number to int number  \n",
        "dependents_stat = {'0':0,'1':1,'2':2,'3+':3}\n",
        "#converting string number to binary\n",
        "education_stat = {'Not Graduate' : 0, 'Graduate' : 1}\n",
        "#converting string number to categorical number\n",
        "property_stat = {'Semiurban' : 0, 'Urban' : 1,'Rural' : 2}\n",
        "\n",
        "train_data['Gender'] = train_data['Gender'].replace(gender_stat)\n",
        "train_data['Married'] = train_data['Married'].replace(yes_no_stat)\n",
        "train_data['Dependents'] = train_data['Dependents'].replace(dependents_stat)\n",
        "train_data['Education'] = train_data['Education'].replace(education_stat)\n",
        "train_data['Self_Employed'] = train_data['Self_Employed'].replace(yes_no_stat)\n",
        "train_data['Property_Area'] = train_data['Property_Area'].replace(property_stat)"
      ],
      "execution_count": 33,
      "outputs": []
    },
    {
      "cell_type": "code",
      "metadata": {
        "_uuid": "9596d1c29586e3ece73c7a2725a11610e55ab31b",
        "id": "KTFGUkFunnzc",
        "colab": {
          "base_uri": "https://localhost:8080/"
        },
        "outputId": "dbcd2539-ccca-4803-a8e9-958e27cccd5d"
      },
      "source": [
        "#Preview train_data information\n",
        "train_data.info()\n",
        "train_data.isnull().sum()"
      ],
      "execution_count": 34,
      "outputs": [
        {
          "output_type": "stream",
          "name": "stdout",
          "text": [
            "<class 'pandas.core.frame.DataFrame'>\n",
            "RangeIndex: 614 entries, 0 to 613\n",
            "Data columns (total 13 columns):\n",
            " #   Column             Non-Null Count  Dtype  \n",
            "---  ------             --------------  -----  \n",
            " 0   Loan_ID            614 non-null    object \n",
            " 1   Gender             614 non-null    int64  \n",
            " 2   Married            614 non-null    int64  \n",
            " 3   Dependents         614 non-null    int64  \n",
            " 4   Education          614 non-null    int64  \n",
            " 5   Self_Employed      614 non-null    int64  \n",
            " 6   ApplicantIncome    614 non-null    int64  \n",
            " 7   CoapplicantIncome  614 non-null    float64\n",
            " 8   LoanAmount         614 non-null    float64\n",
            " 9   Loan_Amount_Term   614 non-null    float64\n",
            " 10  Credit_History     614 non-null    float64\n",
            " 11  Property_Area      614 non-null    int64  \n",
            " 12  Loan_Status        614 non-null    object \n",
            "dtypes: float64(4), int64(7), object(2)\n",
            "memory usage: 62.5+ KB\n"
          ]
        },
        {
          "output_type": "execute_result",
          "data": {
            "text/plain": [
              "Loan_ID              0\n",
              "Gender               0\n",
              "Married              0\n",
              "Dependents           0\n",
              "Education            0\n",
              "Self_Employed        0\n",
              "ApplicantIncome      0\n",
              "CoapplicantIncome    0\n",
              "LoanAmount           0\n",
              "Loan_Amount_Term     0\n",
              "Credit_History       0\n",
              "Property_Area        0\n",
              "Loan_Status          0\n",
              "dtype: int64"
            ]
          },
          "metadata": {},
          "execution_count": 34
        }
      ]
    },
    {
      "cell_type": "markdown",
      "metadata": {
        "_uuid": "9268ba0999065f44586f186bbb19b35eb6050ccf",
        "id": "3jiqGEa7nnzc"
      },
      "source": [
        "## 4. Making Prediction"
      ]
    },
    {
      "cell_type": "code",
      "metadata": {
        "_uuid": "4857dbf76cad98f1b4442e89ba48af6eada56c0f",
        "id": "MoGqIFa_nnzd"
      },
      "source": [
        "#Separate feature and target\n",
        "x = train_data.iloc[:,1:12]\n",
        "y = train_data.iloc[:,12]\n",
        "\n",
        "#make variabel for save the result and to show it\n",
        "classifier = ('Random Forest','Decision Tree','K-Nearest Neighbor','SVM')\n",
        "y_pos = np.arange(len(classifier))\n",
        "score = []"
      ],
      "execution_count": 35,
      "outputs": []
    },
    {
      "cell_type": "code",
      "metadata": {
        "_uuid": "5aad2f3c6d5a3e456f3d3455521174ff65a073e8",
        "id": "IKT8QYyxnnzd",
        "colab": {
          "base_uri": "https://localhost:8080/"
        },
        "outputId": "a6fad192-3b78-454b-c136-5d05ae507be7"
      },
      "source": [
        "clf = RandomForestClassifier(n_estimators=10)\n",
        "scores = cross_val_score(clf, x, y,cv=5)\n",
        "score.append(scores.mean())\n",
        "print('The accuracy of classification is %.2f%%' %(scores.mean()*100))"
      ],
      "execution_count": 36,
      "outputs": [
        {
          "output_type": "stream",
          "name": "stdout",
          "text": [
            "The accuracy of classification is 75.24%\n"
          ]
        }
      ]
    },
    {
      "cell_type": "code",
      "metadata": {
        "_uuid": "0e99d94b69e7794753e3f07f6e56e2cf20f817dd",
        "id": "uwHSrD2onnzd",
        "colab": {
          "base_uri": "https://localhost:8080/"
        },
        "outputId": "b0b64e61-c455-49e7-af7c-b27365b7d8ee"
      },
      "source": [
        "clf = DecisionTreeClassifier()\n",
        "scores = cross_val_score(clf, x, y,cv=5)\n",
        "score.append(scores.mean())\n",
        "print('The accuracy of classification is %.2f%%' %(scores.mean()*100))"
      ],
      "execution_count": 37,
      "outputs": [
        {
          "output_type": "stream",
          "name": "stdout",
          "text": [
            "The accuracy of classification is 70.20%\n"
          ]
        }
      ]
    },
    {
      "cell_type": "code",
      "metadata": {
        "_uuid": "95e4847005cb343fd68dc69607d83ae9ad854ca4",
        "id": "F6uCev9qnnzd",
        "colab": {
          "base_uri": "https://localhost:8080/"
        },
        "outputId": "1d666760-9687-46d9-f04f-a42464fb988a"
      },
      "source": [
        "clf = KNeighborsClassifier()\n",
        "scores = cross_val_score(clf, x, y,cv=5)\n",
        "score.append(scores.mean())\n",
        "print('The accuracy of classification is %.2f%%' %(scores.mean()*100))"
      ],
      "execution_count": 38,
      "outputs": [
        {
          "output_type": "stream",
          "name": "stdout",
          "text": [
            "The accuracy of classification is 61.40%\n"
          ]
        }
      ]
    },
    {
      "cell_type": "code",
      "metadata": {
        "_uuid": "dd5da2e32cf29b3c93aaaeae6092d4206de3b8b3",
        "id": "IhmNCZiCnnze",
        "colab": {
          "base_uri": "https://localhost:8080/"
        },
        "outputId": "abc8eba5-c412-46f8-b914-543884000152"
      },
      "source": [
        "clf  =  svm.LinearSVC(max_iter=5000)\n",
        "scores = cross_val_score(clf, x, y,cv=5)\n",
        "score.append(scores.mean())\n",
        "print('The accuracy of classification is %.2f%%' %(scores.mean()*100))"
      ],
      "execution_count": 39,
      "outputs": [
        {
          "output_type": "stream",
          "name": "stderr",
          "text": [
            "/usr/local/lib/python3.7/dist-packages/sklearn/svm/_base.py:1208: ConvergenceWarning: Liblinear failed to converge, increase the number of iterations.\n",
            "  ConvergenceWarning,\n",
            "/usr/local/lib/python3.7/dist-packages/sklearn/svm/_base.py:1208: ConvergenceWarning: Liblinear failed to converge, increase the number of iterations.\n",
            "  ConvergenceWarning,\n",
            "/usr/local/lib/python3.7/dist-packages/sklearn/svm/_base.py:1208: ConvergenceWarning: Liblinear failed to converge, increase the number of iterations.\n",
            "  ConvergenceWarning,\n",
            "/usr/local/lib/python3.7/dist-packages/sklearn/svm/_base.py:1208: ConvergenceWarning: Liblinear failed to converge, increase the number of iterations.\n",
            "  ConvergenceWarning,\n"
          ]
        },
        {
          "output_type": "stream",
          "name": "stdout",
          "text": [
            "The accuracy of classification is 57.02%\n"
          ]
        },
        {
          "output_type": "stream",
          "name": "stderr",
          "text": [
            "/usr/local/lib/python3.7/dist-packages/sklearn/svm/_base.py:1208: ConvergenceWarning: Liblinear failed to converge, increase the number of iterations.\n",
            "  ConvergenceWarning,\n"
          ]
        }
      ]
    },
    {
      "cell_type": "markdown",
      "metadata": {
        "_uuid": "727b51cb08b3f67e1776338c4da069403409991a",
        "id": "ai8uRnu3nnze"
      },
      "source": [
        "## 5. Result"
      ]
    },
    {
      "cell_type": "code",
      "metadata": {
        "_uuid": "1f66e16f6710d84718975d736355d74896c43365",
        "collapsed": true,
        "id": "OClSWFCqnnze",
        "colab": {
          "base_uri": "https://localhost:8080/",
          "height": 295
        },
        "outputId": "6788b291-18f0-4f7d-e74c-4631c495bc66"
      },
      "source": [
        "plt.barh(y_pos, score, align='center', alpha=0.5)\n",
        "plt.yticks(y_pos, classifier)\n",
        "plt.xlabel('Score')\n",
        "plt.title('Classification Performance')\n",
        "plt.show()"
      ],
      "execution_count": 40,
      "outputs": [
        {
          "output_type": "display_data",
          "data": {
            "image/png": "[encoded data removed]",
            "text/plain": [
              "<Figure size 432x288 with 1 Axes>"
            ]
          },
          "metadata": {
            "needs_background": "light"
          }
        }
      ]
    },
    {
      "cell_type": "code",
      "metadata": {
        "id": "en9OTe0K2Lfp"
      },
      "source": [
        "# Which Classifier Had the Highest Score?\n",
        "Random Forest"
      ],
      "execution_count": null,
      "outputs": []
    },
    {
      "cell_type": "markdown",
      "metadata": {
        "_uuid": "2e83b45b7a98c92b96225087b71bc0d837a5980c",
        "id": "j5WOy5efnnze"
      },
      "source": [
        "## Reference\n",
        "1. J. Heo and J. Y. Yang, \"AdaBoost Based Bankruptcy Forecasting of Korean Construction Company,\" Applied Soft Computing, vol. 24, pp. 494-499, 2014.\n",
        "2. C.-F. Tsai, \"Feature Selection in Bankruptcy Prediction,\" Knowledge Based System, pp. 120-127, 2009."
      ]
    },
    {
      "cell_type": "code",
      "metadata": {
        "_uuid": "d4ae21e8ef642e43387cbe2b9c5bedef8f367f78",
        "collapsed": true,
        "id": "Mhb7sfE4nnzf"
      },
      "source": [
        ""
      ],
      "execution_count": null,
      "outputs": []
    }
  ]
}