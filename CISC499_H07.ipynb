{
  "nbformat": 4,
  "nbformat_minor": 0,
  "metadata": {
    "colab": {
      "name": "CISC499-H07.ipynb",
      "provenance": [],
      "collapsed_sections": [],
      "include_colab_link": true
    },
    "kernelspec": {
      "name": "python3",
      "display_name": "Python 3"
    },
    "language_info": {
      "name": "python"
    }
  },
  "cells": [
    {
      "cell_type": "markdown",
      "metadata": {
        "id": "view-in-github",
        "colab_type": "text"
      },
      "source": [
        "<a href=\"https://colab.research.google.com/github/RobDeutsche/CISC499/blob/main/CISC499_H07.ipynb\" target=\"_parent\"><img src=\"https://colab.research.google.com/assets/colab-badge.svg\" alt=\"Open In Colab\"/></a>"
      ]
    },
    {
      "cell_type": "markdown",
      "metadata": {
        "id": "PaoyeZeGUT9z"
      },
      "source": [
        "Task #1: This sentence has a typo ('Mahcine' is mispelled).  Edit this text cell and correct it: **Machine Learning and Data Science**\n"
      ]
    },
    {
      "cell_type": "markdown",
      "metadata": {
        "id": "G8GcBiC2U8y8"
      },
      "source": [
        "Task #2: Run the statement below to calculate the result."
      ]
    },
    {
      "cell_type": "code",
      "metadata": {
        "id": "BfEei4XwUSXc"
      },
      "source": [
        "print(\"Hello World!\")"
      ],
      "execution_count": null,
      "outputs": []
    },
    {
      "cell_type": "markdown",
      "metadata": {
        "id": "IwlNSsW2VFbD"
      },
      "source": [
        "Task #3: Update the message in the text so that it greets you instead of me."
      ]
    },
    {
      "cell_type": "code",
      "metadata": {
        "id": "Et00R3zvUIr9"
      },
      "source": [
        "print (\"Hello Chuck!\")"
      ],
      "execution_count": null,
      "outputs": []
    },
    {
      "cell_type": "markdown",
      "metadata": {
        "id": "1G3yOnQjVSpn"
      },
      "source": [
        "Task #4: The code statement below is intended to calculate the number of minutes in a day (60 minutes in an hour, 24 hours in a day), but it isn't correct.  It should be 1440.  Fix it so that it will correctly display the number of minutes in a day."
      ]
    },
    {
      "cell_type": "code",
      "metadata": {
        "id": "PvAfbIjDVgFp"
      },
      "source": [
        "minutes_in_day = 6 * 24\n",
        "print(\"There are \" + str(minutes_in_day) + \" minutes in a day\")"
      ],
      "execution_count": null,
      "outputs": []
    },
    {
      "cell_type": "markdown",
      "metadata": {
        "id": "3PYKudHLWQ1m"
      },
      "source": [
        "Task #5: Fix the syntax error in the statement below.  \n",
        "It should be</br>\n",
        "```\n",
        "print(\"Hello World\")\n",
        "```"
      ]
    },
    {
      "cell_type": "code",
      "metadata": {
        "id": "8YSuRzyCWA9A"
      },
      "source": [
        "print('Hello World')"
      ],
      "execution_count": null,
      "outputs": []
    },
    {
      "cell_type": "markdown",
      "metadata": {
        "id": "A14IpVBQbthf"
      },
      "source": [
        "Task #6: Change the statement below so that it prints hello"
      ]
    },
    {
      "cell_type": "code",
      "metadata": {
        "id": "1nkyI9CZb_Dw"
      },
      "source": [
        "x = 'hello'\n",
        "print(x)"
      ],
      "execution_count": null,
      "outputs": []
    },
    {
      "cell_type": "markdown",
      "metadata": {
        "id": "L8vhNfAocFKV"
      },
      "source": [
        "Task #7: Change the operation below from addition to subtraction"
      ]
    },
    {
      "cell_type": "code",
      "metadata": {
        "id": "nngQKyYpcYlt"
      },
      "source": [
        "x = 4 - 3\n",
        "print(x)"
      ],
      "execution_count": null,
      "outputs": []
    },
    {
      "cell_type": "markdown",
      "metadata": {
        "id": "nJ2J2BBeccCj"
      },
      "source": [
        "Task #8: Change the operation below from multiplication to division"
      ]
    },
    {
      "cell_type": "code",
      "metadata": {
        "id": "6JIhZORycg-T"
      },
      "source": [
        "x = 4 / 3\n",
        "print(x)"
      ],
      "execution_count": null,
      "outputs": []
    },
    {
      "cell_type": "markdown",
      "metadata": {
        "id": "6AppPq2vckWt"
      },
      "source": [
        "Task #9: Change the operation below from division to integer-division"
      ]
    },
    {
      "cell_type": "code",
      "metadata": {
        "id": "yuRo2QDEcpBf"
      },
      "source": [
        "y = 4 // 3\n",
        "print(y)"
      ],
      "execution_count": null,
      "outputs": []
    },
    {
      "cell_type": "markdown",
      "metadata": {
        "id": "8NZ9d-HWcxLI"
      },
      "source": [
        "Task #10: Change the operation below from integer-division to modulus (%)"
      ]
    },
    {
      "cell_type": "code",
      "metadata": {
        "id": "s7nxEcXJc2n2"
      },
      "source": [
        "y = 4 % 3\n",
        "print(y)"
      ],
      "execution_count": null,
      "outputs": []
    },
    {
      "cell_type": "markdown",
      "metadata": {
        "id": "Q3QwpNImc82b"
      },
      "source": [
        "Task #11: You can use the '+' operator to concatenate strings.  Use it to combine the two strings in the code below."
      ]
    },
    {
      "cell_type": "code",
      "metadata": {
        "id": "hxPEwYscdwip"
      },
      "source": [
        "string1 = 'Artificial '\n",
        "string2 = 'Intelligence '\n",
        "string3 = string1 + string2 # <-- Place your code here.  It should look like: string1 + string2\n",
        "print(string3)"
      ],
      "execution_count": null,
      "outputs": []
    },
    {
      "cell_type": "markdown",
      "metadata": {
        "id": "ZfaGOSMpeBcY"
      },
      "source": [
        "Task #12: It's been a while since we've used x & y, but they are still available.  Add them together and display the results below."
      ]
    },
    {
      "cell_type": "code",
      "metadata": {
        "id": "CD2zhV2OeUt5"
      },
      "source": [
        "print(x)\n",
        "print(y)\n",
        "print(x+y)# Add your code for #12 here"
      ],
      "execution_count": null,
      "outputs": []
    },
    {
      "cell_type": "markdown",
      "metadata": {
        "id": "80ndHVjyebnw"
      },
      "source": [
        "Task #13: Raise 2 to the power of 8.  Remember! in Python the exponent operator is **\n"
      ]
    },
    {
      "cell_type": "code",
      "metadata": {
        "id": "4TXiml_Ner8N"
      },
      "source": [
        "2**8 # Add your code for #13 here"
      ],
      "execution_count": null,
      "outputs": []
    },
    {
      "cell_type": "markdown",
      "metadata": {
        "id": "nj69g1ynewy7"
      },
      "source": [
        "Task #14: Calculate the decimal value of the maximum size of a byte.  See the lesson on Number Systems if you're not sure how to do this."
      ]
    },
    {
      "cell_type": "code",
      "metadata": {
        "id": "Nn9Ll78pfJ1B"
      },
      "source": [
        "2**0+2**1+2**2+2**3+2**4+2**5+2**6+2**7  # Add your code for #14 here"
      ],
      "execution_count": null,
      "outputs": []
    },
    {
      "cell_type": "markdown",
      "metadata": {
        "id": "5VfgNQD2fIOZ"
      },
      "source": [
        "Task #15: Variables hold their values and can be re-used.  The statements below add 1 to the original number 3 times.  Change it from adding 1 to adding 2."
      ]
    },
    {
      "cell_type": "code",
      "metadata": {
        "id": "qQJ1NTRnfzbR"
      },
      "source": [
        "x = 3\n",
        "x = x + 2\n",
        "x = x + 2\n",
        "x = x + 2\n",
        "print(x)"
      ],
      "execution_count": null,
      "outputs": []
    },
    {
      "cell_type": "markdown",
      "metadata": {
        "id": "FBSsizNEf76i"
      },
      "source": [
        "Task #16: Variable names can be almost anything, but generally begin with a lowercase letter.  Change the variable name from my last name to yours."
      ]
    },
    {
      "cell_type": "code",
      "metadata": {
        "id": "IFnYXPcKgLir"
      },
      "source": [
        "chuck = 'Awesome!'"
      ],
      "execution_count": null,
      "outputs": []
    },
    {
      "cell_type": "markdown",
      "metadata": {
        "id": "uq7vSCCOgPM5"
      },
      "source": [
        "Task #17: Don't confuse the variable name with the string literal.  Change the string literal in the code below to \"moon\""
      ]
    },
    {
      "cell_type": "code",
      "metadata": {
        "id": "3sEbg7f0gpnI"
      },
      "source": [
        "night = 'moon'\n",
        "print(night)"
      ],
      "execution_count": null,
      "outputs": []
    },
    {
      "cell_type": "markdown",
      "metadata": {
        "id": "R4S3f6xoguIk"
      },
      "source": [
        "Task #18: Use the code cell below to calculate the remainder of 13 divided by 7"
      ]
    },
    {
      "cell_type": "code",
      "metadata": {
        "id": "PC_b-cYLg95u"
      },
      "source": [
        "13%7# Add your code for #18 here"
      ],
      "execution_count": null,
      "outputs": []
    },
    {
      "cell_type": "markdown",
      "metadata": {
        "id": "BYAmtIj5hCpC"
      },
      "source": [
        "Task #19: A program is similar to a recipe.  Modify the program below so that it bakes 325 for 40 minutes."
      ]
    },
    {
      "cell_type": "code",
      "metadata": {
        "id": "N2wEzXb9iIiW"
      },
      "source": [
        "flour = \"1 cup flour \"\n",
        "salt = \"1 teaspoon salt \"\n",
        "oil = \"2 tablespoons oil \"\n",
        "baking_soda = \"1 teaspoon baking soda \"\n",
        "mix = flour + salt + oil + baking_soda\n",
        "instructions = mix + \" at 325 for 20 minutes\"\n",
        "bake = instructions\n",
        "print(bake)"
      ],
      "execution_count": null,
      "outputs": []
    },
    {
      "cell_type": "markdown",
      "metadata": {
        "id": "ha9Etc-UjFrn"
      },
      "source": [
        "Task #20: Write your own recipe in the code cell below."
      ]
    },
    {
      "cell_type": "code",
      "metadata": {
        "id": "Zz99eczIjOFI"
      },
      "source": [
        "# Add your code for #20 here"
      ],
      "execution_count": null,
      "outputs": []
    }
  ]
}